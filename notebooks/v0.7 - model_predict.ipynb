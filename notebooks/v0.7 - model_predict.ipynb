{
 "cells": [
  {
   "cell_type": "markdown",
   "id": "7de0dcd9",
   "metadata": {
    "heading_collapsed": true
   },
   "source": [
    "##  0.0. Objetivo do Problema:\n"
   ]
  },
  {
   "cell_type": "markdown",
   "id": "67ce93a8",
   "metadata": {
    "hidden": true
   },
   "source": [
    "-- 1.0. Previsao do primeiro destino que um novo usuário irá escolher.\n",
    "\n",
    "-- Porque?\n",
    "    -- Qual tipo de modelo de negócio do Airbnb? \n",
    "    \n",
    "    \n",
    "        - Marketplace ( Conectar pessoas que oferecem acomodacao, com pessoas que estao procurando acomodacao)\n",
    "        - Oferta ( pessoas oferecendo acomodacao )\n",
    "            - Tamanho do portfólio.\n",
    "            - Diversidade/Densidade de Portfólio.\n",
    "            - Preco Medio\n",
    "\n",
    "        - Demanda ( pessoas procurando acomodacao )\n",
    "            - Numero de Usuários\n",
    "            - LTV ( Lifetime Value )\n",
    "            - CAC ( Client Acquisition Cost )\n",
    "\n",
    "\n",
    "           Gross Revenue = ( Fee * Numero cliente ) - CAC "
   ]
  },
  {
   "cell_type": "markdown",
   "id": "c1da6949",
   "metadata": {
    "ExecuteTime": {
     "end_time": "2022-03-01T20:30:12.443684Z",
     "start_time": "2022-03-01T20:30:12.440371Z"
    },
    "heading_collapsed": true
   },
   "source": [
    "##  0.1. Proposta de solução:\n"
   ]
  },
  {
   "cell_type": "markdown",
   "id": "433a4335",
   "metadata": {
    "hidden": true
   },
   "source": [
    "--- Modelo de Predizao do primeiro destino de um novo usario.\n",
    "\n",
    "- 1.0. Predicoes e salva em tabela do banco de dados. \n",
    "- 2.0. API \n",
    "        --- Input: usuario e suas caracteristicas\n",
    "        --- Output: usuario e suas caracteristicas com a **predicao do destino**\n",
    "\n",
    "--- 16 ciclos"
   ]
  },
  {
   "cell_type": "markdown",
   "id": "0d82f8d8",
   "metadata": {},
   "source": [
    "# <font color ='red'> 1.0. Imports </font> "
   ]
  },
  {
   "cell_type": "code",
   "execution_count": 12,
   "id": "32732f51",
   "metadata": {
    "ExecuteTime": {
     "end_time": "2022-03-13T06:20:11.743380Z",
     "start_time": "2022-03-13T06:20:11.658397Z"
    }
   },
   "outputs": [],
   "source": [
    "import random\n",
    "import pickle \n",
    "\n",
    "import pandas                                             as pd\n",
    "import seaborn                                            as sns\n",
    "import numpy                                              as np\n",
    "import matplotlib.pyplot                                  as plt\n",
    "\n",
    "from sklearn                    import model_selection    as ms\n",
    "from sklearn                    import preprocessing      as pp\n",
    "from sklearn                    import metrics            as m\n",
    "\n",
    "from category_encoders          import TargetEncoder\n",
    "\n",
    "\n",
    "from scikitplot                 import metrics            as mt\n",
    "from scipy                      import stats              as ss\n",
    "\n",
    "from keras                      import models             as ml\n",
    "from keras                      import layers             as l\n",
    "\n",
    "from imblearn                   import under_sampling     as us\n",
    "from imblearn                   import over_sampling      as oversamp\n",
    "from imblearn                   import combine            as c\n",
    "\n",
    "from IPython.core.display       import HTML\n",
    "from pandas_profiling           import ProfileReport       \n",
    "\n",
    "import warnings\n",
    "\n",
    "warnings.filterwarnings(\"ignore\")\n",
    "\n"
   ]
  },
  {
   "cell_type": "markdown",
   "id": "2694816c",
   "metadata": {
    "code_folding": []
   },
   "source": [
    "## 1.1. Helper Function"
   ]
  },
  {
   "cell_type": "code",
   "execution_count": 3,
   "id": "dae4dd33",
   "metadata": {
    "ExecuteTime": {
     "end_time": "2022-03-13T05:22:16.334479Z",
     "start_time": "2022-03-13T05:22:16.321702Z"
    }
   },
   "outputs": [
    {
     "data": {
      "text/html": [
       "<style>.container{width:100% !important;}</style>"
      ],
      "text/plain": [
       "<IPython.core.display.HTML object>"
      ]
     },
     "metadata": {},
     "output_type": "display_data"
    }
   ],
   "source": [
    "def my_settings():\n",
    "    %matplotlib inline\n",
    "    \n",
    "    # plotly settings\n",
    "    plt.style.use( 'bmh' )\n",
    "    plt.rcParams['figure.figsize'] = [25, 12]\n",
    "    plt.rcParams['font.size'] = 8\n",
    " \n",
    "    # notebook settings\n",
    "    display(HTML('<style>.container{width:100% !important;}</style>'))\n",
    "    np.set_printoptions(suppress=True)\n",
    "    pd.set_option('display.float_format', '{:.5f}'.format)\n",
    "    \n",
    "    # seaborn settings\n",
    "    sns.set(rc={'figure.figsize':(25,12)})\n",
    "    sns.set_theme(style = 'darkgrid', font_scale = 1)\n",
    "    \n",
    "my_settings()"
   ]
  },
  {
   "cell_type": "code",
   "execution_count": 4,
   "id": "21998bb6",
   "metadata": {
    "ExecuteTime": {
     "end_time": "2022-03-13T05:22:20.458932Z",
     "start_time": "2022-03-13T05:22:20.454870Z"
    }
   },
   "outputs": [],
   "source": [
    " # correlation 2 categorical variables \n",
    "    \n",
    "def cramer_v( x, y ):\n",
    "    cm = pd.crosstab( x, y ).values\n",
    "    n = cm.sum()\n",
    "    r, k = cm.shape\n",
    "    \n",
    "    chi2 = ss.chi2_contingency( cm )[0]\n",
    "    chi2corr = max( 0, chi2 - (k-1)*(r-1)/(n-1) )\n",
    "    \n",
    "    kcorr = k - (k-1)**2/(n-1)\n",
    "    rcorr = r - (r-1)**2/(n-1)\n",
    "    \n",
    "    return np.sqrt( (chi2corr/n) / ( min( kcorr-1, rcorr-1 ) ) )"
   ]
  },
  {
   "cell_type": "markdown",
   "id": "4c1ca6eb",
   "metadata": {},
   "source": [
    "## 1.2. Loading Data"
   ]
  },
  {
   "cell_type": "code",
   "execution_count": 4,
   "id": "fd88b18b",
   "metadata": {
    "ExecuteTime": {
     "end_time": "2022-03-11T16:25:56.184655Z",
     "start_time": "2022-03-11T16:25:50.446655Z"
    }
   },
   "outputs": [],
   "source": [
    "df_raw = pd.read_csv('~/repositorio/airbnb_predict/data/raw/train_users_2.csv', low_memory=True)\n",
    "df_sessions = pd.read_csv('~/repositorio/airbnb_predict/data/raw/sessions.csv', low_memory=True)"
   ]
  },
  {
   "cell_type": "markdown",
   "id": "5bffffcb",
   "metadata": {},
   "source": [
    "# 2.0. Data Description\n"
   ]
  },
  {
   "cell_type": "code",
   "execution_count": 5,
   "id": "4a91f175",
   "metadata": {
    "ExecuteTime": {
     "end_time": "2022-03-11T16:25:58.118308Z",
     "start_time": "2022-03-11T16:25:58.106043Z"
    }
   },
   "outputs": [],
   "source": [
    "df2 = df_raw.copy()"
   ]
  },
  {
   "cell_type": "code",
   "execution_count": 6,
   "id": "3076f7cf",
   "metadata": {
    "ExecuteTime": {
     "end_time": "2022-03-11T16:25:58.852302Z",
     "start_time": "2022-03-11T16:25:58.848423Z"
    },
    "scrolled": true
   },
   "outputs": [
    {
     "name": "stdout",
     "output_type": "stream",
     "text": [
      "Number of rows: 213451\n",
      "Number of columns: 16\n"
     ]
    }
   ],
   "source": [
    "print('Number of rows: {}'.format(df2.shape[0]))\n",
    "print('Number of columns: {}'.format(df2.shape[1]))"
   ]
  },
  {
   "cell_type": "code",
   "execution_count": 7,
   "id": "7a1f0b53",
   "metadata": {
    "ExecuteTime": {
     "end_time": "2022-03-11T16:25:59.532459Z",
     "start_time": "2022-03-11T16:25:59.528918Z"
    }
   },
   "outputs": [
    {
     "name": "stdout",
     "output_type": "stream",
     "text": [
      "Number of rows: 10567737\n",
      "Number of columns: 6\n"
     ]
    }
   ],
   "source": [
    "print('Number of rows: {}'.format(df_sessions.shape[0]))\n",
    "print('Number of columns: {}'.format(df_sessions.shape[1]))"
   ]
  },
  {
   "cell_type": "markdown",
   "id": "6ee02498",
   "metadata": {},
   "source": [
    "## 2.1. Data Type\n"
   ]
  },
  {
   "cell_type": "code",
   "execution_count": 8,
   "id": "062ece54",
   "metadata": {
    "ExecuteTime": {
     "end_time": "2022-03-11T16:26:00.764708Z",
     "start_time": "2022-03-11T16:26:00.758667Z"
    },
    "scrolled": true
   },
   "outputs": [
    {
     "data": {
      "text/plain": [
       "id                          object\n",
       "date_account_created        object\n",
       "timestamp_first_active       int64\n",
       "date_first_booking          object\n",
       "gender                      object\n",
       "age                        float64\n",
       "signup_method               object\n",
       "signup_flow                  int64\n",
       "language                    object\n",
       "affiliate_channel           object\n",
       "affiliate_provider          object\n",
       "first_affiliate_tracked     object\n",
       "signup_app                  object\n",
       "first_device_type           object\n",
       "first_browser               object\n",
       "country_destination         object\n",
       "dtype: object"
      ]
     },
     "execution_count": 8,
     "metadata": {},
     "output_type": "execute_result"
    }
   ],
   "source": [
    "df2.dtypes"
   ]
  },
  {
   "cell_type": "code",
   "execution_count": 9,
   "id": "0f3a7996",
   "metadata": {
    "ExecuteTime": {
     "end_time": "2022-03-11T16:26:02.107508Z",
     "start_time": "2022-03-11T16:26:02.101935Z"
    }
   },
   "outputs": [
    {
     "data": {
      "text/plain": [
       "user_id           object\n",
       "action            object\n",
       "action_type       object\n",
       "action_detail     object\n",
       "device_type       object\n",
       "secs_elapsed     float64\n",
       "dtype: object"
      ]
     },
     "execution_count": 9,
     "metadata": {},
     "output_type": "execute_result"
    }
   ],
   "source": [
    "df_sessions.dtypes"
   ]
  },
  {
   "cell_type": "markdown",
   "id": "2d50917b",
   "metadata": {},
   "source": [
    "## 2.2. NA Check\n"
   ]
  },
  {
   "cell_type": "code",
   "execution_count": 10,
   "id": "5eeff391",
   "metadata": {
    "ExecuteTime": {
     "end_time": "2022-03-11T16:26:05.710394Z",
     "start_time": "2022-03-11T16:26:05.632849Z"
    },
    "scrolled": false
   },
   "outputs": [
    {
     "data": {
      "text/plain": [
       "id                        0.00000\n",
       "date_account_created      0.00000\n",
       "timestamp_first_active    0.00000\n",
       "date_first_booking        0.58347\n",
       "gender                    0.00000\n",
       "age                       0.41223\n",
       "signup_method             0.00000\n",
       "signup_flow               0.00000\n",
       "language                  0.00000\n",
       "affiliate_channel         0.00000\n",
       "affiliate_provider        0.00000\n",
       "first_affiliate_tracked   0.02841\n",
       "signup_app                0.00000\n",
       "first_device_type         0.00000\n",
       "first_browser             0.00000\n",
       "country_destination       0.00000\n",
       "dtype: float64"
      ]
     },
     "execution_count": 10,
     "metadata": {},
     "output_type": "execute_result"
    }
   ],
   "source": [
    "df2.isna().sum() / len(df2)"
   ]
  },
  {
   "cell_type": "code",
   "execution_count": 11,
   "id": "49d5d8a7",
   "metadata": {
    "ExecuteTime": {
     "end_time": "2022-03-11T16:26:07.979364Z",
     "start_time": "2022-03-11T16:26:06.708822Z"
    }
   },
   "outputs": [
    {
     "data": {
      "text/plain": [
       "user_id         0.00326\n",
       "action          0.00753\n",
       "action_type     0.10657\n",
       "action_detail   0.10657\n",
       "device_type     0.00000\n",
       "secs_elapsed    0.01287\n",
       "dtype: float64"
      ]
     },
     "execution_count": 11,
     "metadata": {},
     "output_type": "execute_result"
    }
   ],
   "source": [
    "df_sessions.isna().sum() / len(df_sessions)"
   ]
  },
  {
   "cell_type": "code",
   "execution_count": 14,
   "id": "3cd9e5f3",
   "metadata": {
    "ExecuteTime": {
     "end_time": "2022-03-10T17:19:26.522194Z",
     "start_time": "2022-03-10T17:19:26.519496Z"
    }
   },
   "outputs": [],
   "source": [
    "# aux = df_sessions[df_sessions['secs_elapsed'] < 0.25e6]"
   ]
  },
  {
   "cell_type": "code",
   "execution_count": 15,
   "id": "e8b805f9",
   "metadata": {
    "ExecuteTime": {
     "end_time": "2022-03-10T17:19:26.531952Z",
     "start_time": "2022-03-10T17:19:26.523916Z"
    },
    "scrolled": true
   },
   "outputs": [],
   "source": [
    "# sns.distplot(aux['secs_elapsed'])"
   ]
  },
  {
   "cell_type": "code",
   "execution_count": 16,
   "id": "f9301fc4",
   "metadata": {
    "ExecuteTime": {
     "end_time": "2022-03-10T17:19:26.540935Z",
     "start_time": "2022-03-10T17:19:26.534607Z"
    }
   },
   "outputs": [],
   "source": [
    "# sns.distplot(df2[df2['age'] < 65] ['age'])"
   ]
  },
  {
   "cell_type": "code",
   "execution_count": 12,
   "id": "281de3d6",
   "metadata": {
    "ExecuteTime": {
     "end_time": "2022-03-11T16:26:14.684281Z",
     "start_time": "2022-03-11T16:26:10.962204Z"
    },
    "scrolled": true
   },
   "outputs": [],
   "source": [
    "# remove missing value completly\n",
    "\n",
    "# df2 = df2.dropna()\n",
    "\n",
    "# ==================== User ======================\n",
    "# date_first_booking\n",
    "date_first_booking_max = pd.to_datetime(df2['date_first_booking']).max().strftime('%Y%m%d')\n",
    "df2['date_first_booking'] = df2['date_first_booking'].fillna(date_first_booking_max)\n",
    "                                \n",
    "# age\n",
    "df2 = df2[( df2['age'] > 15 ) & ( df2['age'] < 120 )]\n",
    "avg_age = df2['age'].mean()   \n",
    "df2['age'] = df2['age'].fillna(avg_age)\n",
    "\n",
    "# first_affiliate_tracked\n",
    "df2 = df2[~df2['first_affiliate_tracked'].isna()]     \n",
    "\n",
    "# ==================== Sessions ======================\n",
    "# user_id          0.003 %\n",
    "df_sessions = df_sessions[~df_sessions['user_id'].isna()]     \n",
    "\n",
    "# action           0.007 %\n",
    "df_sessions = df_sessions[~df_sessions['action'].isna()]     \n",
    "\n",
    "# action_type      0.106 %\n",
    "df_sessions = df_sessions[~df_sessions['action_type'].isna()]     \n",
    "\n",
    "# action_detail    0.106 %\n",
    "df_sessions = df_sessions[~df_sessions['action_detail'].isna()]     \n",
    "\n",
    "# device_type      0.000 %\n",
    "df_sessions = df_sessions[~df_sessions['device_type'].isna()]     \n",
    "\n",
    "# secs_elapsed     0.012 %\n",
    "df_sessions = df_sessions[~df_sessions['secs_elapsed'].isna()]     \n",
    "\n",
    "\n",
    "                                "
   ]
  },
  {
   "cell_type": "markdown",
   "id": "c74ea85a",
   "metadata": {},
   "source": [
    "## 2.3. Change Data Type\n"
   ]
  },
  {
   "cell_type": "code",
   "execution_count": 13,
   "id": "7cf7c922",
   "metadata": {
    "ExecuteTime": {
     "end_time": "2022-03-11T16:26:15.429685Z",
     "start_time": "2022-03-11T16:26:15.082765Z"
    }
   },
   "outputs": [],
   "source": [
    "# 'date_account_created'\n",
    "df2['date_account_created'] = pd.to_datetime(df2['date_account_created'])\n",
    "\n",
    "# 'timestamp_first_active'\n",
    "df2['timestamp_first_active'] = pd.to_datetime(df2['timestamp_first_active'], format = '%Y%m%d%H%M%S')\n",
    "\n",
    "# 'date_first_booking'\n",
    "df2['date_first_booking'] = pd.to_datetime(df2['date_first_booking'])\n",
    "\n",
    "# 'age'\n",
    "df2['age'] = df2['age'].astype('int64')\n"
   ]
  },
  {
   "cell_type": "markdown",
   "id": "62b364bb",
   "metadata": {},
   "source": [
    "## 2.4. Check Balanced Data\n"
   ]
  },
  {
   "cell_type": "code",
   "execution_count": 14,
   "id": "df1598cb",
   "metadata": {
    "ExecuteTime": {
     "end_time": "2022-03-11T16:26:18.559970Z",
     "start_time": "2022-03-11T16:26:18.549606Z"
    },
    "scrolled": true
   },
   "outputs": [
    {
     "data": {
      "text/plain": [
       "NDF     0.44727\n",
       "US      0.39187\n",
       "other   0.06125\n",
       "FR      0.02992\n",
       "IT      0.01642\n",
       "GB      0.01434\n",
       "ES      0.01374\n",
       "CA      0.00868\n",
       "DE      0.00686\n",
       "NL      0.00485\n",
       "AU      0.00353\n",
       "PT      0.00128\n",
       "Name: country_destination, dtype: float64"
      ]
     },
     "execution_count": 14,
     "metadata": {},
     "output_type": "execute_result"
    }
   ],
   "source": [
    "df2['country_destination'].value_counts(normalize=True)"
   ]
  },
  {
   "cell_type": "markdown",
   "id": "b5399083",
   "metadata": {},
   "source": [
    "## 2.5. Descriptive Analysis"
   ]
  },
  {
   "cell_type": "code",
   "execution_count": 15,
   "id": "e9d0a667",
   "metadata": {
    "ExecuteTime": {
     "end_time": "2022-03-11T16:26:20.973009Z",
     "start_time": "2022-03-11T16:26:20.394195Z"
    }
   },
   "outputs": [],
   "source": [
    "\n",
    "#====================== Users ===========================\n",
    "num_att = df2.select_dtypes(include = ['int64','float64'])\n",
    "cat_att = df2.select_dtypes(exclude = ['int64','float64', 'datetime64[ns]'])\n",
    "time_att = df2.select_dtypes(include = ['datetime64[ns]'])\n",
    "\n",
    "#==================== Sessions ==========================\n",
    "num_att_sessions = df_sessions.select_dtypes(include = ['int64','float64'])\n",
    "cat_att_sessions = df_sessions.select_dtypes(exclude = ['int64','float64', 'datetime64[ns]'])\n",
    "time_att_sessions = df_sessions.select_dtypes(include = ['datetime64[ns]'])\n"
   ]
  },
  {
   "cell_type": "markdown",
   "id": "394b09b5",
   "metadata": {},
   "source": [
    "### 2.5.1 Numerical - Users"
   ]
  },
  {
   "cell_type": "code",
   "execution_count": 16,
   "id": "aa18703d",
   "metadata": {
    "ExecuteTime": {
     "end_time": "2022-03-11T16:26:26.733029Z",
     "start_time": "2022-03-11T16:26:26.680932Z"
    }
   },
   "outputs": [
    {
     "data": {
      "text/html": [
       "<div>\n",
       "<style scoped>\n",
       "    .dataframe tbody tr th:only-of-type {\n",
       "        vertical-align: middle;\n",
       "    }\n",
       "\n",
       "    .dataframe tbody tr th {\n",
       "        vertical-align: top;\n",
       "    }\n",
       "\n",
       "    .dataframe thead th {\n",
       "        text-align: right;\n",
       "    }\n",
       "</style>\n",
       "<table border=\"1\" class=\"dataframe\">\n",
       "  <thead>\n",
       "    <tr style=\"text-align: right;\">\n",
       "      <th></th>\n",
       "      <th>attributes</th>\n",
       "      <th>min</th>\n",
       "      <th>max</th>\n",
       "      <th>range</th>\n",
       "      <th>mean</th>\n",
       "      <th>median</th>\n",
       "      <th>std</th>\n",
       "      <th>skew</th>\n",
       "      <th>kustosis</th>\n",
       "    </tr>\n",
       "  </thead>\n",
       "  <tbody>\n",
       "    <tr>\n",
       "      <th>0</th>\n",
       "      <td>age</td>\n",
       "      <td>16.00000</td>\n",
       "      <td>115.00000</td>\n",
       "      <td>99.00000</td>\n",
       "      <td>37.40559</td>\n",
       "      <td>34.00000</td>\n",
       "      <td>13.93984</td>\n",
       "      <td>2.08972</td>\n",
       "      <td>6.51647</td>\n",
       "    </tr>\n",
       "    <tr>\n",
       "      <th>1</th>\n",
       "      <td>signup_flow</td>\n",
       "      <td>0.00000</td>\n",
       "      <td>25.00000</td>\n",
       "      <td>25.00000</td>\n",
       "      <td>2.51951</td>\n",
       "      <td>0.00000</td>\n",
       "      <td>6.60470</td>\n",
       "      <td>2.70587</td>\n",
       "      <td>5.92830</td>\n",
       "    </tr>\n",
       "  </tbody>\n",
       "</table>\n",
       "</div>"
      ],
      "text/plain": [
       "    attributes      min       max    range     mean   median      std    skew  \\\n",
       "0          age 16.00000 115.00000 99.00000 37.40559 34.00000 13.93984 2.08972   \n",
       "1  signup_flow  0.00000  25.00000 25.00000  2.51951  0.00000  6.60470 2.70587   \n",
       "\n",
       "   kustosis  \n",
       "0   6.51647  \n",
       "1   5.92830  "
      ]
     },
     "execution_count": 16,
     "metadata": {},
     "output_type": "execute_result"
    }
   ],
   "source": [
    "# Central tendency - mean , median\n",
    "ct1 = pd.DataFrame(num_att.apply(np.mean)).T\n",
    "ct2 = pd.DataFrame(num_att.apply(np.median)).T\n",
    "\n",
    "# Dispersion - std , min , max , range , skew , kurtosis\n",
    "d1 = pd.DataFrame(num_att.apply(np.std)).T\n",
    "d2 = pd.DataFrame(num_att.apply(min)).T\n",
    "d3 = pd.DataFrame(num_att.apply(max)).T\n",
    "d4 = pd.DataFrame(num_att.apply(lambda x: x.max() - x.min())).T\n",
    "d5 = pd.DataFrame(num_att.apply(lambda x: x.skew())).T\n",
    "d6 = pd.DataFrame(num_att.apply(lambda x: x.kurtosis())).T\n",
    "\n",
    "# concatenate\n",
    "m = pd.concat([d2,d3,d4,ct1,ct2,d1,d5,d6]).T.reset_index()\n",
    "m.columns =['attributes','min','max','range','mean','median','std','skew','kustosis']\n",
    "m"
   ]
  },
  {
   "cell_type": "markdown",
   "id": "c9996ff5",
   "metadata": {},
   "source": [
    "### 2.5.1 Numerical - Sessions"
   ]
  },
  {
   "cell_type": "code",
   "execution_count": 17,
   "id": "3dd19857",
   "metadata": {
    "ExecuteTime": {
     "end_time": "2022-03-11T16:26:34.830455Z",
     "start_time": "2022-03-11T16:26:33.382704Z"
    }
   },
   "outputs": [
    {
     "data": {
      "text/html": [
       "<div>\n",
       "<style scoped>\n",
       "    .dataframe tbody tr th:only-of-type {\n",
       "        vertical-align: middle;\n",
       "    }\n",
       "\n",
       "    .dataframe tbody tr th {\n",
       "        vertical-align: top;\n",
       "    }\n",
       "\n",
       "    .dataframe thead th {\n",
       "        text-align: right;\n",
       "    }\n",
       "</style>\n",
       "<table border=\"1\" class=\"dataframe\">\n",
       "  <thead>\n",
       "    <tr style=\"text-align: right;\">\n",
       "      <th></th>\n",
       "      <th>attributes</th>\n",
       "      <th>min</th>\n",
       "      <th>max</th>\n",
       "      <th>range</th>\n",
       "      <th>mean</th>\n",
       "      <th>median</th>\n",
       "      <th>std</th>\n",
       "      <th>skew</th>\n",
       "      <th>kustosis</th>\n",
       "    </tr>\n",
       "  </thead>\n",
       "  <tbody>\n",
       "    <tr>\n",
       "      <th>0</th>\n",
       "      <td>secs_elapsed</td>\n",
       "      <td>0.00000</td>\n",
       "      <td>1799977.00000</td>\n",
       "      <td>1799977.00000</td>\n",
       "      <td>19961.82510</td>\n",
       "      <td>1369.00000</td>\n",
       "      <td>88849.38845</td>\n",
       "      <td>11.13776</td>\n",
       "      <td>154.84312</td>\n",
       "    </tr>\n",
       "  </tbody>\n",
       "</table>\n",
       "</div>"
      ],
      "text/plain": [
       "     attributes     min           max         range        mean     median  \\\n",
       "0  secs_elapsed 0.00000 1799977.00000 1799977.00000 19961.82510 1369.00000   \n",
       "\n",
       "          std     skew  kustosis  \n",
       "0 88849.38845 11.13776 154.84312  "
      ]
     },
     "execution_count": 17,
     "metadata": {},
     "output_type": "execute_result"
    }
   ],
   "source": [
    "# Central tendency - mean , median\n",
    "ct1 = pd.DataFrame(num_att_sessions.apply(np.mean)).T\n",
    "ct2 = pd.DataFrame(num_att_sessions.apply(np.median)).T\n",
    "\n",
    "# Dispersion - std , min , max , range , skew , kurtosis\n",
    "d1 = pd.DataFrame(num_att_sessions.apply(np.std)).T\n",
    "d2 = pd.DataFrame(num_att_sessions.apply(min)).T\n",
    "d3 = pd.DataFrame(num_att_sessions.apply(max)).T\n",
    "d4 = pd.DataFrame(num_att_sessions.apply(lambda x: x.max() - x.min())).T\n",
    "d5 = pd.DataFrame(num_att_sessions.apply(lambda x: x.skew())).T\n",
    "d6 = pd.DataFrame(num_att_sessions.apply(lambda x: x.kurtosis())).T\n",
    "\n",
    "# concatenate\n",
    "m = pd.concat([d2,d3,d4,ct1,ct2,d1,d5,d6]).T.reset_index()\n",
    "m.columns =['attributes','min','max','range','mean','median','std','skew','kustosis']\n",
    "m"
   ]
  },
  {
   "cell_type": "markdown",
   "id": "43aa0092",
   "metadata": {},
   "source": [
    "### 2.5.3 Categorical - Users"
   ]
  },
  {
   "cell_type": "code",
   "execution_count": 18,
   "id": "8e3a2962",
   "metadata": {
    "ExecuteTime": {
     "end_time": "2022-03-11T16:26:38.013382Z",
     "start_time": "2022-03-11T16:26:37.904116Z"
    }
   },
   "outputs": [
    {
     "data": {
      "text/html": [
       "<div>\n",
       "<style scoped>\n",
       "    .dataframe tbody tr th:only-of-type {\n",
       "        vertical-align: middle;\n",
       "    }\n",
       "\n",
       "    .dataframe tbody tr th {\n",
       "        vertical-align: top;\n",
       "    }\n",
       "\n",
       "    .dataframe thead th {\n",
       "        text-align: right;\n",
       "    }\n",
       "</style>\n",
       "<table border=\"1\" class=\"dataframe\">\n",
       "  <thead>\n",
       "    <tr style=\"text-align: right;\">\n",
       "      <th></th>\n",
       "      <th>gender</th>\n",
       "      <th>signup_method</th>\n",
       "      <th>language</th>\n",
       "      <th>affiliate_channel</th>\n",
       "      <th>affiliate_provider</th>\n",
       "      <th>first_affiliate_tracked</th>\n",
       "      <th>signup_app</th>\n",
       "      <th>first_device_type</th>\n",
       "      <th>first_browser</th>\n",
       "      <th>country_destination</th>\n",
       "    </tr>\n",
       "  </thead>\n",
       "  <tbody>\n",
       "    <tr>\n",
       "      <th>count</th>\n",
       "      <td>122636</td>\n",
       "      <td>122636</td>\n",
       "      <td>122636</td>\n",
       "      <td>122636</td>\n",
       "      <td>122636</td>\n",
       "      <td>122636</td>\n",
       "      <td>122636</td>\n",
       "      <td>122636</td>\n",
       "      <td>122636</td>\n",
       "      <td>122636</td>\n",
       "    </tr>\n",
       "    <tr>\n",
       "      <th>unique</th>\n",
       "      <td>4</td>\n",
       "      <td>3</td>\n",
       "      <td>25</td>\n",
       "      <td>8</td>\n",
       "      <td>17</td>\n",
       "      <td>7</td>\n",
       "      <td>4</td>\n",
       "      <td>9</td>\n",
       "      <td>41</td>\n",
       "      <td>12</td>\n",
       "    </tr>\n",
       "    <tr>\n",
       "      <th>top</th>\n",
       "      <td>FEMALE</td>\n",
       "      <td>basic</td>\n",
       "      <td>en</td>\n",
       "      <td>direct</td>\n",
       "      <td>direct</td>\n",
       "      <td>untracked</td>\n",
       "      <td>Web</td>\n",
       "      <td>Mac Desktop</td>\n",
       "      <td>Chrome</td>\n",
       "      <td>NDF</td>\n",
       "    </tr>\n",
       "    <tr>\n",
       "      <th>freq</th>\n",
       "      <td>56362</td>\n",
       "      <td>66039</td>\n",
       "      <td>118205</td>\n",
       "      <td>79093</td>\n",
       "      <td>78954</td>\n",
       "      <td>64712</td>\n",
       "      <td>108283</td>\n",
       "      <td>57943</td>\n",
       "      <td>41778</td>\n",
       "      <td>54852</td>\n",
       "    </tr>\n",
       "  </tbody>\n",
       "</table>\n",
       "</div>"
      ],
      "text/plain": [
       "        gender signup_method language affiliate_channel affiliate_provider  \\\n",
       "count   122636        122636   122636            122636             122636   \n",
       "unique       4             3       25                 8                 17   \n",
       "top     FEMALE         basic       en            direct             direct   \n",
       "freq     56362         66039   118205             79093              78954   \n",
       "\n",
       "       first_affiliate_tracked signup_app first_device_type first_browser  \\\n",
       "count                   122636     122636            122636        122636   \n",
       "unique                       7          4                 9            41   \n",
       "top                  untracked        Web       Mac Desktop        Chrome   \n",
       "freq                     64712     108283             57943         41778   \n",
       "\n",
       "       country_destination  \n",
       "count               122636  \n",
       "unique                  12  \n",
       "top                    NDF  \n",
       "freq                 54852  "
      ]
     },
     "execution_count": 18,
     "metadata": {},
     "output_type": "execute_result"
    }
   ],
   "source": [
    "cat_att.drop('id', axis = 1).describe()"
   ]
  },
  {
   "cell_type": "markdown",
   "id": "077417dd",
   "metadata": {},
   "source": [
    "### 2.5.4 Categorical - Sessions"
   ]
  },
  {
   "cell_type": "code",
   "execution_count": 19,
   "id": "3f2e3ecc",
   "metadata": {
    "ExecuteTime": {
     "end_time": "2022-03-11T16:26:44.368121Z",
     "start_time": "2022-03-11T16:26:41.840715Z"
    },
    "scrolled": true
   },
   "outputs": [
    {
     "data": {
      "text/html": [
       "<div>\n",
       "<style scoped>\n",
       "    .dataframe tbody tr th:only-of-type {\n",
       "        vertical-align: middle;\n",
       "    }\n",
       "\n",
       "    .dataframe tbody tr th {\n",
       "        vertical-align: top;\n",
       "    }\n",
       "\n",
       "    .dataframe thead th {\n",
       "        text-align: right;\n",
       "    }\n",
       "</style>\n",
       "<table border=\"1\" class=\"dataframe\">\n",
       "  <thead>\n",
       "    <tr style=\"text-align: right;\">\n",
       "      <th></th>\n",
       "      <th>action</th>\n",
       "      <th>action_type</th>\n",
       "      <th>action_detail</th>\n",
       "      <th>device_type</th>\n",
       "    </tr>\n",
       "  </thead>\n",
       "  <tbody>\n",
       "    <tr>\n",
       "      <th>count</th>\n",
       "      <td>9213930</td>\n",
       "      <td>9213930</td>\n",
       "      <td>9213930</td>\n",
       "      <td>9213930</td>\n",
       "    </tr>\n",
       "    <tr>\n",
       "      <th>unique</th>\n",
       "      <td>347</td>\n",
       "      <td>10</td>\n",
       "      <td>155</td>\n",
       "      <td>14</td>\n",
       "    </tr>\n",
       "    <tr>\n",
       "      <th>top</th>\n",
       "      <td>show</td>\n",
       "      <td>view</td>\n",
       "      <td>view_search_results</td>\n",
       "      <td>Mac Desktop</td>\n",
       "    </tr>\n",
       "    <tr>\n",
       "      <th>freq</th>\n",
       "      <td>2178382</td>\n",
       "      <td>3545621</td>\n",
       "      <td>1770931</td>\n",
       "      <td>3019523</td>\n",
       "    </tr>\n",
       "  </tbody>\n",
       "</table>\n",
       "</div>"
      ],
      "text/plain": [
       "         action action_type        action_detail  device_type\n",
       "count   9213930     9213930              9213930      9213930\n",
       "unique      347          10                  155           14\n",
       "top        show        view  view_search_results  Mac Desktop\n",
       "freq    2178382     3545621              1770931      3019523"
      ]
     },
     "execution_count": 19,
     "metadata": {},
     "output_type": "execute_result"
    }
   ],
   "source": [
    "cat_att_sessions.drop('user_id', axis = 1).describe()"
   ]
  },
  {
   "cell_type": "code",
   "execution_count": 20,
   "id": "68bffa9d",
   "metadata": {
    "ExecuteTime": {
     "end_time": "2022-03-11T16:27:07.984484Z",
     "start_time": "2022-03-11T16:26:44.430649Z"
    }
   },
   "outputs": [],
   "source": [
    "# list of atrributes for Cramer's V correlation\n",
    "\n",
    "cat_att_list = cat_att_sessions.drop('user_id',axis = 1).columns.to_list()\n",
    "\n",
    "corr_dict = {}\n",
    "\n",
    "for i in range(len(cat_att_list)):\n",
    "    corr_list = []\n",
    "    for j in range(len(cat_att_list)):\n",
    "        ref  = cat_att_list[i]\n",
    "        feat = cat_att_list[j]\n",
    "        corr = cramer_v(cat_att_sessions[ref], cat_att_sessions[feat])\n",
    "        corr_list.append(corr)\n",
    "        \n",
    "        corr_dict[ref] = corr_list"
   ]
  },
  {
   "cell_type": "code",
   "execution_count": 26,
   "id": "2f43000a",
   "metadata": {
    "ExecuteTime": {
     "end_time": "2022-03-10T17:20:00.822420Z",
     "start_time": "2022-03-10T17:20:00.526841Z"
    }
   },
   "outputs": [
    {
     "data": {
      "text/plain": [
       "<AxesSubplot:>"
      ]
     },
     "execution_count": 26,
     "metadata": {},
     "output_type": "execute_result"
    },
    {
     "data": {
      "image/png": "[encoded data removed]",
      "text/plain": [
       "<Figure size 1800x864 with 2 Axes>"
      ]
     },
     "metadata": {},
     "output_type": "display_data"
    }
   ],
   "source": [
    "d = pd.DataFrame(corr_dict)\n",
    "d = d.set_index(d.columns)\n",
    "sns.heatmap(d , annot= True)"
   ]
  },
  {
   "cell_type": "markdown",
   "id": "790759dd",
   "metadata": {},
   "source": [
    "# 3.0.  Feature Engineering\n"
   ]
  },
  {
   "cell_type": "code",
   "execution_count": 29,
   "id": "8d1f5dc5",
   "metadata": {
    "ExecuteTime": {
     "end_time": "2022-03-11T16:29:14.538967Z",
     "start_time": "2022-03-11T16:29:14.528298Z"
    }
   },
   "outputs": [],
   "source": [
    "df3 = df2.copy()"
   ]
  },
  {
   "cell_type": "markdown",
   "id": "098eab9c",
   "metadata": {},
   "source": [
    "## 3.1. Create New Features"
   ]
  },
  {
   "cell_type": "code",
   "execution_count": 30,
   "id": "b1c188aa",
   "metadata": {
    "ExecuteTime": {
     "end_time": "2022-03-11T16:29:18.896213Z",
     "start_time": "2022-03-11T16:29:16.427227Z"
    }
   },
   "outputs": [],
   "source": [
    "# days from first active up to first booking\n",
    "df3['first_active'] = pd.to_datetime( df3['timestamp_first_active'].dt.strftime( '%Y-%m-%d' ) )\n",
    "df3['days_from_first_active_until_booking'] = ( df3['date_first_booking'] - df3['first_active'] ).apply( lambda x: x.days )\n",
    "\n",
    "# days from first active upt to account created\n",
    "df3['days_from_first_active_until_account_created'] = ( df3['date_account_created'] - df3['first_active'] ).apply( lambda x: x.days )\n",
    "\n",
    "# days from account createad up to first booking\n",
    "df3['days_from_account_created_until_first_booking'] = ( df3['date_first_booking'] - df3['date_account_created'] ).apply( lambda x: x.days )\n",
    "\n",
    "# ================== First Active ==================\n",
    "# year first active\n",
    "df3['year_first_active'] = df3['first_active'].dt.year\n",
    "\n",
    "# month first active\n",
    "df3['month_first_active'] = df3['first_active'].dt.month\n",
    "\n",
    "# day first active\n",
    "df3['day_first_active'] = df3['first_active'].dt.day\n",
    "\n",
    "# day of week first active\n",
    "df3['day_of_week_first_active'] = df3['first_active'].dt.dayofweek\n",
    "\n",
    "# week of year first active\n",
    "df3['week_of_year_first_active'] = df3['first_active'].dt.weekofyear\n",
    "\n",
    "# ================== First Booking ==================\n",
    "# year first booking\n",
    "df3['year_first_booking'] = df3['date_first_booking'].dt.year\n",
    "\n",
    "# month first booking\n",
    "df3['month_first_booking'] = df3['date_first_booking'].dt.month\n",
    "\n",
    "# day first booking\n",
    "df3['day_first_booking'] = df3['date_first_booking'].dt.day\n",
    "\n",
    "# day of week first booking\n",
    "df3['day_of_week_first_booking'] = df3['date_first_booking'].dt.dayofweek\n",
    "\n",
    "# week of year first booking\n",
    "df3['week_of_year_first_booking'] = df3['date_first_booking'].dt.weekofyear\n",
    "\n",
    "# ================== First Account Created =================\n",
    "# year first booking\n",
    "df3['year_account_created'] = df3['date_account_created'].dt.year\n",
    "\n",
    "# month  account_created\n",
    "df3['month_account_created'] = df3['date_account_created'].dt.month\n",
    "\n",
    "# day  account_created\n",
    "df3['day_account_created'] = df3['date_account_created'].dt.day\n",
    "\n",
    "# day of week  account_created\n",
    "df3['day_of_week_account_created'] = df3['date_account_created'].dt.dayofweek\n",
    "\n",
    "# week of year  account_created\n",
    "df3['week_of_year_account_created'] = df3['date_account_created'].dt.weekofyear"
   ]
  },
  {
   "cell_type": "code",
   "execution_count": 31,
   "id": "56e678d3",
   "metadata": {
    "ExecuteTime": {
     "end_time": "2022-03-11T16:29:22.046857Z",
     "start_time": "2022-03-11T16:29:22.043288Z"
    }
   },
   "outputs": [
    {
     "data": {
      "text/plain": [
       "(122636, 35)"
      ]
     },
     "execution_count": 31,
     "metadata": {},
     "output_type": "execute_result"
    }
   ],
   "source": [
    "df3.shape"
   ]
  },
  {
   "cell_type": "markdown",
   "id": "130e9344",
   "metadata": {},
   "source": [
    "# 4.0.  Data Filtering\n"
   ]
  },
  {
   "cell_type": "code",
   "execution_count": 63,
   "id": "899850ab",
   "metadata": {
    "ExecuteTime": {
     "end_time": "2022-03-12T02:50:45.325089Z",
     "start_time": "2022-03-12T02:50:45.233857Z"
    }
   },
   "outputs": [],
   "source": [
    "df4 = df3.copy()"
   ]
  },
  {
   "cell_type": "markdown",
   "id": "5ce7cbc2",
   "metadata": {},
   "source": [
    "## 4.1.  Filtering Rows\n"
   ]
  },
  {
   "cell_type": "code",
   "execution_count": 64,
   "id": "0a64277e",
   "metadata": {
    "ExecuteTime": {
     "end_time": "2022-03-12T02:50:47.080920Z",
     "start_time": "2022-03-12T02:50:46.458574Z"
    }
   },
   "outputs": [],
   "source": [
    "# age - greater than 15 and lower than 120 - There are few peoples over 120 years old\n",
    "df4 = df4[(df4['age'] > 15 ) & (df4['age'] < 120)]\n",
    "\n",
    "# secs_elapsed - There is no possible 0 elapsed in the site\n",
    "df_sessions = df_sessions[df_sessions['secs_elapsed'] > 0]"
   ]
  },
  {
   "cell_type": "markdown",
   "id": "522ab885",
   "metadata": {},
   "source": [
    "## 4.2.  Columns Selection"
   ]
  },
  {
   "cell_type": "code",
   "execution_count": 65,
   "id": "8b6decfa",
   "metadata": {
    "ExecuteTime": {
     "end_time": "2022-03-12T02:50:47.775492Z",
     "start_time": "2022-03-12T02:50:47.773008Z"
    }
   },
   "outputs": [],
   "source": [
    "cols = ['date_account_created', 'date_account_created', 'date_first_booking', 'timestamp_first_active', 'first_active'] # original datetime\n"
   ]
  },
  {
   "cell_type": "markdown",
   "id": "8ffd8c3a",
   "metadata": {},
   "source": [
    "# 5.0 Balanced Dataset"
   ]
  },
  {
   "cell_type": "code",
   "execution_count": 66,
   "id": "4cd4d512",
   "metadata": {
    "ExecuteTime": {
     "end_time": "2022-03-12T02:50:49.040917Z",
     "start_time": "2022-03-12T02:50:49.025404Z"
    }
   },
   "outputs": [],
   "source": [
    "df5 = df4.drop(cols , axis = 1)"
   ]
  },
  {
   "cell_type": "code",
   "execution_count": 67,
   "id": "8d7f7226",
   "metadata": {
    "ExecuteTime": {
     "end_time": "2022-03-12T02:50:54.705717Z",
     "start_time": "2022-03-12T02:50:53.994189Z"
    }
   },
   "outputs": [
    {
     "data": {
      "text/plain": [
       "(122636, 138)"
      ]
     },
     "execution_count": 67,
     "metadata": {},
     "output_type": "execute_result"
    }
   ],
   "source": [
    " # Encoder Categorical Variables\n",
    "ohe = pp.OneHotEncoder()\n",
    "\n",
    "# Numerical\n",
    "col_num = df5.select_dtypes( include=['int64', 'float64'] ).columns.tolist()\n",
    "\n",
    "# Categorical\n",
    "col_cat = df5.select_dtypes( exclude=['int64', 'float64', 'datetime64[ns]'] ).drop( ['id', 'country_destination'], axis=1 ).columns.tolist()\n",
    "\n",
    "# encoding\n",
    "df5_dummy = pd.DataFrame( ohe.fit_transform( df5[ col_cat] ).toarray(), index=df5.index )\n",
    "\n",
    "# join numerical and categorical\n",
    "df52 = pd.concat( [df5[col_num], df5_dummy], axis=1 )\n",
    "df52.shape"
   ]
  },
  {
   "cell_type": "markdown",
   "id": "007e3194",
   "metadata": {},
   "source": [
    "## 5.3. Smote + Tomelink"
   ]
  },
  {
   "cell_type": "code",
   "execution_count": 37,
   "id": "8a5c6b32",
   "metadata": {
    "ExecuteTime": {
     "end_time": "2022-03-11T16:29:32.190136Z",
     "start_time": "2022-03-11T16:29:32.181142Z"
    }
   },
   "outputs": [
    {
     "data": {
      "text/plain": [
       "{'NDF': 54852,\n",
       " 'US': 48057,\n",
       " 'other': 7511,\n",
       " 'FR': 3669,\n",
       " 'IT': 2014,\n",
       " 'GB': 1758,\n",
       " 'ES': 1685,\n",
       " 'CA': 1064,\n",
       " 'DE': 841,\n",
       " 'NL': 595,\n",
       " 'AU': 433,\n",
       " 'PT': 157}"
      ]
     },
     "execution_count": 37,
     "metadata": {},
     "output_type": "execute_result"
    }
   ],
   "source": [
    "df5['country_destination'].value_counts().to_dict()"
   ]
  },
  {
   "cell_type": "code",
   "execution_count": 38,
   "id": "496b11e9",
   "metadata": {
    "ExecuteTime": {
     "end_time": "2022-03-11T16:29:34.334632Z",
     "start_time": "2022-03-11T16:29:34.331871Z"
    }
   },
   "outputs": [],
   "source": [
    "ratio_balanced =  {'NDF'  :     54852,\n",
    "                   'US'   :     48057,\n",
    "                   'other': 6  * 7511,\n",
    "                   'FR'   : 12 * 3669,\n",
    "                   'IT'   : 20 * 2014,\n",
    "                   'GB'   : 30 * 1758,\n",
    "                   'ES'   : 30 * 1685,\n",
    "                   'CA'   : 40 * 1064,\n",
    "                   'DE'   : 45 *  841,\n",
    "                   'NL'   : 80 *  595,\n",
    "                   'AU'   : 85 *  433,\n",
    "                   'PT'   :300 *  157}"
   ]
  },
  {
   "cell_type": "code",
   "execution_count": 39,
   "id": "569e21bd",
   "metadata": {
    "ExecuteTime": {
     "end_time": "2022-03-11T19:09:14.718067Z",
     "start_time": "2022-03-11T16:29:35.713592Z"
    }
   },
   "outputs": [],
   "source": [
    "# # define sampler\n",
    "# smt = c.SMOTETomek(sampling_strategy= ratio_balanced, random_state=32, n_jobs=-1)\n",
    "\n",
    "# # apply sampler\n",
    "# X_smt, y_smt = smt.fit_resample( df52, df5['country_destination'] )"
   ]
  },
  {
   "cell_type": "code",
   "execution_count": 40,
   "id": "be709d72",
   "metadata": {
    "ExecuteTime": {
     "end_time": "2022-03-11T19:09:15.959455Z",
     "start_time": "2022-03-11T19:09:15.924060Z"
    }
   },
   "outputs": [
    {
     "data": {
      "text/plain": [
       "NDF      54852\n",
       "US       48057\n",
       "other     7511\n",
       "FR        3669\n",
       "IT        2014\n",
       "GB        1758\n",
       "ES        1685\n",
       "CA        1064\n",
       "DE         841\n",
       "NL         595\n",
       "AU         433\n",
       "PT         157\n",
       "Name: country_destination, dtype: int64"
      ]
     },
     "execution_count": 40,
     "metadata": {},
     "output_type": "execute_result"
    }
   ],
   "source": [
    "df5['country_destination'].value_counts() "
   ]
  },
  {
   "cell_type": "code",
   "execution_count": 41,
   "id": "3ccb8f9d",
   "metadata": {
    "ExecuteTime": {
     "end_time": "2022-03-11T19:09:16.215199Z",
     "start_time": "2022-03-11T19:09:16.184260Z"
    }
   },
   "outputs": [
    {
     "data": {
      "text/plain": [
       "NDF      54849\n",
       "GB       52686\n",
       "ES       50501\n",
       "NL       47599\n",
       "US       47423\n",
       "PT       47100\n",
       "other    44682\n",
       "FR       43861\n",
       "CA       42530\n",
       "IT       40190\n",
       "DE       37826\n",
       "AU       36798\n",
       "Name: country_destination, dtype: int64"
      ]
     },
     "execution_count": 41,
     "metadata": {},
     "output_type": "execute_result"
    }
   ],
   "source": [
    "# y_smt.value_counts() "
   ]
  },
  {
   "cell_type": "code",
   "execution_count": 42,
   "id": "7a8b88a1",
   "metadata": {
    "ExecuteTime": {
     "end_time": "2022-03-11T19:09:16.908289Z",
     "start_time": "2022-03-11T19:09:16.422566Z"
    }
   },
   "outputs": [],
   "source": [
    "# # numerical data\n",
    "# df53 = X_smt[ col_num ]\n",
    "\n",
    "# # categorical data\n",
    "# df54 = X_smt.drop( col_num, axis=1 )\n",
    "# df55 = pd.DataFrame( ohe.inverse_transform( df54 ), columns=col_cat, index=df54.index )\n",
    "\n",
    "# # join numerical categorical\n",
    "# df56 = pd.concat( [df53, df55], axis=1 )\n",
    "# df56['country_destination'] = y_smt"
   ]
  },
  {
   "cell_type": "code",
   "execution_count": 43,
   "id": "34f81acf",
   "metadata": {
    "ExecuteTime": {
     "end_time": "2022-03-11T19:09:17.393254Z",
     "start_time": "2022-03-11T19:09:17.158833Z"
    },
    "scrolled": true
   },
   "outputs": [],
   "source": [
    "# pickle.dump(df56, open('../data/processed/df56.pkl', 'wb'))"
   ]
  },
  {
   "cell_type": "code",
   "execution_count": 5,
   "id": "24769ed5",
   "metadata": {
    "ExecuteTime": {
     "end_time": "2022-03-13T05:22:28.930183Z",
     "start_time": "2022-03-13T05:22:28.753150Z"
    },
    "scrolled": true
   },
   "outputs": [
    {
     "data": {
      "text/html": [
       "<div>\n",
       "<style scoped>\n",
       "    .dataframe tbody tr th:only-of-type {\n",
       "        vertical-align: middle;\n",
       "    }\n",
       "\n",
       "    .dataframe tbody tr th {\n",
       "        vertical-align: top;\n",
       "    }\n",
       "\n",
       "    .dataframe thead th {\n",
       "        text-align: right;\n",
       "    }\n",
       "</style>\n",
       "<table border=\"1\" class=\"dataframe\">\n",
       "  <thead>\n",
       "    <tr style=\"text-align: right;\">\n",
       "      <th></th>\n",
       "      <th>age</th>\n",
       "      <th>signup_flow</th>\n",
       "      <th>days_from_first_active_until_account_created</th>\n",
       "      <th>days_from_account_created_until_first_booking</th>\n",
       "      <th>day_first_booking</th>\n",
       "      <th>day_of_week_first_booking</th>\n",
       "      <th>year_account_created</th>\n",
       "      <th>day_account_created</th>\n",
       "      <th>day_of_week_account_created</th>\n",
       "      <th>week_of_year_account_created</th>\n",
       "      <th>gender</th>\n",
       "      <th>signup_method</th>\n",
       "      <th>language</th>\n",
       "      <th>affiliate_channel</th>\n",
       "      <th>first_affiliate_tracked</th>\n",
       "      <th>signup_app</th>\n",
       "      <th>country_destination</th>\n",
       "    </tr>\n",
       "  </thead>\n",
       "  <tbody>\n",
       "    <tr>\n",
       "      <th>0</th>\n",
       "      <td>38</td>\n",
       "      <td>0</td>\n",
       "      <td>732</td>\n",
       "      <td>1496</td>\n",
       "      <td>29</td>\n",
       "      <td>0</td>\n",
       "      <td>2011</td>\n",
       "      <td>25</td>\n",
       "      <td>2</td>\n",
       "      <td>21</td>\n",
       "      <td>MALE</td>\n",
       "      <td>facebook</td>\n",
       "      <td>en</td>\n",
       "      <td>seo</td>\n",
       "      <td>untracked</td>\n",
       "      <td>Web</td>\n",
       "      <td>NDF</td>\n",
       "    </tr>\n",
       "    <tr>\n",
       "      <th>1</th>\n",
       "      <td>56</td>\n",
       "      <td>3</td>\n",
       "      <td>476</td>\n",
       "      <td>-57</td>\n",
       "      <td>2</td>\n",
       "      <td>0</td>\n",
       "      <td>2010</td>\n",
       "      <td>28</td>\n",
       "      <td>1</td>\n",
       "      <td>39</td>\n",
       "      <td>FEMALE</td>\n",
       "      <td>basic</td>\n",
       "      <td>en</td>\n",
       "      <td>direct</td>\n",
       "      <td>untracked</td>\n",
       "      <td>Web</td>\n",
       "      <td>US</td>\n",
       "    </tr>\n",
       "    <tr>\n",
       "      <th>2</th>\n",
       "      <td>42</td>\n",
       "      <td>0</td>\n",
       "      <td>765</td>\n",
       "      <td>278</td>\n",
       "      <td>8</td>\n",
       "      <td>5</td>\n",
       "      <td>2011</td>\n",
       "      <td>5</td>\n",
       "      <td>0</td>\n",
       "      <td>49</td>\n",
       "      <td>FEMALE</td>\n",
       "      <td>facebook</td>\n",
       "      <td>en</td>\n",
       "      <td>direct</td>\n",
       "      <td>untracked</td>\n",
       "      <td>Web</td>\n",
       "      <td>other</td>\n",
       "    </tr>\n",
       "    <tr>\n",
       "      <th>3</th>\n",
       "      <td>41</td>\n",
       "      <td>0</td>\n",
       "      <td>280</td>\n",
       "      <td>-208</td>\n",
       "      <td>18</td>\n",
       "      <td>3</td>\n",
       "      <td>2010</td>\n",
       "      <td>14</td>\n",
       "      <td>1</td>\n",
       "      <td>37</td>\n",
       "      <td>-unknown-</td>\n",
       "      <td>basic</td>\n",
       "      <td>en</td>\n",
       "      <td>direct</td>\n",
       "      <td>untracked</td>\n",
       "      <td>Web</td>\n",
       "      <td>US</td>\n",
       "    </tr>\n",
       "    <tr>\n",
       "      <th>4</th>\n",
       "      <td>46</td>\n",
       "      <td>0</td>\n",
       "      <td>0</td>\n",
       "      <td>3</td>\n",
       "      <td>5</td>\n",
       "      <td>1</td>\n",
       "      <td>2010</td>\n",
       "      <td>2</td>\n",
       "      <td>5</td>\n",
       "      <td>53</td>\n",
       "      <td>FEMALE</td>\n",
       "      <td>basic</td>\n",
       "      <td>en</td>\n",
       "      <td>other</td>\n",
       "      <td>untracked</td>\n",
       "      <td>Web</td>\n",
       "      <td>US</td>\n",
       "    </tr>\n",
       "  </tbody>\n",
       "</table>\n",
       "</div>"
      ],
      "text/plain": [
       "   age  signup_flow  days_from_first_active_until_account_created  \\\n",
       "0   38            0                                           732   \n",
       "1   56            3                                           476   \n",
       "2   42            0                                           765   \n",
       "3   41            0                                           280   \n",
       "4   46            0                                             0   \n",
       "\n",
       "   days_from_account_created_until_first_booking  day_first_booking  \\\n",
       "0                                           1496                 29   \n",
       "1                                            -57                  2   \n",
       "2                                            278                  8   \n",
       "3                                           -208                 18   \n",
       "4                                              3                  5   \n",
       "\n",
       "   day_of_week_first_booking  year_account_created  day_account_created  \\\n",
       "0                          0                  2011                   25   \n",
       "1                          0                  2010                   28   \n",
       "2                          5                  2011                    5   \n",
       "3                          3                  2010                   14   \n",
       "4                          1                  2010                    2   \n",
       "\n",
       "   day_of_week_account_created  week_of_year_account_created     gender  \\\n",
       "0                            2                            21       MALE   \n",
       "1                            1                            39     FEMALE   \n",
       "2                            0                            49     FEMALE   \n",
       "3                            1                            37  -unknown-   \n",
       "4                            5                            53     FEMALE   \n",
       "\n",
       "  signup_method language affiliate_channel first_affiliate_tracked signup_app  \\\n",
       "0      facebook       en               seo               untracked        Web   \n",
       "1         basic       en            direct               untracked        Web   \n",
       "2      facebook       en            direct               untracked        Web   \n",
       "3         basic       en            direct               untracked        Web   \n",
       "4         basic       en             other               untracked        Web   \n",
       "\n",
       "  country_destination  \n",
       "0                 NDF  \n",
       "1                  US  \n",
       "2               other  \n",
       "3                  US  \n",
       "4                  US  "
      ]
     },
     "execution_count": 5,
     "metadata": {},
     "output_type": "execute_result"
    }
   ],
   "source": [
    "df56 = pickle.load(open('../data/processed/df56.pkl', 'rb'))\n",
    "\n",
    "df56.head()"
   ]
  },
  {
   "cell_type": "code",
   "execution_count": 47,
   "id": "0f5effcf",
   "metadata": {
    "ExecuteTime": {
     "end_time": "2022-03-11T22:50:22.797913Z",
     "start_time": "2022-03-11T22:50:22.773815Z"
    }
   },
   "outputs": [
    {
     "data": {
      "text/plain": [
       "(546045, 17)"
      ]
     },
     "execution_count": 47,
     "metadata": {},
     "output_type": "execute_result"
    }
   ],
   "source": [
    "df56.shape"
   ]
  },
  {
   "cell_type": "markdown",
   "id": "16e8e1d6",
   "metadata": {},
   "source": [
    "# 6.0. Exploratory Data Analysis(EDA)"
   ]
  },
  {
   "cell_type": "markdown",
   "id": "885f47a4",
   "metadata": {},
   "source": [
    "## 6.1.  Hypothesis Validation ( Unbalanced Dataset)"
   ]
  },
  {
   "cell_type": "code",
   "execution_count": 69,
   "id": "13c68dca",
   "metadata": {
    "ExecuteTime": {
     "end_time": "2022-03-12T02:52:08.408742Z",
     "start_time": "2022-03-12T02:52:08.386190Z"
    }
   },
   "outputs": [],
   "source": [
    "df6 = df5.copy()\n"
   ]
  },
  {
   "cell_type": "markdown",
   "id": "349aef8c",
   "metadata": {
    "heading_collapsed": true
   },
   "source": [
    "### H0. Os usuários levem até 3 dias, em média, para fazer o cadastro no site em todos os destinos.\n",
    "**Verdadeira**. Os usuários levam até 3 dias, em média para realizar o cadastro no site em todos os destinos"
   ]
  },
  {
   "cell_type": "code",
   "execution_count": 104,
   "id": "6278feca",
   "metadata": {
    "ExecuteTime": {
     "end_time": "2022-03-11T04:35:29.810448Z",
     "start_time": "2022-03-11T04:35:29.573963Z"
    },
    "hidden": true
   },
   "outputs": [
    {
     "data": {
      "image/png": "[encoded data removed]",
      "text/plain": [
       "<Figure size 1800x864 with 1 Axes>"
      ]
     },
     "metadata": {},
     "output_type": "display_data"
    }
   ],
   "source": [
    "aux01 = df6[['days_from_first_active_until_account_created', 'country_destination']].groupby( 'country_destination' ).mean().reset_index()\n",
    "sns.barplot( x='country_destination', y='days_from_first_active_until_account_created' , data=aux01.sort_values('days_from_first_active_until_account_created') );\n",
    "plt.ylabel( 'Average days until Accout Creation');"
   ]
  },
  {
   "cell_type": "markdown",
   "id": "0164e427",
   "metadata": {
    "heading_collapsed": true
   },
   "source": [
    "### H1. O numero de reservas total cresce 10% ao ano em todos os anos.\n",
    "**Falsa**.  O numero de reservas total cresce 10% ao ao apenas entre 2011 e 2013."
   ]
  },
  {
   "cell_type": "code",
   "execution_count": 54,
   "id": "cd4527be",
   "metadata": {
    "ExecuteTime": {
     "end_time": "2022-03-10T23:20:57.500650Z",
     "start_time": "2022-03-10T23:20:57.277122Z"
    },
    "hidden": true
   },
   "outputs": [
    {
     "data": {
      "image/png": "[encoded data removed]",
      "text/plain": [
       "<Figure size 1800x864 with 1 Axes>"
      ]
     },
     "metadata": {},
     "output_type": "display_data"
    }
   ],
   "source": [
    "aux01 = df6[(df6['country_destination'] != 'NDF') & (df6['year_first_booking'] < 2015)]\n",
    "aux01 = aux01[['year_first_booking', 'country_destination']].groupby( 'year_first_booking' ).count().reset_index()\n",
    "\n",
    "aux01['growth'] = 100*aux01['country_destination'].pct_change()\n",
    "\n",
    "sns.barplot( x='year_first_booking', y='growth', data=aux01 );"
   ]
  },
  {
   "cell_type": "markdown",
   "id": "99084e26",
   "metadata": {
    "heading_collapsed": true
   },
   "source": [
    "### H2. Todos os canais de Marketing geram pelo menos 10% de reservas para todos os destinos.\n",
    "**Falsa**. Nem todos os canais de Marketing geram pelo menos 10% de reservas para todos os destinos."
   ]
  },
  {
   "cell_type": "code",
   "execution_count": 55,
   "id": "78fb960f",
   "metadata": {
    "ExecuteTime": {
     "end_time": "2022-03-10T23:21:01.966301Z",
     "start_time": "2022-03-10T23:20:59.037334Z"
    },
    "hidden": true,
    "scrolled": false
   },
   "outputs": [
    {
     "data": {
      "image/png": "[encoded data removed]",
      "text/plain": [
       "<Figure size 1800x864 with 17 Axes>"
      ]
     },
     "metadata": {},
     "output_type": "display_data"
    }
   ],
   "source": [
    "affiliate_list = df6['affiliate_provider'].drop_duplicates().tolist()\n",
    "\n",
    "for i in range( len( affiliate_list ) ):\n",
    "    plt.subplot( 6, 3, i+1 )\n",
    "    df6[df6['affiliate_provider'] == affiliate_list[i]]['country_destination'].value_counts( normalize=True ).plot.bar();\n",
    "    plt.title( affiliate_list[i] );"
   ]
  },
  {
   "cell_type": "code",
   "execution_count": 91,
   "id": "cad74e64",
   "metadata": {
    "ExecuteTime": {
     "end_time": "2022-03-11T04:13:53.823005Z",
     "start_time": "2022-03-11T04:13:53.814246Z"
    },
    "hidden": true
   },
   "outputs": [
    {
     "data": {
      "text/plain": [
       "['id',\n",
       " 'gender',\n",
       " 'age',\n",
       " 'signup_method',\n",
       " 'signup_flow',\n",
       " 'language',\n",
       " 'affiliate_channel',\n",
       " 'affiliate_provider',\n",
       " 'first_affiliate_tracked',\n",
       " 'signup_app',\n",
       " 'first_device_type',\n",
       " 'first_browser',\n",
       " 'country_destination',\n",
       " 'days_from_frist_active_until_booking',\n",
       " 'days_from_first_active_until_account_created',\n",
       " 'days_from_account_created_until_first_booking',\n",
       " 'year_first_active',\n",
       " 'month_fist_active',\n",
       " 'day_first_active',\n",
       " 'day_of_week_first_active',\n",
       " 'week_of_year_first_active',\n",
       " 'year_first_booking',\n",
       " 'month_first_booking',\n",
       " 'day_first_booking',\n",
       " 'day_of_week_first_booking',\n",
       " 'week_of_year_first_booking',\n",
       " 'year_account_created',\n",
       " 'month_account_created',\n",
       " 'day_account_created',\n",
       " 'day_of_week_account_created',\n",
       " 'week_of_year_account_created']"
      ]
     },
     "execution_count": 91,
     "metadata": {},
     "output_type": "execute_result"
    }
   ],
   "source": [
    "df6.columns.to_list()"
   ]
  },
  {
   "cell_type": "markdown",
   "id": "84ae8adb",
   "metadata": {
    "ExecuteTime": {
     "end_time": "2022-03-11T04:27:30.779713Z",
     "start_time": "2022-03-11T04:27:30.772453Z"
    },
    "heading_collapsed": true
   },
   "source": [
    "### H3. Em todos os destinos os usuários levam 15 dias, em média, para fazer a primeira reserva no Airbnb, desde sua primeira ativação.\n",
    "**Verdade**. Os usuários por volta de 3 dias para fazer a primeira reserva"
   ]
  },
  {
   "cell_type": "code",
   "execution_count": 103,
   "id": "0530adea",
   "metadata": {
    "ExecuteTime": {
     "end_time": "2022-03-11T04:34:15.456239Z",
     "start_time": "2022-03-11T04:34:15.039952Z"
    },
    "hidden": true
   },
   "outputs": [
    {
     "data": {
      "text/plain": [
       "<AxesSubplot:xlabel='country_destination', ylabel='days_from_frist_active_until_booking'>"
      ]
     },
     "execution_count": 103,
     "metadata": {},
     "output_type": "execute_result"
    },
    {
     "data": {
      "image/png": "[encoded data removed]",
      "text/plain": [
       "<Figure size 1800x864 with 2 Axes>"
      ]
     },
     "metadata": {},
     "output_type": "display_data"
    }
   ],
   "source": [
    "plt.subplot(2,1,1)\n",
    "aux01 = df6[['days_from_frist_active_until_booking','country_destination']].groupby('country_destination').median().reset_index()\n",
    "sns.barplot(x = 'country_destination' , y='days_from_frist_active_until_booking',\n",
    "           data = aux01.sort_values('days_from_frist_active_until_booking'))\n",
    "\n",
    "# remove outlier\n",
    "plt.subplot(2,1,2)\n",
    "aux02 = df6[df6['country_destination'] != 'NDF']\n",
    "aux03 = aux02[['days_from_frist_active_until_booking','country_destination']].groupby('country_destination').median().reset_index()\n",
    "sns.barplot(x = 'country_destination' , y='days_from_frist_active_until_booking',\n",
    "           data = aux03.sort_values('days_from_frist_active_until_booking'))\n"
   ]
  },
  {
   "cell_type": "markdown",
   "id": "5d26018a",
   "metadata": {
    "heading_collapsed": true
   },
   "source": [
    "### H4. O volume de reservas anual feitas durante o verão aumentam 20% para destinos dentro dos USA.\n",
    "**Falsa**. O volume de reservas aumentam durante o verão do ano de 2010 até 2013 e depois decai."
   ]
  },
  {
   "cell_type": "code",
   "execution_count": 131,
   "id": "c11381da",
   "metadata": {
    "ExecuteTime": {
     "end_time": "2022-03-11T05:09:50.336480Z",
     "start_time": "2022-03-11T05:09:50.058188Z"
    },
    "hidden": true
   },
   "outputs": [
    {
     "data": {
      "text/plain": [
       "<AxesSubplot:xlabel='year_first_booking', ylabel='delta'>"
      ]
     },
     "execution_count": 131,
     "metadata": {},
     "output_type": "execute_result"
    },
    {
     "data": {
      "image/png": "[encoded data removed]",
      "text/plain": [
       "<Figure size 1800x864 with 1 Axes>"
      ]
     },
     "metadata": {},
     "output_type": "display_data"
    }
   ],
   "source": [
    "aux1 = df6[['year_first_booking','month_first_booking','country_destination']].\\\n",
    "            groupby(['year_first_booking','month_first_booking','country_destination']).size().reset_index().\\\n",
    "            rename(columns={0:'count'})\n",
    "\n",
    "# select only summer\n",
    "aux1 = aux1[(aux1['month_first_booking'].isin([6,7,8])) & (aux1['country_destination'] == 'US')]\n",
    "\n",
    "aux02 = aux1[['year_first_booking','count']].groupby('year_first_booking').sum().reset_index()\n",
    "aux02['delta'] = 100 * aux02['count'].pct_change().fillna(0)\n",
    "\n",
    "sns.barplot(x = 'year_first_booking' , y = 'delta' , data=aux02)"
   ]
  },
  {
   "cell_type": "markdown",
   "id": "3a9eddc4",
   "metadata": {},
   "source": [
    "## 6.2. Variables Impact ( Balanced Dataset)"
   ]
  },
  {
   "cell_type": "code",
   "execution_count": 7,
   "id": "37aa7468",
   "metadata": {
    "ExecuteTime": {
     "end_time": "2022-03-13T05:22:46.117614Z",
     "start_time": "2022-03-13T05:22:45.991296Z"
    }
   },
   "outputs": [],
   "source": [
    "df61 = df56.copy()\n"
   ]
  },
  {
   "cell_type": "markdown",
   "id": "4d52d124",
   "metadata": {
    "code_folding": []
   },
   "source": [
    "### 6.2.1. Univariate Analysis"
   ]
  },
  {
   "cell_type": "code",
   "execution_count": 50,
   "id": "5cba9352",
   "metadata": {
    "ExecuteTime": {
     "end_time": "2022-03-10T23:16:38.453799Z",
     "start_time": "2022-03-10T23:16:38.410254Z"
    }
   },
   "outputs": [],
   "source": [
    "proof = ProfileReport( df61, title = 'Airbnb Booking')\n",
    "profile.to_file(output_file='airbnb_booking_statistics_after_cleaning.html')"
   ]
  },
  {
   "cell_type": "code",
   "execution_count": 134,
   "id": "b54b8401",
   "metadata": {
    "ExecuteTime": {
     "end_time": "2022-03-11T05:46:10.492579Z",
     "start_time": "2022-03-11T05:46:10.489318Z"
    }
   },
   "outputs": [],
   "source": [
    "# ============================= High Correlation =====================================\n",
    "# days_from_first_active_until_booking x days_from_account_created_until_first_booking\n",
    "# remove : days_from_first_active_until_booking\n",
    "\n",
    "# year_first_active x year_account_created\n",
    "# remove : days_from_first_active_until_booking\n",
    "\n",
    "# month_first_booking x month_account_created\n",
    "# remove : month_first_booking\n",
    "\n",
    "# days_first_active x day_account_created\n",
    "# remove : days_first_active\n",
    "\n",
    "# week_of_year_first_active x week_of_year_account_created\n",
    "# remove : week_of_year_first_active\n",
    "\n",
    "# day_of_week_first_active x day_of_week_account_created\n",
    "# remove : day_of_week_first_active\n",
    "\n",
    "# month_first_booking x week_of_year_first_booking\n",
    "# remove : month_first_booking\n",
    "\n",
    "# month_account_created x week_of_year_account_created\n",
    "# remove : month_account_created\n",
    "\n",
    "# year_first_booking x year_account_created\n",
    "# remove : year_first_booking\n",
    "\n",
    "# week_of_year_first_booking x week_of_year_account_created\n",
    "# remove : week_of_year_first_booking\n",
    "\n",
    "# affiliate_channel x affiliate_provider\n",
    "# remove : affiliate_provider\n",
    "\n",
    "# first_device_type x first_browser\n",
    "# remove : first_browser\n",
    "\n",
    "# first_device_type x signup_app\n",
    "# remove : first_device_type\n",
    "\n",
    "\n",
    "\n"
   ]
  },
  {
   "cell_type": "markdown",
   "id": "5080c5b8",
   "metadata": {},
   "source": [
    "### 6.2.2. Bivariate Analysis"
   ]
  },
  {
   "cell_type": "code",
   "execution_count": null,
   "id": "289cc8fd",
   "metadata": {},
   "outputs": [],
   "source": []
  },
  {
   "cell_type": "markdown",
   "id": "28ee17a4",
   "metadata": {},
   "source": [
    "### 6.2.3. Multivariate Analysis"
   ]
  },
  {
   "cell_type": "code",
   "execution_count": 73,
   "id": "2f995563",
   "metadata": {
    "ExecuteTime": {
     "end_time": "2022-03-12T02:53:16.935027Z",
     "start_time": "2022-03-12T02:53:16.930995Z"
    }
   },
   "outputs": [],
   "source": [
    "cols = ['days_from_first_active_until_booking',  'year_first_active',  'month_first_active', 'day_first_active',\n",
    "        'day_of_week_first_active', 'week_of_year_first_active', 'month_first_booking', 'month_account_created',\n",
    "        'year_first_booking', 'week_of_year_first_booking', 'affiliate_provider',\n",
    "        'first_browser', 'first_device_type','language'] # high correlation\n"
   ]
  },
  {
   "cell_type": "markdown",
   "id": "e42ceff2",
   "metadata": {},
   "source": [
    "# 7.0.  Data Preparation\n"
   ]
  },
  {
   "cell_type": "code",
   "execution_count": 8,
   "id": "d1195dd8",
   "metadata": {
    "ExecuteTime": {
     "end_time": "2022-03-13T05:22:50.373823Z",
     "start_time": "2022-03-13T05:22:50.333868Z"
    }
   },
   "outputs": [],
   "source": [
    "df7 = df61.drop(cols , axis =1)"
   ]
  },
  {
   "cell_type": "code",
   "execution_count": 9,
   "id": "d36dd6e1",
   "metadata": {
    "ExecuteTime": {
     "end_time": "2022-03-13T05:22:53.817516Z",
     "start_time": "2022-03-13T05:22:53.813071Z"
    }
   },
   "outputs": [
    {
     "data": {
      "text/plain": [
       "age                                               int64\n",
       "signup_flow                                       int64\n",
       "days_from_first_active_until_account_created      int64\n",
       "days_from_account_created_until_first_booking     int64\n",
       "day_first_booking                                 int64\n",
       "day_of_week_first_booking                         int64\n",
       "year_account_created                              int64\n",
       "day_account_created                               int64\n",
       "day_of_week_account_created                       int64\n",
       "week_of_year_account_created                      int64\n",
       "gender                                           object\n",
       "signup_method                                    object\n",
       "affiliate_channel                                object\n",
       "first_affiliate_tracked                          object\n",
       "signup_app                                       object\n",
       "country_destination                              object\n",
       "dtype: object"
      ]
     },
     "execution_count": 9,
     "metadata": {},
     "output_type": "execute_result"
    }
   ],
   "source": [
    "df7.dtypes"
   ]
  },
  {
   "cell_type": "markdown",
   "id": "0410d7ac",
   "metadata": {},
   "source": [
    "## 7.1. Rescaling"
   ]
  },
  {
   "cell_type": "code",
   "execution_count": 13,
   "id": "7bbc9ce2",
   "metadata": {
    "ExecuteTime": {
     "end_time": "2022-03-13T06:20:24.665877Z",
     "start_time": "2022-03-13T06:20:24.662943Z"
    }
   },
   "outputs": [],
   "source": [
    "ss = pp.StandardScaler()\n",
    "rs = pp.RobustScaler()\n",
    "mms = pp.MinMaxScaler()"
   ]
  },
  {
   "cell_type": "code",
   "execution_count": 15,
   "id": "5388900d",
   "metadata": {
    "ExecuteTime": {
     "end_time": "2022-03-13T06:20:48.650475Z",
     "start_time": "2022-03-13T06:20:48.345844Z"
    }
   },
   "outputs": [],
   "source": [
    "# age - Standardization\n",
    "df7['age'] = ss.fit_transform( df7[['age']].values )\n",
    "\n",
    "# signup_flow - Robust Scaler\n",
    "df7['signup_flow'] = rs.fit_transform( df7[['signup_flow']].values )\n",
    "\n",
    "# days_from_first_active_until_account_created - Robust Scaler\n",
    "df7['days_from_first_active_until_account_created'] = rs.fit_transform( df7[['days_from_first_active_until_account_created']].values )\n",
    "\n",
    "# days_from_account_created_until_first_booking - Robust Scaler\n",
    "df7['days_from_account_created_until_first_booking'] = rs.fit_transform( df7[['days_from_account_created_until_first_booking']].values )\n",
    "\n",
    "# year_account_created - MinMax Scaler\n",
    "df7['year_account_created'] = mms.fit_transform( df7[['year_account_created']].values )"
   ]
  },
  {
   "cell_type": "markdown",
   "id": "264feefa",
   "metadata": {},
   "source": [
    "## 7.2. Encoding\n"
   ]
  },
  {
   "cell_type": "code",
   "execution_count": 16,
   "id": "0e8c926d",
   "metadata": {
    "ExecuteTime": {
     "end_time": "2022-03-13T06:20:51.453082Z",
     "start_time": "2022-03-13T06:20:51.450535Z"
    }
   },
   "outputs": [],
   "source": [
    "te = TargetEncoder() "
   ]
  },
  {
   "cell_type": "code",
   "execution_count": 17,
   "id": "3a8ce63a",
   "metadata": {
    "ExecuteTime": {
     "end_time": "2022-03-13T06:21:01.696742Z",
     "start_time": "2022-03-13T06:21:00.549170Z"
    }
   },
   "outputs": [],
   "source": [
    "# gender - One Hot Encoder\n",
    "df7 = pd.get_dummies( df7, prefix=['gender'], columns=['gender'] )\n",
    "\n",
    "# signup_method - One Hot Encoder\n",
    "df7 = pd.get_dummies( df7, prefix=['signup_method'], columns=['signup_method'] )\n",
    "\n",
    "# signup_app - One Hot Encoder\n",
    "df7 = pd.get_dummies( df7, prefix=['signup_app'], columns=['signup_app'] )\n",
    "\n",
    "# affiliate_channel - Target Encoder\n",
    "c = {'NDF':0, 'US':1, 'other':2, 'CA':3, 'FR':4, 'IT':5, 'ES':6, 'GB':7, 'NL':8, 'DE':9, 'AU':10, 'PT':11}\n",
    "df7['affiliate_channel'] = te.fit_transform( df7[['affiliate_channel']].values, df7['country_destination'].map( c ) )\n",
    "\n",
    "# first_affiliate_tracked - Target Encoder\n",
    "df7['first_affiliate_tracked'] = te.fit_transform( df7[['first_affiliate_tracked']].values, df7['country_destination'].map( c ) )"
   ]
  },
  {
   "cell_type": "markdown",
   "id": "f1210799",
   "metadata": {},
   "source": [
    "## 7.3. Transformation\n"
   ]
  },
  {
   "cell_type": "code",
   "execution_count": 18,
   "id": "923baa92",
   "metadata": {
    "ExecuteTime": {
     "end_time": "2022-03-13T06:21:20.902266Z",
     "start_time": "2022-03-13T06:21:17.294540Z"
    }
   },
   "outputs": [],
   "source": [
    " # week_of_year_account_created\n",
    "df7['week_of_year_account_created_sin'] = df7['week_of_year_account_created'].apply( lambda x: np.sin( x * (2*np.pi/52 ) ) )\n",
    "df7['week_of_year_account_created_cos'] = df7['week_of_year_account_created'].apply( lambda x: np.cos( x * (2*np.pi/52 ) ) )\n",
    "\n",
    "# day_of_week_first_booking\n",
    "df7['day_of_week_first_booking_sin'] = df7['day_of_week_first_booking'].apply( lambda x: np.sin( x * (2*np.pi/7 ) ) )\n",
    "df7['day_of_week_first_booking_cos'] = df7['day_of_week_first_booking'].apply( lambda x: np.cos( x * (2*np.pi/7 ) ) )\n",
    "\n",
    "# day_account_created\n",
    "df7['day_account_created_sin'] = df7['day_account_created'].apply( lambda x: np.sin( x * (2*np.pi/31 ) ) )\n",
    "df7['day_account_created_cos'] = df7['day_account_created'].apply( lambda x: np.cos( x * (2*np.pi/31 ) ) )\n",
    "\n",
    "# day_of_week_account_created\n",
    "df7['day_of_week_account_created_sin'] = df7['day_of_week_account_created'].apply( lambda x: np.sin( x * (2*np.pi/7 ) ) )\n",
    "df7['day_of_week_account_created_cos'] = df7['day_of_week_account_created'].apply( lambda x: np.cos( x * (2*np.pi/7 ) ) )"
   ]
  },
  {
   "cell_type": "code",
   "execution_count": 22,
   "id": "a70b8783",
   "metadata": {
    "ExecuteTime": {
     "end_time": "2022-03-13T07:03:46.179712Z",
     "start_time": "2022-03-13T07:03:46.132038Z"
    }
   },
   "outputs": [
    {
     "data": {
      "text/html": [
       "<div>\n",
       "<style scoped>\n",
       "    .dataframe tbody tr th:only-of-type {\n",
       "        vertical-align: middle;\n",
       "    }\n",
       "\n",
       "    .dataframe tbody tr th {\n",
       "        vertical-align: top;\n",
       "    }\n",
       "\n",
       "    .dataframe thead th {\n",
       "        text-align: right;\n",
       "    }\n",
       "</style>\n",
       "<table border=\"1\" class=\"dataframe\">\n",
       "  <thead>\n",
       "    <tr style=\"text-align: right;\">\n",
       "      <th></th>\n",
       "      <th>age</th>\n",
       "      <th>signup_flow</th>\n",
       "      <th>days_from_first_active_until_account_created</th>\n",
       "      <th>days_from_account_created_until_first_booking</th>\n",
       "      <th>day_first_booking</th>\n",
       "      <th>day_of_week_first_booking</th>\n",
       "      <th>year_account_created</th>\n",
       "      <th>day_account_created</th>\n",
       "      <th>day_of_week_account_created</th>\n",
       "      <th>week_of_year_account_created</th>\n",
       "      <th>...</th>\n",
       "      <th>signup_app_Web</th>\n",
       "      <th>signup_app_iOS</th>\n",
       "      <th>week_of_year_account_created_sin</th>\n",
       "      <th>week_of_year_account_created_cos</th>\n",
       "      <th>day_of_week_first_booking_sin</th>\n",
       "      <th>day_of_week_first_booking_cos</th>\n",
       "      <th>day_account_created_sin</th>\n",
       "      <th>day_account_created_cos</th>\n",
       "      <th>day_of_week_account_created_sin</th>\n",
       "      <th>day_of_week_account_created_cos</th>\n",
       "    </tr>\n",
       "  </thead>\n",
       "  <tbody>\n",
       "    <tr>\n",
       "      <th>0</th>\n",
       "      <td>0.08549</td>\n",
       "      <td>0.00000</td>\n",
       "      <td>732.00000</td>\n",
       "      <td>14.32692</td>\n",
       "      <td>29</td>\n",
       "      <td>0</td>\n",
       "      <td>0.25000</td>\n",
       "      <td>25</td>\n",
       "      <td>2</td>\n",
       "      <td>21</td>\n",
       "      <td>...</td>\n",
       "      <td>1</td>\n",
       "      <td>0</td>\n",
       "      <td>0.56806</td>\n",
       "      <td>-0.82298</td>\n",
       "      <td>0.00000</td>\n",
       "      <td>1.00000</td>\n",
       "      <td>-0.93775</td>\n",
       "      <td>0.34731</td>\n",
       "      <td>0.97493</td>\n",
       "      <td>-0.22252</td>\n",
       "    </tr>\n",
       "    <tr>\n",
       "      <th>1</th>\n",
       "      <td>1.42731</td>\n",
       "      <td>3.00000</td>\n",
       "      <td>476.00000</td>\n",
       "      <td>-0.60577</td>\n",
       "      <td>2</td>\n",
       "      <td>0</td>\n",
       "      <td>0.00000</td>\n",
       "      <td>28</td>\n",
       "      <td>1</td>\n",
       "      <td>39</td>\n",
       "      <td>...</td>\n",
       "      <td>1</td>\n",
       "      <td>0</td>\n",
       "      <td>-1.00000</td>\n",
       "      <td>-0.00000</td>\n",
       "      <td>0.00000</td>\n",
       "      <td>1.00000</td>\n",
       "      <td>-0.57127</td>\n",
       "      <td>0.82076</td>\n",
       "      <td>0.78183</td>\n",
       "      <td>0.62349</td>\n",
       "    </tr>\n",
       "    <tr>\n",
       "      <th>2</th>\n",
       "      <td>0.38368</td>\n",
       "      <td>0.00000</td>\n",
       "      <td>765.00000</td>\n",
       "      <td>2.61538</td>\n",
       "      <td>8</td>\n",
       "      <td>5</td>\n",
       "      <td>0.25000</td>\n",
       "      <td>5</td>\n",
       "      <td>0</td>\n",
       "      <td>49</td>\n",
       "      <td>...</td>\n",
       "      <td>1</td>\n",
       "      <td>0</td>\n",
       "      <td>-0.35460</td>\n",
       "      <td>0.93502</td>\n",
       "      <td>-0.97493</td>\n",
       "      <td>-0.22252</td>\n",
       "      <td>0.84864</td>\n",
       "      <td>0.52896</td>\n",
       "      <td>0.00000</td>\n",
       "      <td>1.00000</td>\n",
       "    </tr>\n",
       "    <tr>\n",
       "      <th>3</th>\n",
       "      <td>0.30913</td>\n",
       "      <td>0.00000</td>\n",
       "      <td>280.00000</td>\n",
       "      <td>-2.05769</td>\n",
       "      <td>18</td>\n",
       "      <td>3</td>\n",
       "      <td>0.00000</td>\n",
       "      <td>14</td>\n",
       "      <td>1</td>\n",
       "      <td>37</td>\n",
       "      <td>...</td>\n",
       "      <td>1</td>\n",
       "      <td>0</td>\n",
       "      <td>-0.97094</td>\n",
       "      <td>-0.23932</td>\n",
       "      <td>0.43388</td>\n",
       "      <td>-0.90097</td>\n",
       "      <td>0.29936</td>\n",
       "      <td>-0.95414</td>\n",
       "      <td>0.78183</td>\n",
       "      <td>0.62349</td>\n",
       "    </tr>\n",
       "    <tr>\n",
       "      <th>4</th>\n",
       "      <td>0.68186</td>\n",
       "      <td>0.00000</td>\n",
       "      <td>0.00000</td>\n",
       "      <td>-0.02885</td>\n",
       "      <td>5</td>\n",
       "      <td>1</td>\n",
       "      <td>0.00000</td>\n",
       "      <td>2</td>\n",
       "      <td>5</td>\n",
       "      <td>53</td>\n",
       "      <td>...</td>\n",
       "      <td>1</td>\n",
       "      <td>0</td>\n",
       "      <td>0.12054</td>\n",
       "      <td>0.99271</td>\n",
       "      <td>0.78183</td>\n",
       "      <td>0.62349</td>\n",
       "      <td>0.39436</td>\n",
       "      <td>0.91896</td>\n",
       "      <td>-0.97493</td>\n",
       "      <td>-0.22252</td>\n",
       "    </tr>\n",
       "  </tbody>\n",
       "</table>\n",
       "<p>5 rows × 32 columns</p>\n",
       "</div>"
      ],
      "text/plain": [
       "      age  signup_flow  days_from_first_active_until_account_created  \\\n",
       "0 0.08549      0.00000                                     732.00000   \n",
       "1 1.42731      3.00000                                     476.00000   \n",
       "2 0.38368      0.00000                                     765.00000   \n",
       "3 0.30913      0.00000                                     280.00000   \n",
       "4 0.68186      0.00000                                       0.00000   \n",
       "\n",
       "   days_from_account_created_until_first_booking  day_first_booking  \\\n",
       "0                                       14.32692                 29   \n",
       "1                                       -0.60577                  2   \n",
       "2                                        2.61538                  8   \n",
       "3                                       -2.05769                 18   \n",
       "4                                       -0.02885                  5   \n",
       "\n",
       "   day_of_week_first_booking  year_account_created  day_account_created  \\\n",
       "0                          0               0.25000                   25   \n",
       "1                          0               0.00000                   28   \n",
       "2                          5               0.25000                    5   \n",
       "3                          3               0.00000                   14   \n",
       "4                          1               0.00000                    2   \n",
       "\n",
       "   day_of_week_account_created  week_of_year_account_created  ...  \\\n",
       "0                            2                            21  ...   \n",
       "1                            1                            39  ...   \n",
       "2                            0                            49  ...   \n",
       "3                            1                            37  ...   \n",
       "4                            5                            53  ...   \n",
       "\n",
       "   signup_app_Web  signup_app_iOS week_of_year_account_created_sin  \\\n",
       "0               1               0                          0.56806   \n",
       "1               1               0                         -1.00000   \n",
       "2               1               0                         -0.35460   \n",
       "3               1               0                         -0.97094   \n",
       "4               1               0                          0.12054   \n",
       "\n",
       "   week_of_year_account_created_cos  day_of_week_first_booking_sin  \\\n",
       "0                          -0.82298                        0.00000   \n",
       "1                          -0.00000                        0.00000   \n",
       "2                           0.93502                       -0.97493   \n",
       "3                          -0.23932                        0.43388   \n",
       "4                           0.99271                        0.78183   \n",
       "\n",
       "   day_of_week_first_booking_cos  day_account_created_sin  \\\n",
       "0                        1.00000                 -0.93775   \n",
       "1                        1.00000                 -0.57127   \n",
       "2                       -0.22252                  0.84864   \n",
       "3                       -0.90097                  0.29936   \n",
       "4                        0.62349                  0.39436   \n",
       "\n",
       "   day_account_created_cos  day_of_week_account_created_sin  \\\n",
       "0                  0.34731                          0.97493   \n",
       "1                  0.82076                          0.78183   \n",
       "2                  0.52896                          0.00000   \n",
       "3                 -0.95414                          0.78183   \n",
       "4                  0.91896                         -0.97493   \n",
       "\n",
       "   day_of_week_account_created_cos  \n",
       "0                         -0.22252  \n",
       "1                          0.62349  \n",
       "2                          1.00000  \n",
       "3                          0.62349  \n",
       "4                         -0.22252  \n",
       "\n",
       "[5 rows x 32 columns]"
      ]
     },
     "execution_count": 22,
     "metadata": {},
     "output_type": "execute_result"
    }
   ],
   "source": [
    "df7.head()"
   ]
  },
  {
   "cell_type": "markdown",
   "id": "5b223d61",
   "metadata": {},
   "source": [
    "# 8.0. Feature Selection\n"
   ]
  },
  {
   "cell_type": "code",
   "execution_count": 21,
   "id": "bdc957bb",
   "metadata": {
    "ExecuteTime": {
     "end_time": "2022-03-13T06:22:45.203804Z",
     "start_time": "2022-03-13T06:22:45.141017Z"
    }
   },
   "outputs": [],
   "source": [
    "df8 = df7.copy()"
   ]
  },
  {
   "cell_type": "code",
   "execution_count": null,
   "id": "4657c71a",
   "metadata": {
    "ExecuteTime": {
     "end_time": "2022-03-10T23:01:15.264767Z",
     "start_time": "2022-03-10T19:50:39.451Z"
    }
   },
   "outputs": [],
   "source": [
    "# cols_drop = ['date_account_created','timestamp_first_active','date_first_booking', 'first_active'] # original dates"
   ]
  },
  {
   "cell_type": "code",
   "execution_count": null,
   "id": "e2012af1",
   "metadata": {
    "ExecuteTime": {
     "end_time": "2022-03-10T23:01:15.265657Z",
     "start_time": "2022-03-10T19:50:39.453Z"
    }
   },
   "outputs": [],
   "source": [
    "# df7 = df7.drop(cols_drop, axis =1)"
   ]
  },
  {
   "cell_type": "code",
   "execution_count": 24,
   "id": "dd87fb38",
   "metadata": {
    "ExecuteTime": {
     "end_time": "2022-03-13T07:15:24.722858Z",
     "start_time": "2022-03-13T07:15:24.526510Z"
    }
   },
   "outputs": [],
   "source": [
    "X = df8.drop(['country_destination'], axis = 1)\n",
    "Y = df8['country_destination'].copy()"
   ]
  },
  {
   "cell_type": "code",
   "execution_count": 25,
   "id": "7f2e572c",
   "metadata": {
    "ExecuteTime": {
     "end_time": "2022-03-13T07:15:35.552144Z",
     "start_time": "2022-03-13T07:15:35.350651Z"
    }
   },
   "outputs": [],
   "source": [
    "# Split dataset into training and test\n",
    "\n",
    "X_train, X_test , y_train, y_test = ms.train_test_split(X, Y, test_size = 0.2 , random_state=32)"
   ]
  },
  {
   "cell_type": "markdown",
   "id": "fa875ccd",
   "metadata": {},
   "source": [
    "# 9.0. Machine Learning Model\n"
   ]
  },
  {
   "cell_type": "code",
   "execution_count": null,
   "id": "a998b73f",
   "metadata": {
    "ExecuteTime": {
     "end_time": "2022-03-10T23:01:15.268879Z",
     "start_time": "2022-03-10T19:50:39.458Z"
    }
   },
   "outputs": [],
   "source": [
    "ohe = pp.OneHotEncoder()\n",
    "y_train_nn = ohe.fit_transform(y_train.values.reshape(-1,1)).toarray()"
   ]
  },
  {
   "cell_type": "markdown",
   "id": "5e8670cf",
   "metadata": {},
   "source": [
    "## 9.1. Baseline Model\n"
   ]
  },
  {
   "cell_type": "code",
   "execution_count": null,
   "id": "799ca1dd",
   "metadata": {
    "ExecuteTime": {
     "end_time": "2022-03-10T23:01:15.269884Z",
     "start_time": "2022-03-10T19:50:39.460Z"
    }
   },
   "outputs": [],
   "source": [
    "country_destination_list = df5['country_destination'].drop_duplicates().sort_values().to_list()\n",
    "k_num = y_test.shape[0]\n",
    "country_destination_weights = df5['country_destination'].value_counts(normalize= True).sort_index().to_list()\n",
    "\n",
    "# modelo aleatorio\n",
    "yhat_random = random.choices (population = country_destination_list , \n",
    "                              weights = country_destination_weights,\n",
    "                              k = k_num )"
   ]
  },
  {
   "cell_type": "markdown",
   "id": "eda001df",
   "metadata": {},
   "source": [
    "### 9.1.1 Performance\n"
   ]
  },
  {
   "cell_type": "code",
   "execution_count": null,
   "id": "5e02bf63",
   "metadata": {
    "ExecuteTime": {
     "end_time": "2022-03-10T23:01:15.270891Z",
     "start_time": "2022-03-10T19:50:39.461Z"
    }
   },
   "outputs": [],
   "source": [
    "# accuracy\n",
    "acc_random = m.accuracy_score(y_test, yhat_random)\n",
    "print('Accuracy: {}'.format(acc_random))\n",
    "\n",
    "# Balanced Accuracy\n",
    "balanced_acc_random = m.balanced_accuracy_score(y_test, yhat_random)\n",
    "print('Balanced Accuracy: {}'.format(balanced_acc_random))\n",
    "\n",
    "# Kappa Metrics\n",
    "kappa_acc_random = m.cohen_kappa_score(y_test, yhat_random)\n",
    "print('Kappa Score: {}'.format(kappa_acc_random))\n",
    "\n",
    "# confusion matrix\n",
    "mt.plot_confusion_matrix(y_test , yhat_random, normalize=False, figsize=(12,12))"
   ]
  },
  {
   "cell_type": "markdown",
   "id": "c38dab3e",
   "metadata": {},
   "source": [
    "## 9.2. Neural Network - MLP"
   ]
  },
  {
   "cell_type": "code",
   "execution_count": null,
   "id": "604a742b",
   "metadata": {
    "ExecuteTime": {
     "end_time": "2022-03-10T23:01:15.271688Z",
     "start_time": "2022-03-10T19:50:39.464Z"
    }
   },
   "outputs": [],
   "source": [
    "X_train.shape"
   ]
  },
  {
   "cell_type": "code",
   "execution_count": null,
   "id": "1a7fda27",
   "metadata": {
    "ExecuteTime": {
     "end_time": "2022-03-10T23:01:15.272482Z",
     "start_time": "2022-03-10T19:50:39.466Z"
    },
    "code_folding": [],
    "scrolled": true
   },
   "outputs": [],
   "source": [
    "# model definition\n",
    "model = ml.Sequential()\n",
    "model.add(l.Dense(256, input_dim = X_train.shape[1], activation= 'relu'))\n",
    "model.add(l.Dense(12,  activation= 'softmax'))\n",
    "\n",
    "# model compile\n",
    "model.compile(loss = 'categorical_crossentropy' , optimizer='adam', metrics=['accuracy'])\n",
    "\n",
    "# tain model\n",
    "model.fit(X_train, y_train_nn, epochs=100)"
   ]
  },
  {
   "cell_type": "markdown",
   "id": "70b0c7b2",
   "metadata": {},
   "source": [
    "### 9.2.1 NN Performance\n"
   ]
  },
  {
   "cell_type": "code",
   "execution_count": null,
   "id": "684b0640",
   "metadata": {
    "ExecuteTime": {
     "end_time": "2022-03-10T23:01:15.273113Z",
     "start_time": "2022-03-10T19:50:39.468Z"
    }
   },
   "outputs": [],
   "source": [
    "# prediction\n",
    "pred_nn = model.predict(X_test)\n",
    "\n",
    "# invert Predict\n",
    "yhat_nn = ohe.inverse_transform(pred_nn)\n",
    "\n",
    "# prediction prepare\n",
    "y_test_nn = y_test.to_numpy()\n",
    "yhat_nn = yhat_nn.reshape(1,-1)[0]"
   ]
  },
  {
   "cell_type": "code",
   "execution_count": null,
   "id": "e1c0e570",
   "metadata": {
    "ExecuteTime": {
     "end_time": "2022-03-10T23:01:15.273986Z",
     "start_time": "2022-03-10T19:50:39.470Z"
    }
   },
   "outputs": [],
   "source": [
    "# accuracy\n",
    "acc_nn = m.accuracy_score(y_test_nn, yhat_nn)\n",
    "print('Accuracy: {}'.format(acc_nn))\n",
    "\n",
    "# Balanced Accuracy\n",
    "balanced_acc_nn = m.balanced_accuracy_score(y_test_nn, yhat_nn)\n",
    "print('Balanced Accuracy: {}'.format(balanced_acc_nn))\n",
    "\n",
    "# Kappa Metrics\n",
    "kappa_acc_nn = m.cohen_kappa_score(y_test_nn, yhat_nn)\n",
    "print('Kappa Score: {}'.format(kappa_acc_nn))\n",
    "\n",
    "# confusion matrix\n",
    "mt.plot_confusion_matrix(y_test_nn , yhat_nn, normalize=False, figsize=(12,12))"
   ]
  },
  {
   "cell_type": "markdown",
   "id": "c35fee7e",
   "metadata": {},
   "source": [
    "### 9.2.2 NN Performance - Cross Validation\n"
   ]
  },
  {
   "cell_type": "code",
   "execution_count": null,
   "id": "f0924461",
   "metadata": {
    "ExecuteTime": {
     "end_time": "2022-03-10T23:01:15.275019Z",
     "start_time": "2022-03-10T19:50:39.472Z"
    }
   },
   "outputs": [],
   "source": [
    "# gerate k-fold\n",
    "\n",
    "num_fold = 5\n",
    "kfold = ms.StratifiedKFold ( n_splits = num_fold , shuffle = True, random_state = 32 )\n",
    "\n",
    "balanced_acc_list = []\n",
    "kappa_acc_nn_list = []\n",
    "\n",
    "i = 1\n",
    "for train_ix , val_ix in kfold.split (X_train, y_train):\n",
    "    print(' Fold Number : {}/{}'.format(i, num_fold))\n",
    "    # get fold\n",
    "    x_train_fold = X_train.iloc[train_ix]\n",
    "    y_train_fold = y_train.iloc[train_ix]\n",
    "    \n",
    "    x_val_fold = X_train.iloc[val_ix]\n",
    "    y_val_fold = y_train.iloc[val_ix]\n",
    "    \n",
    "    # target hot-encoging\n",
    "    ohe = pp.OneHotEncoder()\n",
    "    y_train_fold_nn = ohe.fit_transform(y_train_fold.values.reshape(-1,1)).toarray()\n",
    "     \n",
    "    # model definition\n",
    "    model = ml.Sequential()\n",
    "    model.add(l.Dense(256 , input_dim =X_train.shape[1] , activation = 'relu' ))\n",
    "    model.add(l.Dense(12 , activation = 'softmax' ))\n",
    "\n",
    "    # compile model\n",
    "    model.compile ( loss = 'categorical_crossentropy', optimizer = 'adam' , metrics=['accuracy'])\n",
    "\n",
    "    # training model\n",
    "    model.fit( x_train_fold , y_train_fold_nn, epochs = 100, batch_size = 32, verbose = 0)\n",
    "    \n",
    "    # prediction\n",
    "    pred_nn = model.predict(x_val_fold)\n",
    "\n",
    "    # invert Predict\n",
    "    yhat_nn = ohe.inverse_transform(pred_nn)\n",
    "\n",
    "    #  prepare data\n",
    "    y_test_nn =y_val_fold.to_numpy()\n",
    "    yhat_nn = yhat_nn.reshape(1,-1)[0]    \n",
    "    \n",
    "    # metrics\n",
    "    # Balanced Accuracy\n",
    "    balanced_acc_nn = m.balanced_accuracy_score(y_test_nn, yhat_nn)\n",
    "    balanced_acc_list.append(balanced_acc_nn)\n",
    "    \n",
    "    # Kappa Metrics\n",
    "    kappa_acc_nn = m.cohen_kappa_score(y_test_nn, yhat_nn)\n",
    "    kappa_acc_nn_list.append(kappa_acc_nn)\n",
    "\n",
    "    i +=  1"
   ]
  },
  {
   "cell_type": "code",
   "execution_count": null,
   "id": "4e7c8dea",
   "metadata": {
    "ExecuteTime": {
     "end_time": "2022-03-10T23:01:15.275859Z",
     "start_time": "2022-03-10T19:50:39.474Z"
    }
   },
   "outputs": [],
   "source": [
    "print (\"Avg Balanced Acurracy : {} +/- {}\".format(np.round(np.mean(balanced_acc_list),2), \n",
    "                                                  np.round(np.std(balanced_acc_list),4 )))\n",
    "\n",
    "print (\"Avg Kappa Score : {} +/- {}\".format(np.round(np.mean(kappa_acc_nn_list),3), \n",
    "                                            np.round(np.std(kappa_acc_nn_list),4 )))"
   ]
  },
  {
   "cell_type": "code",
   "execution_count": null,
   "id": "db502253",
   "metadata": {},
   "outputs": [],
   "source": []
  }
 ],
 "metadata": {
  "kernelspec": {
   "display_name": "Python 3",
   "language": "python",
   "name": "python3"
  },
  "language_info": {
   "codemirror_mode": {
    "name": "ipython",
    "version": 3
   },
   "file_extension": ".py",
   "mimetype": "text/x-python",
   "name": "python",
   "nbconvert_exporter": "python",
   "pygments_lexer": "ipython3",
   "version": "3.8.12"
  },
  "toc": {
   "base_numbering": 1,
   "nav_menu": {},
   "number_sections": false,
   "sideBar": true,
   "skip_h1_title": false,
   "title_cell": "Table of Contents",
   "title_sidebar": "Contents",
   "toc_cell": false,
   "toc_position": {},
   "toc_section_display": true,
   "toc_window_display": false
  },
  "varInspector": {
   "cols": {
    "lenName": 16,
    "lenType": 16,
    "lenVar": 40
   },
   "kernels_config": {
    "python": {
     "delete_cmd_postfix": "",
     "delete_cmd_prefix": "del ",
     "library": "var_list.py",
     "varRefreshCmd": "print(var_dic_list())"
    },
    "r": {
     "delete_cmd_postfix": ") ",
     "delete_cmd_prefix": "rm(",
     "library": "var_list.r",
     "varRefreshCmd": "cat(var_dic_list()) "
    }
   },
   "types_to_exclude": [
    "module",
    "function",
    "builtin_function_or_method",
    "instance",
    "_Feature"
   ],
   "window_display": false
  }
 },
 "nbformat": 4,
 "nbformat_minor": 5
}
