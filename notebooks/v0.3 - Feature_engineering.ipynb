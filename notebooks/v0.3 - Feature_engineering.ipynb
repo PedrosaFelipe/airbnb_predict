{
 "cells": [
  {
   "cell_type": "markdown",
   "id": "3a677559",
   "metadata": {
    "heading_collapsed": true
   },
   "source": [
    "##  0.0. Objetivo do Problema:\n"
   ]
  },
  {
   "cell_type": "markdown",
   "id": "a904bae7",
   "metadata": {
    "hidden": true
   },
   "source": [
    "-- 1.0. Previsao do primeiro destino que um novo usuário irá escolher.\n",
    "\n",
    "-- Porque?\n",
    "    -- Qual tipo de modelo de negócio do Airbnb? \n",
    "    \n",
    "    \n",
    "        - Marketplace ( Conectar pessoas que oferecem acomodacao, com pessoas que estao procurando acomodacao)\n",
    "        - Oferta ( pessoas oferecendo acomodacao )\n",
    "            - Tamanho do portfólio.\n",
    "            - Diversidade/Densidade de Portfólio.\n",
    "            - Preco Medio\n",
    "\n",
    "        - Demanda ( pessoas procurando acomodacao )\n",
    "            - Numero de Usuários\n",
    "            - LTV ( Lifetime Value )\n",
    "            - CAC ( Client Acquisition Cost )\n",
    "\n",
    "\n",
    "           Gross Revenue = ( Fee * Numero cliente ) - CAC "
   ]
  },
  {
   "cell_type": "markdown",
   "id": "b3525bf8",
   "metadata": {
    "ExecuteTime": {
     "end_time": "2022-03-01T20:30:12.443684Z",
     "start_time": "2022-03-01T20:30:12.440371Z"
    },
    "heading_collapsed": true
   },
   "source": [
    "##  0.1. Proposta de solução:\n"
   ]
  },
  {
   "cell_type": "markdown",
   "id": "48d35218",
   "metadata": {
    "hidden": true
   },
   "source": [
    "--- Modelo de Predizao do primeiro destino de um novo usario.\n",
    "\n",
    "- 1.0. Predicoes e salva em tabela do banco de dados. \n",
    "- 2.0. API \n",
    "        --- Input: usuario e suas caracteristicas\n",
    "        --- Output: usuario e suas caracteristicas com a **predicao do destino**\n",
    "\n",
    "--- 16 ciclos"
   ]
  },
  {
   "cell_type": "markdown",
   "id": "59d2dc94",
   "metadata": {
    "heading_collapsed": true
   },
   "source": [
    "# <font color ='red'> 1.0. Imports </font> "
   ]
  },
  {
   "cell_type": "code",
   "execution_count": 64,
   "id": "e84d2a39",
   "metadata": {
    "ExecuteTime": {
     "end_time": "2022-03-04T23:21:49.020341Z",
     "start_time": "2022-03-04T23:21:49.012981Z"
    },
    "hidden": true
   },
   "outputs": [],
   "source": [
    "import random\n",
    "import pandas                               as pd\n",
    "import seaborn                              as sns\n",
    "import numpy                                as np\n",
    "import matplotlib.pyplot                    as plt\n",
    "\n",
    "from sklearn      import model_selection    as ms\n",
    "from sklearn      import preprocessing      as pp\n",
    "from sklearn      import metrics            as m\n",
    "\n",
    "from scikitplot   import metrics            as mt\n",
    "from scipy        import stats              as ss\n",
    "\n",
    "\n",
    "from keras        import models             as ml\n",
    "from keras        import layers             as l\n",
    "\n",
    "from IPython.core.display          import HTML\n",
    "\n",
    "import warnings\n",
    "\n",
    "warnings.filterwarnings(\"ignore\")\n",
    "\n"
   ]
  },
  {
   "cell_type": "markdown",
   "id": "b330b24b",
   "metadata": {
    "code_folding": [],
    "hidden": true
   },
   "source": [
    "## 1.1. Helper Function"
   ]
  },
  {
   "cell_type": "code",
   "execution_count": 37,
   "id": "951c6cdf",
   "metadata": {
    "ExecuteTime": {
     "end_time": "2022-03-04T18:51:54.066310Z",
     "start_time": "2022-03-04T18:51:54.054605Z"
    },
    "hidden": true
   },
   "outputs": [
    {
     "data": {
      "text/html": [
       "<style>.container{width:100% !important;}</style>"
      ],
      "text/plain": [
       "<IPython.core.display.HTML object>"
      ]
     },
     "metadata": {},
     "output_type": "display_data"
    }
   ],
   "source": [
    "def my_settings():\n",
    "    %matplotlib inline\n",
    "    \n",
    "    # plotly settings\n",
    "    plt.style.use( 'bmh' )\n",
    "    plt.rcParams['figure.figsize'] = [25, 12]\n",
    "    plt.rcParams['font.size'] = 8\n",
    " \n",
    "    # notebook settings\n",
    "    display(HTML('<style>.container{width:100% !important;}</style>'))\n",
    "    np.set_printoptions(suppress=True)\n",
    "    pd.set_option('display.float_format', '{:.2f}'.format)\n",
    "    \n",
    "    # seaborn settings\n",
    "    sns.set(rc={'figure.figsize':(25,12)})\n",
    "    sns.set_theme(style = 'darkgrid', font_scale = 1)\n",
    "    \n",
    "my_settings()"
   ]
  },
  {
   "cell_type": "code",
   "execution_count": 66,
   "id": "a56b4f4f",
   "metadata": {
    "ExecuteTime": {
     "end_time": "2022-03-04T23:22:00.801529Z",
     "start_time": "2022-03-04T23:22:00.797423Z"
    },
    "hidden": true
   },
   "outputs": [],
   "source": [
    " # correlation 2 categorical variables \n",
    "    \n",
    "def cramer_v( x, y ):\n",
    "    cm = pd.crosstab( x, y ).values\n",
    "    n = cm.sum()\n",
    "    r, k = cm.shape\n",
    "    \n",
    "    chi2 = ss.chi2_contingency( cm )[0]\n",
    "    chi2corr = max( 0, chi2 - (k-1)*(r-1)/(n-1) )\n",
    "    \n",
    "    kcorr = k - (k-1)**2/(n-1)\n",
    "    rcorr = r - (r-1)**2/(n-1)\n",
    "    \n",
    "    return np.sqrt( (chi2corr/n) / ( min( kcorr-1, rcorr-1 ) ) )"
   ]
  },
  {
   "cell_type": "markdown",
   "id": "5cb67899",
   "metadata": {
    "hidden": true
   },
   "source": [
    "## 1.2. Loading Data"
   ]
  },
  {
   "cell_type": "code",
   "execution_count": 2,
   "id": "eed344bb",
   "metadata": {
    "ExecuteTime": {
     "end_time": "2022-03-04T16:00:29.099592Z",
     "start_time": "2022-03-04T16:00:23.510858Z"
    },
    "hidden": true
   },
   "outputs": [],
   "source": [
    "df_raw = pd.read_csv('~/repositorio/airbnb_predict/data/raw/train_users_2.csv', low_memory=True)\n",
    "df_sessions = pd.read_csv('~/repositorio/airbnb_predict/data/raw/sessions.csv', low_memory=True)"
   ]
  },
  {
   "cell_type": "markdown",
   "id": "72657aae",
   "metadata": {},
   "source": [
    "# 2.0. Data Description\n"
   ]
  },
  {
   "cell_type": "code",
   "execution_count": 3,
   "id": "994f10ea",
   "metadata": {
    "ExecuteTime": {
     "end_time": "2022-03-04T16:00:29.130058Z",
     "start_time": "2022-03-04T16:00:29.101038Z"
    }
   },
   "outputs": [],
   "source": [
    "df2 = df_raw.copy()"
   ]
  },
  {
   "cell_type": "code",
   "execution_count": 4,
   "id": "469c15bc",
   "metadata": {
    "ExecuteTime": {
     "end_time": "2022-03-04T16:00:29.139579Z",
     "start_time": "2022-03-04T16:00:29.132170Z"
    },
    "scrolled": true
   },
   "outputs": [
    {
     "name": "stdout",
     "output_type": "stream",
     "text": [
      "Number of rows: 213451\n",
      "Number of columns: 16\n"
     ]
    }
   ],
   "source": [
    "print('Number of rows: {}'.format(df2.shape[0]))\n",
    "print('Number of columns: {}'.format(df2.shape[1]))"
   ]
  },
  {
   "cell_type": "code",
   "execution_count": 5,
   "id": "d04ba9b9",
   "metadata": {
    "ExecuteTime": {
     "end_time": "2022-03-04T16:00:29.146976Z",
     "start_time": "2022-03-04T16:00:29.141628Z"
    }
   },
   "outputs": [
    {
     "name": "stdout",
     "output_type": "stream",
     "text": [
      "Number of rows: 10567737\n",
      "Number of columns: 6\n"
     ]
    }
   ],
   "source": [
    "print('Number of rows: {}'.format(df_sessions.shape[0]))\n",
    "print('Number of columns: {}'.format(df_sessions.shape[1]))"
   ]
  },
  {
   "cell_type": "markdown",
   "id": "5a83c787",
   "metadata": {},
   "source": [
    "## 2.1. Data Type\n"
   ]
  },
  {
   "cell_type": "code",
   "execution_count": 6,
   "id": "8b55ac79",
   "metadata": {
    "ExecuteTime": {
     "end_time": "2022-03-04T16:00:29.160277Z",
     "start_time": "2022-03-04T16:00:29.149463Z"
    },
    "scrolled": true
   },
   "outputs": [
    {
     "data": {
      "text/plain": [
       "id                          object\n",
       "date_account_created        object\n",
       "timestamp_first_active       int64\n",
       "date_first_booking          object\n",
       "gender                      object\n",
       "age                        float64\n",
       "signup_method               object\n",
       "signup_flow                  int64\n",
       "language                    object\n",
       "affiliate_channel           object\n",
       "affiliate_provider          object\n",
       "first_affiliate_tracked     object\n",
       "signup_app                  object\n",
       "first_device_type           object\n",
       "first_browser               object\n",
       "country_destination         object\n",
       "dtype: object"
      ]
     },
     "execution_count": 6,
     "metadata": {},
     "output_type": "execute_result"
    }
   ],
   "source": [
    "df2.dtypes"
   ]
  },
  {
   "cell_type": "code",
   "execution_count": 7,
   "id": "494600a1",
   "metadata": {
    "ExecuteTime": {
     "end_time": "2022-03-04T16:00:29.169023Z",
     "start_time": "2022-03-04T16:00:29.162532Z"
    }
   },
   "outputs": [
    {
     "data": {
      "text/plain": [
       "user_id           object\n",
       "action            object\n",
       "action_type       object\n",
       "action_detail     object\n",
       "device_type       object\n",
       "secs_elapsed     float64\n",
       "dtype: object"
      ]
     },
     "execution_count": 7,
     "metadata": {},
     "output_type": "execute_result"
    }
   ],
   "source": [
    "df_sessions.dtypes"
   ]
  },
  {
   "cell_type": "markdown",
   "id": "bb06ccaa",
   "metadata": {},
   "source": [
    "## 2.2. NA Check\n"
   ]
  },
  {
   "cell_type": "code",
   "execution_count": 8,
   "id": "ca925b47",
   "metadata": {
    "ExecuteTime": {
     "end_time": "2022-03-04T16:00:29.263007Z",
     "start_time": "2022-03-04T16:00:29.171480Z"
    },
    "scrolled": false
   },
   "outputs": [
    {
     "data": {
      "text/plain": [
       "id                         0.000000\n",
       "date_account_created       0.000000\n",
       "timestamp_first_active     0.000000\n",
       "date_first_booking         0.583473\n",
       "gender                     0.000000\n",
       "age                        0.412226\n",
       "signup_method              0.000000\n",
       "signup_flow                0.000000\n",
       "language                   0.000000\n",
       "affiliate_channel          0.000000\n",
       "affiliate_provider         0.000000\n",
       "first_affiliate_tracked    0.028414\n",
       "signup_app                 0.000000\n",
       "first_device_type          0.000000\n",
       "first_browser              0.000000\n",
       "country_destination        0.000000\n",
       "dtype: float64"
      ]
     },
     "execution_count": 8,
     "metadata": {},
     "output_type": "execute_result"
    }
   ],
   "source": [
    "df2.isna().sum() / len(df2)"
   ]
  },
  {
   "cell_type": "code",
   "execution_count": 9,
   "id": "0fbcb1c7",
   "metadata": {
    "ExecuteTime": {
     "end_time": "2022-03-04T16:00:30.622293Z",
     "start_time": "2022-03-04T16:00:29.264661Z"
    }
   },
   "outputs": [
    {
     "data": {
      "text/plain": [
       "user_id          0.003264\n",
       "action           0.007535\n",
       "action_type      0.106570\n",
       "action_detail    0.106570\n",
       "device_type      0.000000\n",
       "secs_elapsed     0.012872\n",
       "dtype: float64"
      ]
     },
     "execution_count": 9,
     "metadata": {},
     "output_type": "execute_result"
    }
   ],
   "source": [
    "df_sessions.isna().sum() / len(df_sessions)"
   ]
  },
  {
   "cell_type": "code",
   "execution_count": 10,
   "id": "2f2b3304",
   "metadata": {
    "ExecuteTime": {
     "end_time": "2022-03-04T16:00:30.628940Z",
     "start_time": "2022-03-04T16:00:30.625608Z"
    }
   },
   "outputs": [],
   "source": [
    "# aux = df_sessions[df_sessions['secs_elapsed'] < 0.25e6]"
   ]
  },
  {
   "cell_type": "code",
   "execution_count": 11,
   "id": "910cac9d",
   "metadata": {
    "ExecuteTime": {
     "end_time": "2022-03-04T16:00:30.639119Z",
     "start_time": "2022-03-04T16:00:30.631153Z"
    },
    "scrolled": true
   },
   "outputs": [],
   "source": [
    "# sns.distplot(aux['secs_elapsed'])"
   ]
  },
  {
   "cell_type": "code",
   "execution_count": 12,
   "id": "c8eb8827",
   "metadata": {
    "ExecuteTime": {
     "end_time": "2022-03-04T16:00:30.648338Z",
     "start_time": "2022-03-04T16:00:30.641061Z"
    }
   },
   "outputs": [],
   "source": [
    "# sns.distplot(df2[df2['age'] < 65] ['age'])"
   ]
  },
  {
   "cell_type": "code",
   "execution_count": 13,
   "id": "f94e1770",
   "metadata": {
    "ExecuteTime": {
     "end_time": "2022-03-04T16:00:34.321065Z",
     "start_time": "2022-03-04T16:00:30.651626Z"
    },
    "scrolled": true
   },
   "outputs": [],
   "source": [
    "# remove missing value completly\n",
    "\n",
    "# df2 = df2.dropna()\n",
    "\n",
    "# ==================== User ======================\n",
    "# date_first_booking\n",
    "date_first_booking_max = pd.to_datetime(df2['date_first_booking']).max().strftime('%Y%m%d')\n",
    "df2['date_first_booking'] = df2['date_first_booking'].fillna(date_first_booking_max)\n",
    "                                \n",
    "# age\n",
    "avg_age = df2['age'].mean()   \n",
    "df2['age'] = df2['age'].fillna(avg_age)\n",
    "\n",
    "# first_affiliate_tracked\n",
    "df2 = df2[~df2['first_affiliate_tracked'].isna()]     \n",
    "\n",
    "# ==================== Sessions ======================\n",
    "# user_id          0.003 %\n",
    "df_sessions = df_sessions[~df_sessions['user_id'].isna()]     \n",
    "\n",
    "# action           0.007 %\n",
    "df_sessions = df_sessions[~df_sessions['action'].isna()]     \n",
    "\n",
    "# action_type      0.106 %\n",
    "df_sessions = df_sessions[~df_sessions['action_type'].isna()]     \n",
    "\n",
    "# action_detail    0.106 %\n",
    "df_sessions = df_sessions[~df_sessions['action_detail'].isna()]     \n",
    "\n",
    "# device_type      0.000 %\n",
    "df_sessions = df_sessions[~df_sessions['device_type'].isna()]     \n",
    "\n",
    "# secs_elapsed     0.012 %\n",
    "df_sessions = df_sessions[~df_sessions['secs_elapsed'].isna()]     \n",
    "\n",
    "\n",
    "                                "
   ]
  },
  {
   "cell_type": "markdown",
   "id": "7a29c42e",
   "metadata": {
    "heading_collapsed": true
   },
   "source": [
    "## 2.3. Change Data Type\n"
   ]
  },
  {
   "cell_type": "code",
   "execution_count": 14,
   "id": "5d1b7abc",
   "metadata": {
    "ExecuteTime": {
     "end_time": "2022-03-04T16:00:34.880074Z",
     "start_time": "2022-03-04T16:00:34.322872Z"
    },
    "hidden": true
   },
   "outputs": [],
   "source": [
    "# 'date_account_created'\n",
    "df2['date_account_created'] = pd.to_datetime(df2['date_account_created'])\n",
    "\n",
    "# 'timestamp_first_active'\n",
    "df2['timestamp_first_active'] = pd.to_datetime(df2['timestamp_first_active'], format = '%Y%m%d%H%M%S')\n",
    "\n",
    "# 'date_first_booking'\n",
    "df2['date_first_booking'] = pd.to_datetime(df2['date_first_booking'])\n",
    "\n",
    "# 'age'\n",
    "df2['age'] = df2['age'].astype('int64')\n"
   ]
  },
  {
   "cell_type": "markdown",
   "id": "0b8c79b7",
   "metadata": {},
   "source": [
    "## 2.4. Check Balanced Data\n"
   ]
  },
  {
   "cell_type": "code",
   "execution_count": 15,
   "id": "2595b9c3",
   "metadata": {
    "ExecuteTime": {
     "end_time": "2022-03-04T16:00:34.895545Z",
     "start_time": "2022-03-04T16:00:34.881470Z"
    },
    "scrolled": true
   },
   "outputs": [
    {
     "data": {
      "text/plain": [
       "NDF      0.579673\n",
       "US       0.294461\n",
       "other    0.048128\n",
       "FR       0.023623\n",
       "IT       0.013458\n",
       "GB       0.011066\n",
       "ES       0.010671\n",
       "CA       0.006707\n",
       "DE       0.005020\n",
       "NL       0.003621\n",
       "AU       0.002541\n",
       "PT       0.001032\n",
       "Name: country_destination, dtype: float64"
      ]
     },
     "execution_count": 15,
     "metadata": {},
     "output_type": "execute_result"
    }
   ],
   "source": [
    "df2['country_destination'].value_counts(normalize=True)"
   ]
  },
  {
   "cell_type": "markdown",
   "id": "5d50b8e4",
   "metadata": {},
   "source": [
    "## 2.5. Descriptive Analysis"
   ]
  },
  {
   "cell_type": "code",
   "execution_count": 42,
   "id": "e402ed6a",
   "metadata": {
    "ExecuteTime": {
     "end_time": "2022-03-04T20:04:42.823331Z",
     "start_time": "2022-03-04T20:04:40.280549Z"
    }
   },
   "outputs": [],
   "source": [
    "\n",
    "#====================== Users ===========================\n",
    "num_att = df2.select_dtypes(include = ['int64','float64'])\n",
    "cat_att = df2.select_dtypes(exclude = ['int64','float64', 'datetime64[ns]'])\n",
    "time_att = df2.select_dtypes(include = ['datetime64[ns]'])\n",
    "\n",
    "#==================== Sessions ==========================\n",
    "num_att_sessions = df_sessions.select_dtypes(include = ['int64','float64'])\n",
    "cat_att_sessions = df_sessions.select_dtypes(exclude = ['int64','float64', 'datetime64[ns]'])\n",
    "time_att_sessions = df_sessions.select_dtypes(include = ['datetime64[ns]'])\n"
   ]
  },
  {
   "cell_type": "markdown",
   "id": "1aa0a555",
   "metadata": {
    "heading_collapsed": true
   },
   "source": [
    "### 2.5.1 Numerical - Users"
   ]
  },
  {
   "cell_type": "code",
   "execution_count": 45,
   "id": "65ea68a5",
   "metadata": {
    "ExecuteTime": {
     "end_time": "2022-03-04T20:09:53.360623Z",
     "start_time": "2022-03-04T20:09:53.278261Z"
    },
    "hidden": true
   },
   "outputs": [
    {
     "data": {
      "text/html": [
       "<div>\n",
       "<style scoped>\n",
       "    .dataframe tbody tr th:only-of-type {\n",
       "        vertical-align: middle;\n",
       "    }\n",
       "\n",
       "    .dataframe tbody tr th {\n",
       "        vertical-align: top;\n",
       "    }\n",
       "\n",
       "    .dataframe thead th {\n",
       "        text-align: right;\n",
       "    }\n",
       "</style>\n",
       "<table border=\"1\" class=\"dataframe\">\n",
       "  <thead>\n",
       "    <tr style=\"text-align: right;\">\n",
       "      <th></th>\n",
       "      <th>attributes</th>\n",
       "      <th>min</th>\n",
       "      <th>max</th>\n",
       "      <th>range</th>\n",
       "      <th>mean</th>\n",
       "      <th>median</th>\n",
       "      <th>std</th>\n",
       "      <th>skew</th>\n",
       "      <th>kustosis</th>\n",
       "    </tr>\n",
       "  </thead>\n",
       "  <tbody>\n",
       "    <tr>\n",
       "      <th>0</th>\n",
       "      <td>age</td>\n",
       "      <td>1.00</td>\n",
       "      <td>2014.00</td>\n",
       "      <td>2013.00</td>\n",
       "      <td>49.18</td>\n",
       "      <td>49.00</td>\n",
       "      <td>118.42</td>\n",
       "      <td>16.33</td>\n",
       "      <td>267.66</td>\n",
       "    </tr>\n",
       "    <tr>\n",
       "      <th>1</th>\n",
       "      <td>signup_flow</td>\n",
       "      <td>0.00</td>\n",
       "      <td>25.00</td>\n",
       "      <td>25.00</td>\n",
       "      <td>3.15</td>\n",
       "      <td>0.00</td>\n",
       "      <td>7.54</td>\n",
       "      <td>2.29</td>\n",
       "      <td>3.57</td>\n",
       "    </tr>\n",
       "  </tbody>\n",
       "</table>\n",
       "</div>"
      ],
      "text/plain": [
       "    attributes  min     max   range  mean  median    std  skew  kustosis\n",
       "0          age 1.00 2014.00 2013.00 49.18   49.00 118.42 16.33    267.66\n",
       "1  signup_flow 0.00   25.00   25.00  3.15    0.00   7.54  2.29      3.57"
      ]
     },
     "execution_count": 45,
     "metadata": {},
     "output_type": "execute_result"
    }
   ],
   "source": [
    "# Central tendency - mean , median\n",
    "ct1 = pd.DataFrame(num_att.apply(np.mean)).T\n",
    "ct2 = pd.DataFrame(num_att.apply(np.median)).T\n",
    "\n",
    "# Dispersion - std , min , max , range , skew , kurtosis\n",
    "d1 = pd.DataFrame(num_att.apply(np.std)).T\n",
    "d2 = pd.DataFrame(num_att.apply(min)).T\n",
    "d3 = pd.DataFrame(num_att.apply(max)).T\n",
    "d4 = pd.DataFrame(num_att.apply(lambda x: x.max() - x.min())).T\n",
    "d5 = pd.DataFrame(num_att.apply(lambda x: x.skew())).T\n",
    "d6 = pd.DataFrame(num_att.apply(lambda x: x.kurtosis())).T\n",
    "\n",
    "# concatenate\n",
    "m = pd.concat([d2,d3,d4,ct1,ct2,d1,d5,d6]).T.reset_index()\n",
    "m.columns =['attributes','min','max','range','mean','median','std','skew','kustosis']\n",
    "m"
   ]
  },
  {
   "cell_type": "markdown",
   "id": "ea7cbf9a",
   "metadata": {
    "heading_collapsed": true
   },
   "source": [
    "### 2.5.1 Numerical - Sessions"
   ]
  },
  {
   "cell_type": "code",
   "execution_count": 47,
   "id": "abd1d442",
   "metadata": {
    "ExecuteTime": {
     "end_time": "2022-03-04T20:10:04.978525Z",
     "start_time": "2022-03-04T20:10:03.538680Z"
    },
    "hidden": true
   },
   "outputs": [
    {
     "data": {
      "text/html": [
       "<div>\n",
       "<style scoped>\n",
       "    .dataframe tbody tr th:only-of-type {\n",
       "        vertical-align: middle;\n",
       "    }\n",
       "\n",
       "    .dataframe tbody tr th {\n",
       "        vertical-align: top;\n",
       "    }\n",
       "\n",
       "    .dataframe thead th {\n",
       "        text-align: right;\n",
       "    }\n",
       "</style>\n",
       "<table border=\"1\" class=\"dataframe\">\n",
       "  <thead>\n",
       "    <tr style=\"text-align: right;\">\n",
       "      <th></th>\n",
       "      <th>attributes</th>\n",
       "      <th>min</th>\n",
       "      <th>max</th>\n",
       "      <th>range</th>\n",
       "      <th>mean</th>\n",
       "      <th>median</th>\n",
       "      <th>std</th>\n",
       "      <th>skew</th>\n",
       "      <th>kustosis</th>\n",
       "    </tr>\n",
       "  </thead>\n",
       "  <tbody>\n",
       "    <tr>\n",
       "      <th>0</th>\n",
       "      <td>secs_elapsed</td>\n",
       "      <td>0.00</td>\n",
       "      <td>1799977.00</td>\n",
       "      <td>1799977.00</td>\n",
       "      <td>19961.83</td>\n",
       "      <td>1369.00</td>\n",
       "      <td>88849.39</td>\n",
       "      <td>11.14</td>\n",
       "      <td>154.84</td>\n",
       "    </tr>\n",
       "  </tbody>\n",
       "</table>\n",
       "</div>"
      ],
      "text/plain": [
       "     attributes  min        max      range     mean  median      std  skew  \\\n",
       "0  secs_elapsed 0.00 1799977.00 1799977.00 19961.83 1369.00 88849.39 11.14   \n",
       "\n",
       "   kustosis  \n",
       "0    154.84  "
      ]
     },
     "execution_count": 47,
     "metadata": {},
     "output_type": "execute_result"
    }
   ],
   "source": [
    "# Central tendency - mean , median\n",
    "ct1 = pd.DataFrame(num_att_sessions.apply(np.mean)).T\n",
    "ct2 = pd.DataFrame(num_att_sessions.apply(np.median)).T\n",
    "\n",
    "# Dispersion - std , min , max , range , skew , kurtosis\n",
    "d1 = pd.DataFrame(num_att_sessions.apply(np.std)).T\n",
    "d2 = pd.DataFrame(num_att_sessions.apply(min)).T\n",
    "d3 = pd.DataFrame(num_att_sessions.apply(max)).T\n",
    "d4 = pd.DataFrame(num_att_sessions.apply(lambda x: x.max() - x.min())).T\n",
    "d5 = pd.DataFrame(num_att_sessions.apply(lambda x: x.skew())).T\n",
    "d6 = pd.DataFrame(num_att_sessions.apply(lambda x: x.kurtosis())).T\n",
    "\n",
    "# concatenate\n",
    "m = pd.concat([d2,d3,d4,ct1,ct2,d1,d5,d6]).T.reset_index()\n",
    "m.columns =['attributes','min','max','range','mean','median','std','skew','kustosis']\n",
    "m"
   ]
  },
  {
   "cell_type": "markdown",
   "id": "7e7b691e",
   "metadata": {
    "heading_collapsed": true
   },
   "source": [
    "### 2.5.3 Categorical - Users"
   ]
  },
  {
   "cell_type": "code",
   "execution_count": 49,
   "id": "e59bb2ca",
   "metadata": {
    "ExecuteTime": {
     "end_time": "2022-03-04T20:12:18.961177Z",
     "start_time": "2022-03-04T20:12:18.786015Z"
    },
    "hidden": true
   },
   "outputs": [
    {
     "data": {
      "text/html": [
       "<div>\n",
       "<style scoped>\n",
       "    .dataframe tbody tr th:only-of-type {\n",
       "        vertical-align: middle;\n",
       "    }\n",
       "\n",
       "    .dataframe tbody tr th {\n",
       "        vertical-align: top;\n",
       "    }\n",
       "\n",
       "    .dataframe thead th {\n",
       "        text-align: right;\n",
       "    }\n",
       "</style>\n",
       "<table border=\"1\" class=\"dataframe\">\n",
       "  <thead>\n",
       "    <tr style=\"text-align: right;\">\n",
       "      <th></th>\n",
       "      <th>gender</th>\n",
       "      <th>signup_method</th>\n",
       "      <th>language</th>\n",
       "      <th>affiliate_channel</th>\n",
       "      <th>affiliate_provider</th>\n",
       "      <th>first_affiliate_tracked</th>\n",
       "      <th>signup_app</th>\n",
       "      <th>first_device_type</th>\n",
       "      <th>first_browser</th>\n",
       "      <th>country_destination</th>\n",
       "    </tr>\n",
       "  </thead>\n",
       "  <tbody>\n",
       "    <tr>\n",
       "      <th>count</th>\n",
       "      <td>207386</td>\n",
       "      <td>207386</td>\n",
       "      <td>207386</td>\n",
       "      <td>207386</td>\n",
       "      <td>207386</td>\n",
       "      <td>207386</td>\n",
       "      <td>207386</td>\n",
       "      <td>207386</td>\n",
       "      <td>207386</td>\n",
       "      <td>207386</td>\n",
       "    </tr>\n",
       "    <tr>\n",
       "      <th>unique</th>\n",
       "      <td>4</td>\n",
       "      <td>3</td>\n",
       "      <td>25</td>\n",
       "      <td>8</td>\n",
       "      <td>18</td>\n",
       "      <td>7</td>\n",
       "      <td>4</td>\n",
       "      <td>9</td>\n",
       "      <td>52</td>\n",
       "      <td>12</td>\n",
       "    </tr>\n",
       "    <tr>\n",
       "      <th>top</th>\n",
       "      <td>-unknown-</td>\n",
       "      <td>basic</td>\n",
       "      <td>en</td>\n",
       "      <td>direct</td>\n",
       "      <td>direct</td>\n",
       "      <td>untracked</td>\n",
       "      <td>Web</td>\n",
       "      <td>Mac Desktop</td>\n",
       "      <td>Chrome</td>\n",
       "      <td>NDF</td>\n",
       "    </tr>\n",
       "    <tr>\n",
       "      <th>freq</th>\n",
       "      <td>91783</td>\n",
       "      <td>148297</td>\n",
       "      <td>200415</td>\n",
       "      <td>134179</td>\n",
       "      <td>133935</td>\n",
       "      <td>109232</td>\n",
       "      <td>178334</td>\n",
       "      <td>89600</td>\n",
       "      <td>63845</td>\n",
       "      <td>120216</td>\n",
       "    </tr>\n",
       "  </tbody>\n",
       "</table>\n",
       "</div>"
      ],
      "text/plain": [
       "           gender signup_method language affiliate_channel affiliate_provider  \\\n",
       "count      207386        207386   207386            207386             207386   \n",
       "unique          4             3       25                 8                 18   \n",
       "top     -unknown-         basic       en            direct             direct   \n",
       "freq        91783        148297   200415            134179             133935   \n",
       "\n",
       "       first_affiliate_tracked signup_app first_device_type first_browser  \\\n",
       "count                   207386     207386            207386        207386   \n",
       "unique                       7          4                 9            52   \n",
       "top                  untracked        Web       Mac Desktop        Chrome   \n",
       "freq                    109232     178334             89600         63845   \n",
       "\n",
       "       country_destination  \n",
       "count               207386  \n",
       "unique                  12  \n",
       "top                    NDF  \n",
       "freq                120216  "
      ]
     },
     "execution_count": 49,
     "metadata": {},
     "output_type": "execute_result"
    }
   ],
   "source": [
    "cat_att.drop('id', axis = 1).describe()"
   ]
  },
  {
   "cell_type": "markdown",
   "id": "60d07ad2",
   "metadata": {
    "heading_collapsed": true
   },
   "source": [
    "### 2.5.4 Categorical - Sessions"
   ]
  },
  {
   "cell_type": "code",
   "execution_count": 52,
   "id": "c5782c25",
   "metadata": {
    "ExecuteTime": {
     "end_time": "2022-03-04T23:01:48.536311Z",
     "start_time": "2022-03-04T23:01:44.023919Z"
    },
    "hidden": true,
    "scrolled": true
   },
   "outputs": [
    {
     "data": {
      "text/html": [
       "<div>\n",
       "<style scoped>\n",
       "    .dataframe tbody tr th:only-of-type {\n",
       "        vertical-align: middle;\n",
       "    }\n",
       "\n",
       "    .dataframe tbody tr th {\n",
       "        vertical-align: top;\n",
       "    }\n",
       "\n",
       "    .dataframe thead th {\n",
       "        text-align: right;\n",
       "    }\n",
       "</style>\n",
       "<table border=\"1\" class=\"dataframe\">\n",
       "  <thead>\n",
       "    <tr style=\"text-align: right;\">\n",
       "      <th></th>\n",
       "      <th>action</th>\n",
       "      <th>action_type</th>\n",
       "      <th>action_detail</th>\n",
       "      <th>device_type</th>\n",
       "    </tr>\n",
       "  </thead>\n",
       "  <tbody>\n",
       "    <tr>\n",
       "      <th>count</th>\n",
       "      <td>9213930</td>\n",
       "      <td>9213930</td>\n",
       "      <td>9213930</td>\n",
       "      <td>9213930</td>\n",
       "    </tr>\n",
       "    <tr>\n",
       "      <th>unique</th>\n",
       "      <td>347</td>\n",
       "      <td>10</td>\n",
       "      <td>155</td>\n",
       "      <td>14</td>\n",
       "    </tr>\n",
       "    <tr>\n",
       "      <th>top</th>\n",
       "      <td>show</td>\n",
       "      <td>view</td>\n",
       "      <td>view_search_results</td>\n",
       "      <td>Mac Desktop</td>\n",
       "    </tr>\n",
       "    <tr>\n",
       "      <th>freq</th>\n",
       "      <td>2178382</td>\n",
       "      <td>3545621</td>\n",
       "      <td>1770931</td>\n",
       "      <td>3019523</td>\n",
       "    </tr>\n",
       "  </tbody>\n",
       "</table>\n",
       "</div>"
      ],
      "text/plain": [
       "         action action_type        action_detail  device_type\n",
       "count   9213930     9213930              9213930      9213930\n",
       "unique      347          10                  155           14\n",
       "top        show        view  view_search_results  Mac Desktop\n",
       "freq    2178382     3545621              1770931      3019523"
      ]
     },
     "execution_count": 52,
     "metadata": {},
     "output_type": "execute_result"
    }
   ],
   "source": [
    "cat_att_sessions.drop('user_id', axis = 1).describe()"
   ]
  },
  {
   "cell_type": "code",
   "execution_count": 67,
   "id": "c7e3c628",
   "metadata": {
    "ExecuteTime": {
     "end_time": "2022-03-04T23:22:32.030610Z",
     "start_time": "2022-03-04T23:22:06.750532Z"
    },
    "hidden": true
   },
   "outputs": [],
   "source": [
    "# list of atrributes for Cramer's V correlation\n",
    "\n",
    "cat_att_list = cat_att_sessions.drop('user_id',axis = 1).columns.to_list()\n",
    "\n",
    "corr_dict = {}\n",
    "\n",
    "for i in range(len(cat_att_list)):\n",
    "    corr_list = []\n",
    "    for j in range(len(cat_att_list)):\n",
    "        ref  = cat_att_list[i]\n",
    "        feat = cat_att_list[j]\n",
    "        corr = cramer_v(cat_att_sessions[ref], cat_att_sessions[feat])\n",
    "        corr_list.append(corr)\n",
    "        \n",
    "        corr_dict[ref] = corr_list"
   ]
  },
  {
   "cell_type": "code",
   "execution_count": 73,
   "id": "fe6f7af7",
   "metadata": {
    "ExecuteTime": {
     "end_time": "2022-03-04T23:29:11.244207Z",
     "start_time": "2022-03-04T23:29:11.027130Z"
    },
    "hidden": true
   },
   "outputs": [
    {
     "data": {
      "text/plain": [
       "<AxesSubplot:>"
      ]
     },
     "execution_count": 73,
     "metadata": {},
     "output_type": "execute_result"
    },
    {
     "data": {
      "image/png": "[encoded data removed]",
      "text/plain": [
       "<Figure size 1800x864 with 2 Axes>"
      ]
     },
     "metadata": {},
     "output_type": "display_data"
    }
   ],
   "source": [
    "d = pd.DataFrame(corr_dict)\n",
    "d = d.set_index(d.columns)\n",
    "sns.heatmap(d , annot= True)"
   ]
  },
  {
   "cell_type": "code",
   "execution_count": null,
   "id": "8e1a5528",
   "metadata": {
    "hidden": true
   },
   "outputs": [],
   "source": []
  },
  {
   "cell_type": "markdown",
   "id": "1ad176ad",
   "metadata": {},
   "source": [
    "# 3.0.  Feature Engineering\n"
   ]
  },
  {
   "cell_type": "code",
   "execution_count": 75,
   "id": "282ac741",
   "metadata": {
    "ExecuteTime": {
     "end_time": "2022-03-04T23:48:19.000175Z",
     "start_time": "2022-03-04T23:48:18.772260Z"
    }
   },
   "outputs": [],
   "source": [
    "df3 = df2.copy()"
   ]
  },
  {
   "cell_type": "markdown",
   "id": "3fdc985e",
   "metadata": {},
   "source": [
    "## 3.1. Create New Features"
   ]
  },
  {
   "cell_type": "code",
   "execution_count": 76,
   "id": "ce0367dd",
   "metadata": {
    "ExecuteTime": {
     "end_time": "2022-03-04T23:48:34.990193Z",
     "start_time": "2022-03-04T23:48:30.479471Z"
    }
   },
   "outputs": [],
   "source": [
    "# days from first active up to first booking\n",
    "df3['first_active'] = pd.to_datetime( df3['timestamp_first_active'].dt.strftime( '%Y-%m-%d' ) )\n",
    "df3['days_from_frist_active_until_booking'] = (  e_first_booking'] - df3['first_active'] ).apply( lambda x: x.days )\n",
    "\n",
    "# days from first active upt to account created\n",
    "df3['days_from_first_active_until_account_created'] = ( df3['date_account_created'] - df3['first_active'] ).apply( lambda x: x.days )\n",
    "\n",
    "# days from account createad up to first booking\n",
    "df3['days_from_account_created_until_first_booking'] = ( df3['date_first_booking'] - df3['date_account_created'] ).apply( lambda x: x.days )\n",
    "\n",
    "# ================== First Active ==================\n",
    "# year first active\n",
    "df3['year_first_active'] = df3['first_active'].dt.year\n",
    "\n",
    "# month first active\n",
    "df3['month_fist_active'] = df3['first_active'].dt.month\n",
    "\n",
    "# day first active\n",
    "df3['day_first_active'] = df3['first_active'].dt.day\n",
    "\n",
    "# day of week first active\n",
    "df3['day_of_week_first_active'] = df3['first_active'].dt.dayofweek\n",
    "\n",
    "# week of year first active\n",
    "df3['week_of_year_first_active'] = df3['first_active'].dt.weekofyear\n",
    "\n",
    "# ================== First Booking ==================\n",
    "# year first booking\n",
    "df3['year_first_booking'] = df3['date_first_booking'].dt.year\n",
    "\n",
    "# month first booking\n",
    "df3['month_first_booking'] = df3['date_first_booking'].dt.month\n",
    "\n",
    "# day first booking\n",
    "df3['day_first_booking'] = df3['date_first_booking'].dt.day\n",
    "\n",
    "# day of week first booking\n",
    "df3['day_of_week_first_booking'] = df3['date_first_booking'].dt.dayofweek\n",
    "\n",
    "# week of year first booking\n",
    "df3['week_of_year_first_booking'] = df3['date_first_booking'].dt.weekofyear\n",
    "\n",
    "# ================== First Account Created =================\n",
    "# year first booking\n",
    "df3['year_account_created'] = df3['date_account_created'].dt.year\n",
    "\n",
    "# month  account_created\n",
    "df3['month_account_created'] = df3['date_account_created'].dt.month\n",
    "\n",
    "# day  account_created\n",
    "df3['day_account_created'] = df3['date_account_created'].dt.day\n",
    "\n",
    "# day of week  account_created\n",
    "df3['day_of_week_account_created'] = df3['date_account_created'].dt.dayofweek\n",
    "\n",
    "# week of year  account_created\n",
    "df3['week_of_year_account_created'] = df3['date_account_created'].dt.weekofyear"
   ]
  },
  {
   "cell_type": "code",
   "execution_count": 78,
   "id": "64320598",
   "metadata": {
    "ExecuteTime": {
     "end_time": "2022-03-04T23:57:48.166283Z",
     "start_time": "2022-03-04T23:57:48.160415Z"
    }
   },
   "outputs": [
    {
     "data": {
      "text/plain": [
       "(206593, 35)"
      ]
     },
     "execution_count": 78,
     "metadata": {},
     "output_type": "execute_result"
    }
   ],
   "source": [
    "df3.shape"
   ]
  },
  {
   "cell_type": "markdown",
   "id": "a7a55371",
   "metadata": {},
   "source": [
    "# 4.0.  Data Filtering\n"
   ]
  },
  {
   "cell_type": "code",
   "execution_count": 79,
   "id": "6c66ae58",
   "metadata": {
    "ExecuteTime": {
     "end_time": "2022-03-05T00:01:20.146842Z",
     "start_time": "2022-03-05T00:01:20.040355Z"
    }
   },
   "outputs": [],
   "source": [
    "df4 = df3.copy()"
   ]
  },
  {
   "cell_type": "markdown",
   "id": "d987bff2",
   "metadata": {},
   "source": [
    "## 4.1.  Filtering Rows\n"
   ]
  },
  {
   "cell_type": "code",
   "execution_count": 80,
   "id": "29489e0e",
   "metadata": {
    "ExecuteTime": {
     "end_time": "2022-03-05T00:01:23.112186Z",
     "start_time": "2022-03-05T00:01:20.149428Z"
    }
   },
   "outputs": [],
   "source": [
    "# age - greater than 15 and lower than 120 - There are few peoples over 120 years old\n",
    "df4 = df4[(df2['age'] > 15 ) & (df4['age'] < 120)]\n",
    "\n",
    "# secs_elapsed - There is no possible 0 elapsed in the site\n",
    "df_sessions = df_sessions[df_sessions['secs_elapsed'] > 0]"
   ]
  },
  {
   "cell_type": "markdown",
   "id": "8f5dbd20",
   "metadata": {},
   "source": [
    "## 4.2.  Columns Selection"
   ]
  },
  {
   "cell_type": "code",
   "execution_count": null,
   "id": "0c175c93",
   "metadata": {},
   "outputs": [],
   "source": []
  },
  {
   "cell_type": "markdown",
   "id": "588f6403",
   "metadata": {},
   "source": [
    "# 5.0.  Data Preparation\n"
   ]
  },
  {
   "cell_type": "code",
   "execution_count": 81,
   "id": "309e6de2",
   "metadata": {
    "ExecuteTime": {
     "end_time": "2022-03-05T00:01:23.142325Z",
     "start_time": "2022-03-05T00:01:23.113837Z"
    }
   },
   "outputs": [],
   "source": [
    "df5 = df4.copy()"
   ]
  },
  {
   "cell_type": "code",
   "execution_count": 82,
   "id": "dde1c9e8",
   "metadata": {
    "ExecuteTime": {
     "end_time": "2022-03-05T00:01:23.801133Z",
     "start_time": "2022-03-05T00:01:23.145377Z"
    }
   },
   "outputs": [],
   "source": [
    "# dummy variable\n",
    "df5_dummy = pd.get_dummies(df5.drop(['id','country_destination'], axis =1))\n",
    "\n",
    "# join id and country destination\n",
    "df5 = pd.concat([df4[['id','country_destination']],df5_dummy], axis =1)"
   ]
  },
  {
   "cell_type": "markdown",
   "id": "f99560b9",
   "metadata": {},
   "source": [
    "# 6.0. Feature Selection\n"
   ]
  },
  {
   "cell_type": "code",
   "execution_count": 83,
   "id": "7436944f",
   "metadata": {
    "ExecuteTime": {
     "end_time": "2022-03-05T00:01:24.134906Z",
     "start_time": "2022-03-05T00:01:23.803033Z"
    }
   },
   "outputs": [],
   "source": [
    "df6 = df5.copy()"
   ]
  },
  {
   "cell_type": "code",
   "execution_count": 84,
   "id": "ddf7d018",
   "metadata": {
    "ExecuteTime": {
     "end_time": "2022-03-05T00:01:24.139187Z",
     "start_time": "2022-03-05T00:01:24.136709Z"
    }
   },
   "outputs": [],
   "source": [
    "cols_drop = ['date_account_created','timestamp_first_active','date_first_booking', 'first_active'] # original dates"
   ]
  },
  {
   "cell_type": "code",
   "execution_count": 85,
   "id": "756022c2",
   "metadata": {
    "ExecuteTime": {
     "end_time": "2022-03-05T00:01:24.166138Z",
     "start_time": "2022-03-05T00:01:24.140946Z"
    }
   },
   "outputs": [],
   "source": [
    "df6 = df6.drop(cols_drop, axis =1)"
   ]
  },
  {
   "cell_type": "code",
   "execution_count": 86,
   "id": "a48c6d0e",
   "metadata": {
    "ExecuteTime": {
     "end_time": "2022-03-05T00:01:24.346994Z",
     "start_time": "2022-03-05T00:01:24.167971Z"
    }
   },
   "outputs": [],
   "source": [
    "X = df6.drop(['id','country_destination'], axis = 1)\n",
    "Y = df6['country_destination'].copy()"
   ]
  },
  {
   "cell_type": "code",
   "execution_count": 87,
   "id": "e80cb686",
   "metadata": {
    "ExecuteTime": {
     "end_time": "2022-03-05T00:01:24.576033Z",
     "start_time": "2022-03-05T00:01:24.348823Z"
    }
   },
   "outputs": [],
   "source": [
    "# Split dataset into training and test\n",
    "\n",
    "X_train, X_test , y_train, y_test = ms.train_test_split(X, Y, test_size = 0.2 , random_state=32)"
   ]
  },
  {
   "cell_type": "markdown",
   "id": "d960c200",
   "metadata": {},
   "source": [
    "# 7.0. Machine Learning Model\n"
   ]
  },
  {
   "cell_type": "code",
   "execution_count": 88,
   "id": "8922e1b7",
   "metadata": {
    "ExecuteTime": {
     "end_time": "2022-03-05T00:01:24.651295Z",
     "start_time": "2022-03-05T00:01:24.579235Z"
    }
   },
   "outputs": [],
   "source": [
    "ohe = pp.OneHotEncoder()\n",
    "y_train_nn = ohe.fit_transform(y_train.values.reshape(-1,1)).toarray()"
   ]
  },
  {
   "cell_type": "markdown",
   "id": "6f4420f8",
   "metadata": {
    "heading_collapsed": true
   },
   "source": [
    "## 6.1. Baseline Model\n"
   ]
  },
  {
   "cell_type": "code",
   "execution_count": 89,
   "id": "66187d5f",
   "metadata": {
    "ExecuteTime": {
     "end_time": "2022-03-05T00:01:24.682142Z",
     "start_time": "2022-03-05T00:01:24.653082Z"
    },
    "hidden": true
   },
   "outputs": [],
   "source": [
    "country_destination_list = df5['country_destination'].drop_duplicates().sort_values().to_list()\n",
    "k_num = y_test.shape[0]\n",
    "country_destination_weights = df5['country_destination'].value_counts(normalize= True).sort_index().to_list()\n",
    "\n",
    "# modelo aleatorio\n",
    "yhat_random = random.choices (population = country_destination_list , \n",
    "                              weights = country_destination_weights,\n",
    "                              k = k_num )"
   ]
  },
  {
   "cell_type": "markdown",
   "id": "f8475058",
   "metadata": {
    "hidden": true
   },
   "source": [
    "### 6.1.1 Performance\n"
   ]
  },
  {
   "cell_type": "code",
   "execution_count": 90,
   "id": "d34ba13a",
   "metadata": {
    "ExecuteTime": {
     "end_time": "2022-03-05T00:01:25.666344Z",
     "start_time": "2022-03-05T00:01:24.683823Z"
    },
    "hidden": true
   },
   "outputs": [
    {
     "name": "stdout",
     "output_type": "stream",
     "text": [
      "Accuracy: 0.4250586897069145\n",
      "Balanced Accuracy: 0.08532773069314241\n",
      "Kappa Score: 0.000528557747749514\n"
     ]
    },
    {
     "data": {
      "text/plain": [
       "<AxesSubplot:title={'center':'Confusion Matrix'}, xlabel='Predicted label', ylabel='True label'>"
      ]
     },
     "execution_count": 90,
     "metadata": {},
     "output_type": "execute_result"
    },
    {
     "data": {
      "image/png": "[encoded data removed]",
      "text/plain": [
       "<Figure size 864x864 with 2 Axes>"
      ]
     },
     "metadata": {},
     "output_type": "display_data"
    }
   ],
   "source": [
    "# accuracy\n",
    "acc_random = m.accuracy_score(y_test, yhat_random)\n",
    "print('Accuracy: {}'.format(acc_random))\n",
    "\n",
    "# Balanced Accuracy\n",
    "balanced_acc_random = m.balanced_accuracy_score(y_test, yhat_random)\n",
    "print('Balanced Accuracy: {}'.format(balanced_acc_random))\n",
    "\n",
    "# Kappa Metrics\n",
    "kappa_acc_random = m.cohen_kappa_score(y_test, yhat_random)\n",
    "print('Kappa Score: {}'.format(kappa_acc_random))\n",
    "\n",
    "# confusion matrix\n",
    "mt.plot_confusion_matrix(y_test , yhat_random, normalize=False, figsize=(12,12))"
   ]
  },
  {
   "cell_type": "markdown",
   "id": "78c90cad",
   "metadata": {},
   "source": [
    "## 6.2. Neural Network - MLP"
   ]
  },
  {
   "cell_type": "code",
   "execution_count": 93,
   "id": "bce88a57",
   "metadata": {
    "ExecuteTime": {
     "end_time": "2022-03-05T00:02:54.139200Z",
     "start_time": "2022-03-05T00:02:54.134861Z"
    }
   },
   "outputs": [
    {
     "data": {
      "text/plain": [
       "(165274, 150)"
      ]
     },
     "execution_count": 93,
     "metadata": {},
     "output_type": "execute_result"
    }
   ],
   "source": [
    "X_train.shape"
   ]
  },
  {
   "cell_type": "code",
   "execution_count": null,
   "id": "8f89f240",
   "metadata": {
    "ExecuteTime": {
     "start_time": "2022-03-05T00:03:16.607Z"
    },
    "code_folding": [],
    "scrolled": true
   },
   "outputs": [
    {
     "name": "stdout",
     "output_type": "stream",
     "text": [
      "Epoch 1/100\n",
      "5165/5165 [==============================] - 8s 2ms/step - loss: 4.0167 - accuracy: 0.7943\n",
      "Epoch 2/100\n",
      "5165/5165 [==============================] - 8s 2ms/step - loss: 1.0474 - accuracy: 0.8327\n",
      "Epoch 3/100\n",
      "5165/5165 [==============================] - 7s 1ms/step - loss: 0.5744 - accuracy: 0.8664\n",
      "Epoch 4/100\n",
      "5165/5165 [==============================] - 7s 1ms/step - loss: 0.5068 - accuracy: 0.8718\n",
      "Epoch 5/100\n",
      "5165/5165 [==============================] - 7s 1ms/step - loss: 0.4998 - accuracy: 0.8729\n",
      "Epoch 6/100\n",
      "5165/5165 [==============================] - 7s 1ms/step - loss: 0.4976 - accuracy: 0.8732\n",
      "Epoch 7/100\n",
      "5165/5165 [==============================] - 7s 1ms/step - loss: 0.4971 - accuracy: 0.8732\n",
      "Epoch 8/100\n",
      "5165/5165 [==============================] - 7s 1ms/step - loss: 0.4971 - accuracy: 0.8733\n",
      "Epoch 9/100\n",
      "5165/5165 [==============================] - 7s 1ms/step - loss: 0.4963 - accuracy: 0.8734\n",
      "Epoch 10/100\n",
      "5165/5165 [==============================] - 7s 1ms/step - loss: 0.4960 - accuracy: 0.8734\n",
      "Epoch 11/100\n",
      "5165/5165 [==============================] - 7s 1ms/step - loss: 0.4954 - accuracy: 0.8733\n",
      "Epoch 12/100\n",
      "5165/5165 [==============================] - 8s 2ms/step - loss: 0.4963 - accuracy: 0.8734\n",
      "Epoch 13/100\n",
      "5165/5165 [==============================] - 7s 1ms/step - loss: 0.4941 - accuracy: 0.8735\n",
      "Epoch 14/100\n",
      "5165/5165 [==============================] - 7s 1ms/step - loss: 0.4944 - accuracy: 0.8735\n",
      "Epoch 15/100\n",
      "5165/5165 [==============================] - 7s 1ms/step - loss: 0.4943 - accuracy: 0.8735\n",
      "Epoch 16/100\n",
      "5165/5165 [==============================] - 7s 1ms/step - loss: 0.4950 - accuracy: 0.8736\n",
      "Epoch 17/100\n",
      "5165/5165 [==============================] - 7s 1ms/step - loss: 0.4922 - accuracy: 0.8736\n",
      "Epoch 18/100\n",
      "5165/5165 [==============================] - 7s 1ms/step - loss: 0.4914 - accuracy: 0.8736\n",
      "Epoch 19/100\n",
      "5165/5165 [==============================] - 7s 1ms/step - loss: 0.4918 - accuracy: 0.8735\n",
      "Epoch 20/100\n",
      "5165/5165 [==============================] - 7s 1ms/step - loss: 0.4913 - accuracy: 0.8737\n",
      "Epoch 21/100\n",
      "5165/5165 [==============================] - 7s 1ms/step - loss: 0.4912 - accuracy: 0.8736\n",
      "Epoch 22/100\n",
      "5165/5165 [==============================] - 7s 1ms/step - loss: 0.4912 - accuracy: 0.8736\n",
      "Epoch 23/100\n",
      "5165/5165 [==============================] - 7s 1ms/step - loss: 0.4919 - accuracy: 0.8736\n",
      "Epoch 24/100\n",
      "5165/5165 [==============================] - 7s 1ms/step - loss: 0.4910 - accuracy: 0.8737\n",
      "Epoch 25/100\n",
      "5165/5165 [==============================] - 7s 1ms/step - loss: 0.4912 - accuracy: 0.8736\n",
      "Epoch 26/100\n",
      "5165/5165 [==============================] - 7s 1ms/step - loss: 0.4909 - accuracy: 0.8737\n",
      "Epoch 27/100\n",
      "5165/5165 [==============================] - 9s 2ms/step - loss: 0.4914 - accuracy: 0.8736\n",
      "Epoch 28/100\n",
      "5165/5165 [==============================] - 7s 1ms/step - loss: 0.4911 - accuracy: 0.8737\n",
      "Epoch 29/100\n",
      "5165/5165 [==============================] - 7s 1ms/step - loss: 0.4916 - accuracy: 0.8737\n",
      "Epoch 30/100\n",
      "5165/5165 [==============================] - 8s 2ms/step - loss: 0.4912 - accuracy: 0.8736\n",
      "Epoch 31/100\n",
      "5165/5165 [==============================] - 7s 1ms/step - loss: 0.4910 - accuracy: 0.8737\n",
      "Epoch 32/100\n",
      "5165/5165 [==============================] - 8s 2ms/step - loss: 0.4910 - accuracy: 0.8737\n",
      "Epoch 33/100\n",
      "5165/5165 [==============================] - 7s 1ms/step - loss: 0.4911 - accuracy: 0.8736\n",
      "Epoch 34/100\n",
      "5165/5165 [==============================] - 6s 1ms/step - loss: 0.4910 - accuracy: 0.8737\n",
      "Epoch 35/100\n",
      "5165/5165 [==============================] - 7s 1ms/step - loss: 0.4911 - accuracy: 0.8737\n",
      "Epoch 36/100\n",
      "5165/5165 [==============================] - 6s 1ms/step - loss: 0.4909 - accuracy: 0.8737\n",
      "Epoch 37/100\n",
      "5165/5165 [==============================] - 7s 1ms/step - loss: 0.4909 - accuracy: 0.8737\n",
      "Epoch 38/100\n",
      "5165/5165 [==============================] - 7s 1ms/step - loss: 0.4913 - accuracy: 0.8736\n",
      "Epoch 39/100\n",
      "5165/5165 [==============================] - 9s 2ms/step - loss: 0.4909 - accuracy: 0.8737\n",
      "Epoch 40/100\n",
      "5165/5165 [==============================] - 7s 1ms/step - loss: 0.4911 - accuracy: 0.8737\n",
      "Epoch 41/100\n",
      "5165/5165 [==============================] - 7s 1ms/step - loss: 0.4910 - accuracy: 0.8737\n",
      "Epoch 42/100\n",
      "4029/5165 [======================>.......] - ETA: 1s - loss: 0.4890 - accuracy: 0.8743"
     ]
    }
   ],
   "source": [
    "# model definition\n",
    "model = ml.Sequential()\n",
    "model.add(l.Dense(256, input_dim = X_train.shape[1], activation= 'relu'))\n",
    "model.add(l.Dense(12,  activation= 'softmax'))\n",
    "\n",
    "# model compile\n",
    "model.compile(loss = 'categorical_crossentropy' , optimizer='adam', metrics=['accuracy'])\n",
    "\n",
    "# tain model\n",
    "model.fit(X_train, y_train_nn, epochs=100)"
   ]
  },
  {
   "cell_type": "markdown",
   "id": "b1411652",
   "metadata": {},
   "source": [
    "### 6.2.1 NN Performance\n"
   ]
  },
  {
   "cell_type": "code",
   "execution_count": null,
   "id": "387107da",
   "metadata": {
    "ExecuteTime": {
     "start_time": "2022-03-05T00:03:20.772Z"
    }
   },
   "outputs": [],
   "source": [
    "# prediction\n",
    "pred_nn = model.predict(X_test)\n",
    "\n",
    "# invert Predict\n",
    "yhat_nn = ohe.inverse_transform(pred_nn)\n",
    "\n",
    "# prediction prepare\n",
    "y_test_nn = y_test.to_numpy()\n",
    "yhat_nn = yhat_nn.reshape(1,-1)[0]"
   ]
  },
  {
   "cell_type": "code",
   "execution_count": null,
   "id": "f51d4b0f",
   "metadata": {
    "ExecuteTime": {
     "start_time": "2022-03-05T00:03:21.647Z"
    },
    "scrolled": true
   },
   "outputs": [],
   "source": [
    "# accuracy\n",
    "acc_nn = m.accuracy_score(y_test_nn, yhat_nn)\n",
    "print('Accuracy: {}'.format(acc_nn))\n",
    "\n",
    "# Balanced Accuracy\n",
    "balanced_acc_nn = m.balanced_accuracy_score(y_test_nn, yhat_nn)\n",
    "print('Balanced Accuracy: {}'.format(balanced_acc_nn))\n",
    "\n",
    "# Kappa Metrics\n",
    "kappa_acc_nn = m.cohen_kappa_score(y_test_nn, yhat_nn)\n",
    "print('Kappa Score: {}'.format(kappa_acc_nn))\n",
    "\n",
    "# confusion matrix\n",
    "mt.plot_confusion_matrix(y_test_nn , yhat_nn, normalize=False, figsize=(12,12))"
   ]
  },
  {
   "cell_type": "markdown",
   "id": "2a4bd818",
   "metadata": {},
   "source": [
    "### 6.2.2 NN Performance - Cross Validation\n"
   ]
  },
  {
   "cell_type": "code",
   "execution_count": null,
   "id": "402b9fcc",
   "metadata": {
    "ExecuteTime": {
     "start_time": "2022-03-05T00:03:23.509Z"
    }
   },
   "outputs": [],
   "source": [
    "# gerate k-fold\n",
    "\n",
    "num_fold = 5\n",
    "kfold = ms.StratifiedKFold ( n_splits = num_fold , shuffle = True, random_state = 32 )\n",
    "\n",
    "balanced_acc_list = []\n",
    "kappa_acc_nn_list = []\n",
    "\n",
    "i = 1\n",
    "for train_ix , val_ix in kfold.split (X_train, y_train):\n",
    "    print(' Fold Number : {}/{}'.format(i, num_fold))\n",
    "    # get fold\n",
    "    x_train_fold = X_train.iloc[train_ix]\n",
    "    y_train_fold = y_train.iloc[train_ix]\n",
    "    \n",
    "    x_val_fold = X_train.iloc[val_ix]\n",
    "    y_val_fold = y_train.iloc[val_ix]\n",
    "    \n",
    "    # target hot-encoging\n",
    "    ohe = pp.OneHotEncoder()\n",
    "    y_train_fold_nn = ohe.fit_transform(y_train_fold.values.reshape(-1,1)).toarray()\n",
    "     \n",
    "    # model definition\n",
    "    model = ml.Sequential()\n",
    "    model.add(l.Dense(256 , input_dim =X_train.shape[1] , activation = 'relu' ))\n",
    "    model.add(l.Dense(11 , activation = 'softmax' ))\n",
    "\n",
    "    # compile model\n",
    "    model.compile ( loss = 'categorical_crossentropy', optimizer = 'adam' , metrics=['accuracy'])\n",
    "\n",
    "    # training model\n",
    "    model.fit( x_train_fold , y_train_fold_nn, epochs = 100, batch_size = 32, verbose = 0)\n",
    "    \n",
    "    # prediction\n",
    "    pred_nn = model.predict(x_val_fold)\n",
    "\n",
    "    # invert Predict\n",
    "    yhat_nn = ohe.inverse_transform(pred_nn)\n",
    "\n",
    "    #  prepare data\n",
    "    y_test_nn =y_val_fold.to_numpy()\n",
    "    yhat_nn = yhat_nn.reshape(1,-1)[0]    \n",
    "    \n",
    "    # metrics\n",
    "    # Balanced Accuracy\n",
    "    balanced_acc_nn = m.balanced_accuracy_score(y_test_nn, yhat_nn)\n",
    "    balanced_acc_list.append(balanced_acc_nn)\n",
    "    \n",
    "    # Kappa Metrics\n",
    "    kappa_acc_nn = m.cohen_kappa_score(y_test_nn, yhat_nn)\n",
    "    kappa_acc_nn_list.append(kappa_acc_nn)\n",
    "\n",
    "    i +=  1"
   ]
  },
  {
   "cell_type": "code",
   "execution_count": null,
   "id": "c86d5cb2",
   "metadata": {
    "ExecuteTime": {
     "start_time": "2022-03-05T00:03:24.534Z"
    }
   },
   "outputs": [],
   "source": [
    "print (\"Avg Balanced Acurracy : {} +/- {}\".format(np.round(np.mean(balanced_acc_list),2), \n",
    "                                                  np.round(np.std(balanced_acc_list),4 )))\n",
    "\n",
    "print (\"Avg Kappa Score : {} +/- {}\".format(np.round(np.mean(kappa_acc_nn_list),3), \n",
    "                                            np.round(np.std(kappa_acc_nn_list),4 )))"
   ]
  },
  {
   "cell_type": "code",
   "execution_count": null,
   "id": "fcb7d78d",
   "metadata": {},
   "outputs": [],
   "source": []
  }
 ],
 "metadata": {
  "kernelspec": {
   "display_name": "Python 3 (ipykernel)",
   "language": "python",
   "name": "python3"
  },
  "language_info": {
   "codemirror_mode": {
    "name": "ipython",
    "version": 3
   },
   "file_extension": ".py",
   "mimetype": "text/x-python",
   "name": "python",
   "nbconvert_exporter": "python",
   "pygments_lexer": "ipython3",
   "version": "3.9.7"
  },
  "toc": {
   "base_numbering": 1,
   "nav_menu": {},
   "number_sections": false,
   "sideBar": true,
   "skip_h1_title": false,
   "title_cell": "Table of Contents",
   "title_sidebar": "Contents",
   "toc_cell": false,
   "toc_position": {},
   "toc_section_display": true,
   "toc_window_display": false
  },
  "varInspector": {
   "cols": {
    "lenName": 16,
    "lenType": 16,
    "lenVar": 40
   },
   "kernels_config": {
    "python": {
     "delete_cmd_postfix": "",
     "delete_cmd_prefix": "del ",
     "library": "var_list.py",
     "varRefreshCmd": "print(var_dic_list())"
    },
    "r": {
     "delete_cmd_postfix": ") ",
     "delete_cmd_prefix": "rm(",
     "library": "var_list.r",
     "varRefreshCmd": "cat(var_dic_list()) "
    }
   },
   "types_to_exclude": [
    "module",
    "function",
    "builtin_function_or_method",
    "instance",
    "_Feature"
   ],
   "window_display": false
  }
 },
 "nbformat": 4,
 "nbformat_minor": 5
}
