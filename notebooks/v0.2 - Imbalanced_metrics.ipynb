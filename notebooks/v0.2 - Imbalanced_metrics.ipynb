{
 "cells": [
  {
   "cell_type": "markdown",
   "id": "3a677559",
   "metadata": {
    "heading_collapsed": true
   },
   "source": [
    "##  0.0. Objetivo do Problema:\n"
   ]
  },
  {
   "cell_type": "markdown",
   "id": "a904bae7",
   "metadata": {
    "hidden": true
   },
   "source": [
    "-- 1.0. Previsao do primeiro destino que um novo usuário irá escolher.\n",
    "\n",
    "-- Porque?\n",
    "    -- Qual tipo de modelo de negócio do Airbnb? \n",
    "    \n",
    "    \n",
    "        - Marketplace ( Conectar pessoas que oferecem acomodacao, com pessoas que estao procurando acomodacao)\n",
    "        - Oferta ( pessoas oferecendo acomodacao )\n",
    "            - Tamanho do portfólio.\n",
    "            - Diversidade/Densidade de Portfólio.\n",
    "            - Preco Medio\n",
    "\n",
    "        - Demanda ( pessoas procurando acomodacao )\n",
    "            - Numero de Usuários\n",
    "            - LTV ( Lifetime Value )\n",
    "            - CAC ( Client Acquisition Cost )\n",
    "\n",
    "\n",
    "           Gross Revenue = ( Fee * Numero cliente ) - CAC "
   ]
  },
  {
   "cell_type": "markdown",
   "id": "b3525bf8",
   "metadata": {
    "ExecuteTime": {
     "end_time": "2022-03-01T20:30:12.443684Z",
     "start_time": "2022-03-01T20:30:12.440371Z"
    },
    "heading_collapsed": true
   },
   "source": [
    "##  0.1. Proposta de solução:\n"
   ]
  },
  {
   "cell_type": "markdown",
   "id": "48d35218",
   "metadata": {
    "hidden": true
   },
   "source": [
    "--- Modelo de Predizao do primeiro destino de um novo usario.\n",
    "\n",
    "- 1.0. Predicoes e salva em tabela do banco de dados. \n",
    "- 2.0. API \n",
    "        --- Input: usuario e suas caracteristicas\n",
    "        --- Output: usuario e suas caracteristicas com a **predicao do destino**\n",
    "\n",
    "--- 16 ciclos"
   ]
  },
  {
   "cell_type": "markdown",
   "id": "59d2dc94",
   "metadata": {
    "heading_collapsed": true
   },
   "source": [
    "# <font color ='red'> 1.0. Imports </font> "
   ]
  },
  {
   "cell_type": "code",
   "execution_count": 58,
   "id": "e84d2a39",
   "metadata": {
    "ExecuteTime": {
     "end_time": "2022-03-04T03:43:04.596818Z",
     "start_time": "2022-03-04T03:43:04.378749Z"
    },
    "hidden": true
   },
   "outputs": [],
   "source": [
    "import random\n",
    "import pandas                               as pd\n",
    "import seaborn                              as sns\n",
    "\n",
    "from sklearn      import model_selection    as ms\n",
    "from sklearn      import preprocessing      as pp\n",
    "from sklearn      import metrics            as m\n",
    "\n",
    "from scikitplot   import metrics            as mt\n",
    "\n",
    "from keras        import models             as ml\n",
    "from keras        import layers             as l\n",
    "\n",
    "import warnings\n",
    "\n",
    "warnings.filterwarnings(\"ignore\")\n",
    "\n"
   ]
  },
  {
   "cell_type": "markdown",
   "id": "b330b24b",
   "metadata": {
    "code_folding": [],
    "hidden": true
   },
   "source": [
    "## 1.1. Helper Function"
   ]
  },
  {
   "cell_type": "markdown",
   "id": "5cb67899",
   "metadata": {
    "hidden": true
   },
   "source": [
    "## 1.2. Loading Data"
   ]
  },
  {
   "cell_type": "code",
   "execution_count": 2,
   "id": "eed344bb",
   "metadata": {
    "ExecuteTime": {
     "end_time": "2022-03-03T16:34:52.276076Z",
     "start_time": "2022-03-03T16:34:44.592591Z"
    },
    "hidden": true
   },
   "outputs": [],
   "source": [
    "df_raw = pd.read_csv('~/repositorio/airbnb_predict/data/raw/train_users_2.csv', low_memory=True)\n",
    "df_sessions = pd.read_csv('~/repositorio/airbnb_predict/data/raw/sessions.csv', low_memory=True)"
   ]
  },
  {
   "cell_type": "markdown",
   "id": "72657aae",
   "metadata": {
    "heading_collapsed": true
   },
   "source": [
    "# 2.0. Data Description\n"
   ]
  },
  {
   "cell_type": "code",
   "execution_count": 87,
   "id": "994f10ea",
   "metadata": {
    "ExecuteTime": {
     "end_time": "2022-03-04T04:10:22.851819Z",
     "start_time": "2022-03-04T04:10:22.805273Z"
    },
    "hidden": true
   },
   "outputs": [],
   "source": [
    "df2 = df_raw.copy()"
   ]
  },
  {
   "cell_type": "code",
   "execution_count": 88,
   "id": "469c15bc",
   "metadata": {
    "ExecuteTime": {
     "end_time": "2022-03-04T04:10:23.673995Z",
     "start_time": "2022-03-04T04:10:23.669760Z"
    },
    "hidden": true,
    "scrolled": true
   },
   "outputs": [
    {
     "name": "stdout",
     "output_type": "stream",
     "text": [
      "Number of rows: 213451\n",
      "Number of columns: 16\n"
     ]
    }
   ],
   "source": [
    "print('Number of rows: {}'.format(df2.shape[0]))\n",
    "print('Number of columns: {}'.format(df2.shape[1]))"
   ]
  },
  {
   "cell_type": "code",
   "execution_count": 89,
   "id": "d04ba9b9",
   "metadata": {
    "ExecuteTime": {
     "end_time": "2022-03-04T04:10:24.359044Z",
     "start_time": "2022-03-04T04:10:24.355534Z"
    },
    "hidden": true
   },
   "outputs": [
    {
     "name": "stdout",
     "output_type": "stream",
     "text": [
      "Number of rows: 10567737\n",
      "Number of columns: 6\n"
     ]
    }
   ],
   "source": [
    "print('Number of rows: {}'.format(df_sessions.shape[0]))\n",
    "print('Number of columns: {}'.format(df_sessions.shape[1]))"
   ]
  },
  {
   "cell_type": "markdown",
   "id": "5a83c787",
   "metadata": {
    "hidden": true
   },
   "source": [
    "## 2.1. Data Type\n"
   ]
  },
  {
   "cell_type": "code",
   "execution_count": 96,
   "id": "8b55ac79",
   "metadata": {
    "ExecuteTime": {
     "end_time": "2022-03-04T04:10:45.029748Z",
     "start_time": "2022-03-04T04:10:45.024270Z"
    },
    "hidden": true,
    "scrolled": true
   },
   "outputs": [
    {
     "data": {
      "text/plain": [
       "id                                 object\n",
       "date_account_created       datetime64[ns]\n",
       "timestamp_first_active     datetime64[ns]\n",
       "date_first_booking         datetime64[ns]\n",
       "gender                             object\n",
       "age                                 int64\n",
       "signup_method                      object\n",
       "signup_flow                         int64\n",
       "language                           object\n",
       "affiliate_channel                  object\n",
       "affiliate_provider                 object\n",
       "first_affiliate_tracked            object\n",
       "signup_app                         object\n",
       "first_device_type                  object\n",
       "first_browser                      object\n",
       "country_destination                object\n",
       "dtype: object"
      ]
     },
     "execution_count": 96,
     "metadata": {},
     "output_type": "execute_result"
    }
   ],
   "source": [
    "df2.dtypes"
   ]
  },
  {
   "cell_type": "code",
   "execution_count": 91,
   "id": "494600a1",
   "metadata": {
    "ExecuteTime": {
     "end_time": "2022-03-04T04:10:29.032279Z",
     "start_time": "2022-03-04T04:10:29.027132Z"
    },
    "hidden": true
   },
   "outputs": [
    {
     "data": {
      "text/plain": [
       "user_id           object\n",
       "action            object\n",
       "action_type       object\n",
       "action_detail     object\n",
       "device_type       object\n",
       "secs_elapsed     float64\n",
       "dtype: object"
      ]
     },
     "execution_count": 91,
     "metadata": {},
     "output_type": "execute_result"
    }
   ],
   "source": [
    "df_sessions.dtypes"
   ]
  },
  {
   "cell_type": "markdown",
   "id": "bb06ccaa",
   "metadata": {
    "hidden": true
   },
   "source": [
    "## 2.2. NA Check\n"
   ]
  },
  {
   "cell_type": "code",
   "execution_count": 95,
   "id": "ca925b47",
   "metadata": {
    "ExecuteTime": {
     "end_time": "2022-03-04T04:10:42.215120Z",
     "start_time": "2022-03-04T04:10:42.147866Z"
    },
    "hidden": true,
    "scrolled": false
   },
   "outputs": [
    {
     "data": {
      "text/plain": [
       "id                         0.0\n",
       "date_account_created       0.0\n",
       "timestamp_first_active     0.0\n",
       "date_first_booking         0.0\n",
       "gender                     0.0\n",
       "age                        0.0\n",
       "signup_method              0.0\n",
       "signup_flow                0.0\n",
       "language                   0.0\n",
       "affiliate_channel          0.0\n",
       "affiliate_provider         0.0\n",
       "first_affiliate_tracked    0.0\n",
       "signup_app                 0.0\n",
       "first_device_type          0.0\n",
       "first_browser              0.0\n",
       "country_destination        0.0\n",
       "dtype: float64"
      ]
     },
     "execution_count": 95,
     "metadata": {},
     "output_type": "execute_result"
    }
   ],
   "source": [
    "df2.isna().sum() / len(df2)"
   ]
  },
  {
   "cell_type": "code",
   "execution_count": 99,
   "id": "0fbcb1c7",
   "metadata": {
    "ExecuteTime": {
     "end_time": "2022-03-04T04:16:52.253620Z",
     "start_time": "2022-03-04T04:16:51.114116Z"
    },
    "hidden": true
   },
   "outputs": [
    {
     "data": {
      "text/plain": [
       "user_id          0.0\n",
       "action           0.0\n",
       "action_type      0.0\n",
       "action_detail    0.0\n",
       "device_type      0.0\n",
       "secs_elapsed     0.0\n",
       "dtype: float64"
      ]
     },
     "execution_count": 99,
     "metadata": {},
     "output_type": "execute_result"
    }
   ],
   "source": [
    "df_sessions.isna().sum() / len(df_sessions)"
   ]
  },
  {
   "cell_type": "code",
   "execution_count": 105,
   "id": "2f2b3304",
   "metadata": {
    "ExecuteTime": {
     "end_time": "2022-03-04T04:34:12.717268Z",
     "start_time": "2022-03-04T04:34:12.126381Z"
    },
    "hidden": true
   },
   "outputs": [],
   "source": [
    "# aux = df_sessions[df_sessions['secs_elapsed'] < 0.25e6]"
   ]
  },
  {
   "cell_type": "code",
   "execution_count": 106,
   "id": "910cac9d",
   "metadata": {
    "ExecuteTime": {
     "end_time": "2022-03-04T04:34:59.284878Z",
     "start_time": "2022-03-04T04:34:38.599762Z"
    },
    "hidden": true,
    "scrolled": true
   },
   "outputs": [
    {
     "data": {
      "text/plain": [
       "<AxesSubplot:xlabel='secs_elapsed', ylabel='Density'>"
      ]
     },
     "execution_count": 106,
     "metadata": {},
     "output_type": "execute_result"
    },
    {
     "data": {
      "image/png": "[encoded data removed]",
      "text/plain": [
       "<Figure size 432x288 with 1 Axes>"
      ]
     },
     "metadata": {
      "needs_background": "light"
     },
     "output_type": "display_data"
    }
   ],
   "source": [
    "# sns.distplot(aux['secs_elapsed'])"
   ]
  },
  {
   "cell_type": "code",
   "execution_count": 62,
   "id": "c8eb8827",
   "metadata": {
    "ExecuteTime": {
     "end_time": "2022-03-04T03:45:48.167938Z",
     "start_time": "2022-03-04T03:45:47.594219Z"
    },
    "hidden": true
   },
   "outputs": [
    {
     "data": {
      "text/plain": [
       "<AxesSubplot:xlabel='age', ylabel='Density'>"
      ]
     },
     "execution_count": 62,
     "metadata": {},
     "output_type": "execute_result"
    },
    {
     "data": {
      "image/png": "[encoded data removed]",
      "text/plain": [
       "<Figure size 432x288 with 1 Axes>"
      ]
     },
     "metadata": {
      "needs_background": "light"
     },
     "output_type": "display_data"
    }
   ],
   "source": [
    "# sns.distplot(df2[df2['age'] < 65] ['age'])"
   ]
  },
  {
   "cell_type": "code",
   "execution_count": 98,
   "id": "f94e1770",
   "metadata": {
    "ExecuteTime": {
     "end_time": "2022-03-04T04:16:46.514023Z",
     "start_time": "2022-03-04T04:16:42.369142Z"
    },
    "hidden": true,
    "scrolled": true
   },
   "outputs": [],
   "source": [
    "# remove missing value completly\n",
    "\n",
    "# df2 = df2.dropna()\n",
    "\n",
    "# ==================== User ======================\n",
    "# date_first_booking\n",
    "date_first_booking_max = pd.to_datetime(df2['date_first_booking']).max().strftime('%Y%m%d')\n",
    "df2['date_first_booking'] = df2['date_first_booking'].fillna(date_first_booking_max)\n",
    "                                \n",
    "# age\n",
    "avg_age = df2['age'].mean()   \n",
    "df2['age'] = df2['age'].fillna(avg_age)\n",
    "\n",
    "# first_affiliate_tracked\n",
    "df2 = df2[~df2['first_affiliate_tracked'].isna()]     \n",
    "\n",
    "# ==================== Sessions ======================\n",
    "# user_id          0.003 %\n",
    "df_sessions = df_sessions[~df_sessions['user_id'].isna()]     \n",
    "\n",
    "# action           0.007 %\n",
    "df_sessions = df_sessions[~df_sessions['action'].isna()]     \n",
    "\n",
    "# action_type      0.106 %\n",
    "df_sessions = df_sessions[~df_sessions['action_type'].isna()]     \n",
    "\n",
    "# action_detail    0.106 %\n",
    "df_sessions = df_sessions[~df_sessions['action_detail'].isna()]     \n",
    "\n",
    "# device_type      0.000 %\n",
    "df_sessions = df_sessions[~df_sessions['device_type'].isna()]     \n",
    "\n",
    "# secs_elapsed     0.012 %\n",
    "df_sessions = df_sessions[~df_sessions['secs_elapsed'].isna()]     \n",
    "\n",
    "\n",
    "                                "
   ]
  },
  {
   "cell_type": "markdown",
   "id": "7a29c42e",
   "metadata": {
    "hidden": true
   },
   "source": [
    "## 2.3. Change Data Type\n"
   ]
  },
  {
   "cell_type": "code",
   "execution_count": 94,
   "id": "5d1b7abc",
   "metadata": {
    "ExecuteTime": {
     "end_time": "2022-03-04T04:10:36.748685Z",
     "start_time": "2022-03-04T04:10:36.218641Z"
    },
    "hidden": true
   },
   "outputs": [],
   "source": [
    "# 'date_account_created'\n",
    "df2['date_account_created'] = pd.to_datetime(df2['date_account_created'])\n",
    "\n",
    "# 'timestamp_first_active'\n",
    "df2['timestamp_first_active'] = pd.to_datetime(df2['timestamp_first_active'], format = '%Y%m%d%H%M%S')\n",
    "\n",
    "# 'date_first_booking'\n",
    "df2['date_first_booking'] = pd.to_datetime(df2['date_first_booking'])\n",
    "\n",
    "# 'age'\n",
    "df2['age'] = df2['age'].astype('int64')\n"
   ]
  },
  {
   "cell_type": "markdown",
   "id": "0b8c79b7",
   "metadata": {
    "hidden": true
   },
   "source": [
    "## 2.4. Check Balanced Data\n"
   ]
  },
  {
   "cell_type": "code",
   "execution_count": 9,
   "id": "2595b9c3",
   "metadata": {
    "ExecuteTime": {
     "end_time": "2022-03-03T16:34:52.895188Z",
     "start_time": "2022-03-03T16:34:52.880674Z"
    },
    "hidden": true
   },
   "outputs": [
    {
     "data": {
      "text/plain": [
       "US       0.708864\n",
       "other    0.110854\n",
       "FR       0.054085\n",
       "IT       0.029763\n",
       "GB       0.025935\n",
       "ES       0.024864\n",
       "CA       0.015696\n",
       "DE       0.012454\n",
       "NL       0.008801\n",
       "AU       0.006366\n",
       "PT       0.002318\n",
       "Name: country_destination, dtype: float64"
      ]
     },
     "execution_count": 9,
     "metadata": {},
     "output_type": "execute_result"
    }
   ],
   "source": [
    "df2['country_destination'].value_counts(normalize=True)"
   ]
  },
  {
   "cell_type": "markdown",
   "id": "a7a55371",
   "metadata": {
    "heading_collapsed": true
   },
   "source": [
    "# 3.0.  Data Filtering\n"
   ]
  },
  {
   "cell_type": "code",
   "execution_count": 10,
   "id": "6c66ae58",
   "metadata": {
    "ExecuteTime": {
     "end_time": "2022-03-03T16:34:52.914111Z",
     "start_time": "2022-03-03T16:34:52.905259Z"
    },
    "hidden": true
   },
   "outputs": [],
   "source": [
    "df3 = df2.copy()"
   ]
  },
  {
   "cell_type": "markdown",
   "id": "d987bff2",
   "metadata": {
    "hidden": true
   },
   "source": [
    "## 3.1.  Filtering Rows\n"
   ]
  },
  {
   "cell_type": "code",
   "execution_count": null,
   "id": "29489e0e",
   "metadata": {
    "hidden": true
   },
   "outputs": [],
   "source": []
  },
  {
   "cell_type": "markdown",
   "id": "8f5dbd20",
   "metadata": {
    "hidden": true
   },
   "source": [
    "## 3.2.  Columns Selection"
   ]
  },
  {
   "cell_type": "code",
   "execution_count": null,
   "id": "0c175c93",
   "metadata": {
    "hidden": true
   },
   "outputs": [],
   "source": []
  },
  {
   "cell_type": "markdown",
   "id": "588f6403",
   "metadata": {
    "heading_collapsed": true
   },
   "source": [
    "# 4.0.  Data Preparation\n"
   ]
  },
  {
   "cell_type": "code",
   "execution_count": 11,
   "id": "309e6de2",
   "metadata": {
    "ExecuteTime": {
     "end_time": "2022-03-03T16:34:52.929483Z",
     "start_time": "2022-03-03T16:34:52.916650Z"
    },
    "hidden": true
   },
   "outputs": [],
   "source": [
    "df4 = df3.copy()"
   ]
  },
  {
   "cell_type": "code",
   "execution_count": 12,
   "id": "dde1c9e8",
   "metadata": {
    "ExecuteTime": {
     "end_time": "2022-03-03T16:34:53.034226Z",
     "start_time": "2022-03-03T16:34:52.932266Z"
    },
    "hidden": true
   },
   "outputs": [],
   "source": [
    "# dummy variable\n",
    "df4_dummy = pd.get_dummies(df4.drop(['id','country_destination'], axis =1))\n",
    "\n",
    "# join id and country destination\n",
    "df4 = pd.concat([df4[['id','country_destination']],df4_dummy], axis =1)"
   ]
  },
  {
   "cell_type": "markdown",
   "id": "f99560b9",
   "metadata": {
    "heading_collapsed": true
   },
   "source": [
    "# 5.0. Feature Selection\n"
   ]
  },
  {
   "cell_type": "code",
   "execution_count": 13,
   "id": "7436944f",
   "metadata": {
    "ExecuteTime": {
     "end_time": "2022-03-03T16:34:53.047319Z",
     "start_time": "2022-03-03T16:34:53.037035Z"
    },
    "hidden": true
   },
   "outputs": [],
   "source": [
    "df5 = df4.copy()"
   ]
  },
  {
   "cell_type": "code",
   "execution_count": 14,
   "id": "ddf7d018",
   "metadata": {
    "ExecuteTime": {
     "end_time": "2022-03-03T16:34:53.053017Z",
     "start_time": "2022-03-03T16:34:53.049511Z"
    },
    "hidden": true
   },
   "outputs": [],
   "source": [
    "cols_drop = ['date_account_created','timestamp_first_active','date_first_booking'] # original dates"
   ]
  },
  {
   "cell_type": "code",
   "execution_count": 15,
   "id": "756022c2",
   "metadata": {
    "ExecuteTime": {
     "end_time": "2022-03-03T16:34:53.068212Z",
     "start_time": "2022-03-03T16:34:53.055401Z"
    },
    "hidden": true
   },
   "outputs": [],
   "source": [
    "df5 = df5.drop(cols_drop, axis =1)"
   ]
  },
  {
   "cell_type": "code",
   "execution_count": 16,
   "id": "a48c6d0e",
   "metadata": {
    "ExecuteTime": {
     "end_time": "2022-03-03T16:34:53.078617Z",
     "start_time": "2022-03-03T16:34:53.070271Z"
    },
    "hidden": true
   },
   "outputs": [],
   "source": [
    "X = df5.drop(['id','country_destination'], axis = 1)\n",
    "Y = df5['country_destination'].copy()"
   ]
  },
  {
   "cell_type": "code",
   "execution_count": 17,
   "id": "e80cb686",
   "metadata": {
    "ExecuteTime": {
     "end_time": "2022-03-03T16:34:53.108387Z",
     "start_time": "2022-03-03T16:34:53.080767Z"
    },
    "hidden": true
   },
   "outputs": [],
   "source": [
    "# Split dataset into training and test\n",
    "\n",
    "X_train, X_test , y_train, y_test = ms.train_test_split(X, Y, test_size = 0.2 , random_state=32)"
   ]
  },
  {
   "cell_type": "markdown",
   "id": "d960c200",
   "metadata": {},
   "source": [
    "# 6.0. Machine Learning Model\n"
   ]
  },
  {
   "cell_type": "code",
   "execution_count": 18,
   "id": "8922e1b7",
   "metadata": {
    "ExecuteTime": {
     "end_time": "2022-03-03T16:34:53.128415Z",
     "start_time": "2022-03-03T16:34:53.110373Z"
    }
   },
   "outputs": [],
   "source": [
    "ohe = pp.OneHotEncoder()\n",
    "y_train_nn = ohe.fit_transform(y_train.values.reshape(-1,1)).toarray()"
   ]
  },
  {
   "cell_type": "markdown",
   "id": "6f4420f8",
   "metadata": {},
   "source": [
    "## 6.1. Baseline Model\n"
   ]
  },
  {
   "cell_type": "code",
   "execution_count": 19,
   "id": "66187d5f",
   "metadata": {
    "ExecuteTime": {
     "end_time": "2022-03-03T16:34:53.149372Z",
     "start_time": "2022-03-03T16:34:53.130849Z"
    }
   },
   "outputs": [],
   "source": [
    "country_destination_list = df5['country_destination'].drop_duplicates().sort_values().to_list()\n",
    "k_num = y_test.shape[0]\n",
    "country_destination_weights = df5['country_destination'].value_counts(normalize= True).sort_index().to_list()\n",
    "\n",
    "# modelo aleatorio\n",
    "yhat_random = random.choices (population = country_destination_list , \n",
    "                              weights = country_destination_weights,\n",
    "                              k = k_num )"
   ]
  },
  {
   "cell_type": "markdown",
   "id": "f8475058",
   "metadata": {},
   "source": [
    "### 6.1.1 Performance\n"
   ]
  },
  {
   "cell_type": "code",
   "execution_count": 20,
   "id": "d34ba13a",
   "metadata": {
    "ExecuteTime": {
     "end_time": "2022-03-03T16:34:53.939628Z",
     "start_time": "2022-03-03T16:34:53.152105Z"
    }
   },
   "outputs": [
    {
     "name": "stdout",
     "output_type": "stream",
     "text": [
      "Accuracy: 0.5157315731573158\n",
      "Balanced Accuracy: 0.09273356327148381\n",
      "Kappa Score: 0.0008087029973429249\n"
     ]
    },
    {
     "data": {
      "text/plain": [
       "<AxesSubplot:title={'center':'Confusion Matrix'}, xlabel='Predicted label', ylabel='True label'>"
      ]
     },
     "execution_count": 20,
     "metadata": {},
     "output_type": "execute_result"
    },
    {
     "data": {
      "image/png": "[encoded data removed]",
      "text/plain": [
       "<Figure size 864x864 with 2 Axes>"
      ]
     },
     "metadata": {
      "needs_background": "light"
     },
     "output_type": "display_data"
    }
   ],
   "source": [
    "# accuracy\n",
    "acc_random = m.accuracy_score(y_test, yhat_random)\n",
    "print('Accuracy: {}'.format(acc_random))\n",
    "\n",
    "# Balanced Accuracy\n",
    "balanced_acc_random = m.balanced_accuracy_score(y_test, yhat_random)\n",
    "print('Balanced Accuracy: {}'.format(balanced_acc_random))\n",
    "\n",
    "# Kappa Metrics\n",
    "kappa_acc_random = m.cohen_kappa_score(y_test, yhat_random)\n",
    "print('Kappa Score: {}'.format(kappa_acc_random))\n",
    "\n",
    "# confusion matrix\n",
    "mt.plot_confusion_matrix(y_test , yhat_random, normalize=False, figsize=(12,12))"
   ]
  },
  {
   "cell_type": "markdown",
   "id": "78c90cad",
   "metadata": {},
   "source": [
    "## 6.2. Neural Network - MLP"
   ]
  },
  {
   "cell_type": "code",
   "execution_count": 21,
   "id": "8f89f240",
   "metadata": {
    "ExecuteTime": {
     "end_time": "2022-03-03T16:39:22.741553Z",
     "start_time": "2022-03-03T16:34:53.941458Z"
    },
    "code_folding": [],
    "scrolled": true
   },
   "outputs": [
    {
     "name": "stderr",
     "output_type": "stream",
     "text": [
      "2022-03-03 13:34:54.446273: I tensorflow/stream_executor/cuda/cuda_gpu_executor.cc:922] could not open file to read NUMA node: /sys/bus/pci/devices/0000:01:00.0/numa_node\n",
      "Your kernel may have been built without NUMA support.\n",
      "2022-03-03 13:34:54.446616: W tensorflow/stream_executor/platform/default/dso_loader.cc:64] Could not load dynamic library 'libcudart.so.11.0'; dlerror: libcudart.so.11.0: cannot open shared object file: No such file or directory\n",
      "2022-03-03 13:34:54.446873: W tensorflow/stream_executor/platform/default/dso_loader.cc:64] Could not load dynamic library 'libcublas.so.11'; dlerror: libcublas.so.11: cannot open shared object file: No such file or directory\n",
      "2022-03-03 13:34:54.446994: W tensorflow/stream_executor/platform/default/dso_loader.cc:64] Could not load dynamic library 'libcublasLt.so.11'; dlerror: libcublasLt.so.11: cannot open shared object file: No such file or directory\n",
      "2022-03-03 13:34:54.447087: W tensorflow/stream_executor/platform/default/dso_loader.cc:64] Could not load dynamic library 'libcufft.so.10'; dlerror: libcufft.so.10: cannot open shared object file: No such file or directory\n",
      "2022-03-03 13:34:54.447207: W tensorflow/stream_executor/platform/default/dso_loader.cc:64] Could not load dynamic library 'libcurand.so.10'; dlerror: libcurand.so.10: cannot open shared object file: No such file or directory\n",
      "2022-03-03 13:34:54.447316: W tensorflow/stream_executor/platform/default/dso_loader.cc:64] Could not load dynamic library 'libcusolver.so.11'; dlerror: libcusolver.so.11: cannot open shared object file: No such file or directory\n",
      "2022-03-03 13:34:54.447424: W tensorflow/stream_executor/platform/default/dso_loader.cc:64] Could not load dynamic library 'libcusparse.so.11'; dlerror: libcusparse.so.11: cannot open shared object file: No such file or directory\n",
      "2022-03-03 13:34:54.447526: W tensorflow/stream_executor/platform/default/dso_loader.cc:64] Could not load dynamic library 'libcudnn.so.8'; dlerror: libcudnn.so.8: cannot open shared object file: No such file or directory\n",
      "2022-03-03 13:34:54.447566: W tensorflow/core/common_runtime/gpu/gpu_device.cc:1850] Cannot dlopen some GPU libraries. Please make sure the missing libraries mentioned above are installed properly if you would like to use GPU. Follow the guide at https://www.tensorflow.org/install/gpu for how to download and setup the required libraries for your platform.\n",
      "Skipping registering GPU devices...\n",
      "2022-03-03 13:34:54.449125: I tensorflow/core/platform/cpu_feature_guard.cc:151] This TensorFlow binary is optimized with oneAPI Deep Neural Network Library (oneDNN) to use the following CPU instructions in performance-critical operations:  AVX2 FMA\n",
      "To enable them in other operations, rebuild TensorFlow with the appropriate compiler flags.\n"
     ]
    },
    {
     "name": "stdout",
     "output_type": "stream",
     "text": [
      "Epoch 1/100\n",
      "1705/1705 [==============================] - 4s 2ms/step - loss: 1.3303 - accuracy: 0.7033\n",
      "Epoch 2/100\n",
      "1705/1705 [==============================] - 5s 3ms/step - loss: 1.2537 - accuracy: 0.7077\n",
      "Epoch 3/100\n",
      "1705/1705 [==============================] - 5s 3ms/step - loss: 1.2145 - accuracy: 0.7085\n",
      "Epoch 4/100\n",
      "1705/1705 [==============================] - 3s 2ms/step - loss: 1.1930 - accuracy: 0.7085\n",
      "Epoch 5/100\n",
      "1705/1705 [==============================] - 3s 2ms/step - loss: 1.1762 - accuracy: 0.7084\n",
      "Epoch 6/100\n",
      "1705/1705 [==============================] - 3s 2ms/step - loss: 1.1628 - accuracy: 0.7087\n",
      "Epoch 7/100\n",
      "1705/1705 [==============================] - 3s 2ms/step - loss: 1.1558 - accuracy: 0.7087\n",
      "Epoch 8/100\n",
      "1705/1705 [==============================] - 3s 2ms/step - loss: 1.1463 - accuracy: 0.7089\n",
      "Epoch 9/100\n",
      "1705/1705 [==============================] - 3s 2ms/step - loss: 1.1382 - accuracy: 0.7089\n",
      "Epoch 10/100\n",
      "1705/1705 [==============================] - 3s 2ms/step - loss: 1.1357 - accuracy: 0.7095\n",
      "Epoch 11/100\n",
      "1705/1705 [==============================] - 3s 2ms/step - loss: 1.1328 - accuracy: 0.7094\n",
      "Epoch 12/100\n",
      "1705/1705 [==============================] - 3s 2ms/step - loss: 1.1316 - accuracy: 0.7096\n",
      "Epoch 13/100\n",
      "1705/1705 [==============================] - 3s 2ms/step - loss: 1.1305 - accuracy: 0.7095\n",
      "Epoch 14/100\n",
      "1705/1705 [==============================] - 2s 1ms/step - loss: 1.1299 - accuracy: 0.7096\n",
      "Epoch 15/100\n",
      "1705/1705 [==============================] - 2s 1ms/step - loss: 1.1287 - accuracy: 0.7096\n",
      "Epoch 16/100\n",
      "1705/1705 [==============================] - 2s 1ms/step - loss: 1.1281 - accuracy: 0.7096\n",
      "Epoch 17/100\n",
      "1705/1705 [==============================] - 3s 2ms/step - loss: 1.1273 - accuracy: 0.7097\n",
      "Epoch 18/100\n",
      "1705/1705 [==============================] - 3s 2ms/step - loss: 1.1266 - accuracy: 0.7097\n",
      "Epoch 19/100\n",
      "1705/1705 [==============================] - 3s 2ms/step - loss: 1.1256 - accuracy: 0.7096\n",
      "Epoch 20/100\n",
      "1705/1705 [==============================] - 3s 2ms/step - loss: 1.1253 - accuracy: 0.7097\n",
      "Epoch 21/100\n",
      "1705/1705 [==============================] - 3s 2ms/step - loss: 1.1245 - accuracy: 0.7097\n",
      "Epoch 22/100\n",
      "1705/1705 [==============================] - 3s 2ms/step - loss: 1.1239 - accuracy: 0.7096\n",
      "Epoch 23/100\n",
      "1705/1705 [==============================] - 2s 1ms/step - loss: 1.1231 - accuracy: 0.7098\n",
      "Epoch 24/100\n",
      "1705/1705 [==============================] - 2s 1ms/step - loss: 1.1219 - accuracy: 0.7097\n",
      "Epoch 25/100\n",
      "1705/1705 [==============================] - 3s 1ms/step - loss: 1.1220 - accuracy: 0.7098\n",
      "Epoch 26/100\n",
      "1705/1705 [==============================] - 2s 1ms/step - loss: 1.1212 - accuracy: 0.7097\n",
      "Epoch 27/100\n",
      "1705/1705 [==============================] - 2s 1ms/step - loss: 1.1206 - accuracy: 0.7098\n",
      "Epoch 28/100\n",
      "1705/1705 [==============================] - 2s 1ms/step - loss: 1.1197 - accuracy: 0.7098\n",
      "Epoch 29/100\n",
      "1705/1705 [==============================] - 2s 1ms/step - loss: 1.1195 - accuracy: 0.7098\n",
      "Epoch 30/100\n",
      "1705/1705 [==============================] - 3s 2ms/step - loss: 1.1186 - accuracy: 0.7100\n",
      "Epoch 31/100\n",
      "1705/1705 [==============================] - 2s 1ms/step - loss: 1.1184 - accuracy: 0.7100\n",
      "Epoch 32/100\n",
      "1705/1705 [==============================] - 2s 1ms/step - loss: 1.1177 - accuracy: 0.7100\n",
      "Epoch 33/100\n",
      "1705/1705 [==============================] - 2s 1ms/step - loss: 1.1174 - accuracy: 0.7099\n",
      "Epoch 34/100\n",
      "1705/1705 [==============================] - 2s 1ms/step - loss: 1.1191 - accuracy: 0.7100\n",
      "Epoch 35/100\n",
      "1705/1705 [==============================] - 2s 1ms/step - loss: 1.1183 - accuracy: 0.7098\n",
      "Epoch 36/100\n",
      "1705/1705 [==============================] - 2s 1ms/step - loss: 1.1160 - accuracy: 0.7100\n",
      "Epoch 37/100\n",
      "1705/1705 [==============================] - 2s 1ms/step - loss: 1.1159 - accuracy: 0.7098\n",
      "Epoch 38/100\n",
      "1705/1705 [==============================] - 2s 1ms/step - loss: 1.1152 - accuracy: 0.7100\n",
      "Epoch 39/100\n",
      "1705/1705 [==============================] - 2s 1ms/step - loss: 1.1141 - accuracy: 0.7102\n",
      "Epoch 40/100\n",
      "1705/1705 [==============================] - 2s 1ms/step - loss: 1.1132 - accuracy: 0.7100\n",
      "Epoch 41/100\n",
      "1705/1705 [==============================] - 2s 1ms/step - loss: 1.1142 - accuracy: 0.7102\n",
      "Epoch 42/100\n",
      "1705/1705 [==============================] - 2s 1ms/step - loss: 1.1133 - accuracy: 0.7102\n",
      "Epoch 43/100\n",
      "1705/1705 [==============================] - 2s 1ms/step - loss: 1.1120 - accuracy: 0.7102\n",
      "Epoch 44/100\n",
      "1705/1705 [==============================] - 2s 1ms/step - loss: 1.1122 - accuracy: 0.7101\n",
      "Epoch 45/100\n",
      "1705/1705 [==============================] - 3s 2ms/step - loss: 1.1110 - accuracy: 0.7103\n",
      "Epoch 46/100\n",
      "1705/1705 [==============================] - 2s 1ms/step - loss: 1.1109 - accuracy: 0.7102\n",
      "Epoch 47/100\n",
      "1705/1705 [==============================] - 2s 1ms/step - loss: 1.1104 - accuracy: 0.7106\n",
      "Epoch 48/100\n",
      "1705/1705 [==============================] - 3s 2ms/step - loss: 1.1100 - accuracy: 0.7104\n",
      "Epoch 49/100\n",
      "1705/1705 [==============================] - 4s 2ms/step - loss: 1.1095 - accuracy: 0.7104\n",
      "Epoch 50/100\n",
      "1705/1705 [==============================] - 5s 3ms/step - loss: 1.1093 - accuracy: 0.7103\n",
      "Epoch 51/100\n",
      "1705/1705 [==============================] - 4s 2ms/step - loss: 1.1089 - accuracy: 0.7106\n",
      "Epoch 52/100\n",
      "1705/1705 [==============================] - 4s 2ms/step - loss: 1.1083 - accuracy: 0.7106\n",
      "Epoch 53/100\n",
      "1705/1705 [==============================] - 3s 2ms/step - loss: 1.1092 - accuracy: 0.7107\n",
      "Epoch 54/100\n",
      "1705/1705 [==============================] - 3s 2ms/step - loss: 1.1082 - accuracy: 0.7103\n",
      "Epoch 55/100\n",
      "1705/1705 [==============================] - 2s 1ms/step - loss: 1.1079 - accuracy: 0.7106\n",
      "Epoch 56/100\n",
      "1705/1705 [==============================] - 2s 1ms/step - loss: 1.1065 - accuracy: 0.7107\n",
      "Epoch 57/100\n",
      "1705/1705 [==============================] - 3s 2ms/step - loss: 1.1068 - accuracy: 0.7105\n",
      "Epoch 58/100\n",
      "1705/1705 [==============================] - 3s 2ms/step - loss: 1.1066 - accuracy: 0.7106\n",
      "Epoch 59/100\n",
      "1705/1705 [==============================] - 2s 1ms/step - loss: 1.1062 - accuracy: 0.7108\n",
      "Epoch 60/100\n",
      "1705/1705 [==============================] - 2s 1ms/step - loss: 1.1049 - accuracy: 0.7109\n",
      "Epoch 61/100\n",
      "1705/1705 [==============================] - 2s 1ms/step - loss: 1.1053 - accuracy: 0.7108\n",
      "Epoch 62/100\n",
      "1705/1705 [==============================] - 3s 2ms/step - loss: 1.1047 - accuracy: 0.7107\n",
      "Epoch 63/100\n",
      "1705/1705 [==============================] - 2s 1ms/step - loss: 1.1052 - accuracy: 0.7109\n",
      "Epoch 64/100\n",
      "1705/1705 [==============================] - 2s 1ms/step - loss: 1.1054 - accuracy: 0.7106\n",
      "Epoch 65/100\n",
      "1705/1705 [==============================] - 2s 1ms/step - loss: 1.1054 - accuracy: 0.7106\n",
      "Epoch 66/100\n",
      "1705/1705 [==============================] - 2s 1ms/step - loss: 1.1045 - accuracy: 0.7110\n",
      "Epoch 67/100\n",
      "1705/1705 [==============================] - 2s 1ms/step - loss: 1.1045 - accuracy: 0.7107\n",
      "Epoch 68/100\n",
      "1705/1705 [==============================] - 2s 1ms/step - loss: 1.1040 - accuracy: 0.7111\n",
      "Epoch 69/100\n",
      "1705/1705 [==============================] - 3s 2ms/step - loss: 1.1040 - accuracy: 0.7111\n",
      "Epoch 70/100\n",
      "1705/1705 [==============================] - 2s 1ms/step - loss: 1.1038 - accuracy: 0.7111\n",
      "Epoch 71/100\n",
      "1705/1705 [==============================] - 3s 2ms/step - loss: 1.1029 - accuracy: 0.7110\n",
      "Epoch 72/100\n",
      "1705/1705 [==============================] - 4s 2ms/step - loss: 1.1044 - accuracy: 0.7111\n",
      "Epoch 73/100\n",
      "1705/1705 [==============================] - 3s 2ms/step - loss: 1.1025 - accuracy: 0.7116\n",
      "Epoch 74/100\n",
      "1705/1705 [==============================] - 3s 2ms/step - loss: 1.1023 - accuracy: 0.7111\n",
      "Epoch 75/100\n",
      "1705/1705 [==============================] - 3s 2ms/step - loss: 1.1014 - accuracy: 0.7112\n",
      "Epoch 76/100\n",
      "1705/1705 [==============================] - 3s 1ms/step - loss: 1.1012 - accuracy: 0.7112\n",
      "Epoch 77/100\n",
      "1705/1705 [==============================] - 2s 1ms/step - loss: 1.1018 - accuracy: 0.7113\n",
      "Epoch 78/100\n",
      "1705/1705 [==============================] - 2s 1ms/step - loss: 1.1008 - accuracy: 0.7116\n",
      "Epoch 79/100\n"
     ]
    },
    {
     "name": "stdout",
     "output_type": "stream",
     "text": [
      "1705/1705 [==============================] - 3s 1ms/step - loss: 1.1010 - accuracy: 0.7113\n",
      "Epoch 80/100\n",
      "1705/1705 [==============================] - 2s 1ms/step - loss: 1.1009 - accuracy: 0.7113\n",
      "Epoch 81/100\n",
      "1705/1705 [==============================] - 3s 1ms/step - loss: 1.1001 - accuracy: 0.7115\n",
      "Epoch 82/100\n",
      "1705/1705 [==============================] - 2s 1ms/step - loss: 1.1004 - accuracy: 0.7117\n",
      "Epoch 83/100\n",
      "1705/1705 [==============================] - 2s 1ms/step - loss: 1.1001 - accuracy: 0.7116\n",
      "Epoch 84/100\n",
      "1705/1705 [==============================] - 2s 1ms/step - loss: 1.0998 - accuracy: 0.7115\n",
      "Epoch 85/100\n",
      "1705/1705 [==============================] - 3s 1ms/step - loss: 1.0997 - accuracy: 0.7114\n",
      "Epoch 86/100\n",
      "1705/1705 [==============================] - 2s 1ms/step - loss: 1.0994 - accuracy: 0.7115\n",
      "Epoch 87/100\n",
      "1705/1705 [==============================] - 2s 1ms/step - loss: 1.0992 - accuracy: 0.7115\n",
      "Epoch 88/100\n",
      "1705/1705 [==============================] - 2s 1ms/step - loss: 1.0991 - accuracy: 0.7114\n",
      "Epoch 89/100\n",
      "1705/1705 [==============================] - 2s 1ms/step - loss: 1.0985 - accuracy: 0.7119\n",
      "Epoch 90/100\n",
      "1705/1705 [==============================] - 2s 1ms/step - loss: 1.0990 - accuracy: 0.7118\n",
      "Epoch 91/100\n",
      "1705/1705 [==============================] - 3s 1ms/step - loss: 1.0979 - accuracy: 0.7116\n",
      "Epoch 92/100\n",
      "1705/1705 [==============================] - 3s 2ms/step - loss: 1.0982 - accuracy: 0.7114\n",
      "Epoch 93/100\n",
      "1705/1705 [==============================] - 2s 1ms/step - loss: 1.0976 - accuracy: 0.7117\n",
      "Epoch 94/100\n",
      "1705/1705 [==============================] - 2s 1ms/step - loss: 1.0981 - accuracy: 0.7118\n",
      "Epoch 95/100\n",
      "1705/1705 [==============================] - 3s 2ms/step - loss: 1.0977 - accuracy: 0.7118\n",
      "Epoch 96/100\n",
      "1705/1705 [==============================] - 2s 1ms/step - loss: 1.0972 - accuracy: 0.7119\n",
      "Epoch 97/100\n",
      "1705/1705 [==============================] - 2s 1ms/step - loss: 1.0975 - accuracy: 0.7116\n",
      "Epoch 98/100\n",
      "1705/1705 [==============================] - 2s 1ms/step - loss: 1.0971 - accuracy: 0.7118\n",
      "Epoch 99/100\n",
      "1705/1705 [==============================] - 2s 1ms/step - loss: 1.0972 - accuracy: 0.7119\n",
      "Epoch 100/100\n",
      "1705/1705 [==============================] - 2s 1ms/step - loss: 1.0968 - accuracy: 0.7123\n"
     ]
    },
    {
     "data": {
      "text/plain": [
       "<keras.callbacks.History at 0x7f43280ffd60>"
      ]
     },
     "execution_count": 21,
     "metadata": {},
     "output_type": "execute_result"
    }
   ],
   "source": [
    "# model definition\n",
    "model = ml.Sequential()\n",
    "model.add(l.Dense(128, input_dim = X_train.shape[1], activation= 'relu'))\n",
    "model.add(l.Dense(11,  activation= 'softmax'))\n",
    "\n",
    "# model compile\n",
    "model.compile(loss = 'categorical_crossentropy' , optimizer='adam', metrics=['accuracy'])\n",
    "\n",
    "# tain model\n",
    "model.fit(X_train, y_train_nn, epochs=100)"
   ]
  },
  {
   "cell_type": "markdown",
   "id": "b1411652",
   "metadata": {},
   "source": [
    "### 6.2.1 NN Performance\n"
   ]
  },
  {
   "cell_type": "code",
   "execution_count": 22,
   "id": "387107da",
   "metadata": {
    "ExecuteTime": {
     "end_time": "2022-03-03T16:39:23.261984Z",
     "start_time": "2022-03-03T16:39:22.743615Z"
    }
   },
   "outputs": [],
   "source": [
    "# prediction\n",
    "pred_nn = model.predict(X_test)\n",
    "\n",
    "# invert Predict\n",
    "yhat_nn = ohe.inverse_transform(pred_nn)\n",
    "\n",
    "# prediction prepare\n",
    "y_test_nn = y_test.to_numpy()\n",
    "yhat_nn = yhat_nn.reshape(1,-1)[0]"
   ]
  },
  {
   "cell_type": "code",
   "execution_count": 23,
   "id": "f51d4b0f",
   "metadata": {
    "ExecuteTime": {
     "end_time": "2022-03-03T16:39:23.896887Z",
     "start_time": "2022-03-03T16:39:23.264002Z"
    },
    "scrolled": true
   },
   "outputs": [
    {
     "name": "stdout",
     "output_type": "stream",
     "text": [
      "Accuracy: 0.7028236156949028\n",
      "Balanced Accuracy: 0.09139421540137666\n",
      "Kappa Score: 0.001513479400496287\n"
     ]
    },
    {
     "data": {
      "text/plain": [
       "<AxesSubplot:title={'center':'Confusion Matrix'}, xlabel='Predicted label', ylabel='True label'>"
      ]
     },
     "execution_count": 23,
     "metadata": {},
     "output_type": "execute_result"
    },
    {
     "data": {
      "image/png": "[encoded data removed]",
      "text/plain": [
       "<Figure size 864x864 with 2 Axes>"
      ]
     },
     "metadata": {
      "needs_background": "light"
     },
     "output_type": "display_data"
    }
   ],
   "source": [
    "# accuracy\n",
    "acc_nn = m.accuracy_score(y_test_nn, yhat_nn)\n",
    "print('Accuracy: {}'.format(acc_nn))\n",
    "\n",
    "# Balanced Accuracy\n",
    "balanced_acc_nn = m.balanced_accuracy_score(y_test_nn, yhat_nn)\n",
    "print('Balanced Accuracy: {}'.format(balanced_acc_nn))\n",
    "\n",
    "# Kappa Metrics\n",
    "kappa_acc_nn = m.cohen_kappa_score(y_test_nn, yhat_nn)\n",
    "print('Kappa Score: {}'.format(kappa_acc_nn))\n",
    "\n",
    "# confusion matrix\n",
    "mt.plot_confusion_matrix(y_test_nn , yhat_nn, normalize=False, figsize=(12,12))"
   ]
  },
  {
   "cell_type": "markdown",
   "id": "2a4bd818",
   "metadata": {},
   "source": [
    "### 6.2.2 NN Performance - Cross Validation\n"
   ]
  },
  {
   "cell_type": "code",
   "execution_count": 25,
   "id": "402b9fcc",
   "metadata": {
    "ExecuteTime": {
     "end_time": "2022-03-03T18:25:22.916263Z",
     "start_time": "2022-03-03T18:13:30.723359Z"
    }
   },
   "outputs": [
    {
     "name": "stdout",
     "output_type": "stream",
     "text": [
      " Fold Number : 1/5\n",
      " Fold Number : 2/5\n",
      " Fold Number : 3/5\n",
      " Fold Number : 4/5\n",
      " Fold Number : 5/5\n"
     ]
    }
   ],
   "source": [
    "# gerate k-fold\n",
    "\n",
    "num_fold = 5\n",
    "kfold = ms.StratifiedKFold ( n_splits = num_fold , shuffle = True, random_state = 32 )\n",
    "\n",
    "balanced_acc_list = []\n",
    "kappa_acc_nn_list = []\n",
    "\n",
    "i = 1\n",
    "for train_ix , val_ix in kfold.split (X_train, y_train):\n",
    "    print(' Fold Number : {}/{}'.format(i, num_fold))\n",
    "    # get fold\n",
    "    x_train_fold = X_train.iloc[train_ix]\n",
    "    y_train_fold = y_train.iloc[train_ix]\n",
    "    \n",
    "    x_val_fold = X_train.iloc[val_ix]\n",
    "    y_val_fold = y_train.iloc[val_ix]\n",
    "    \n",
    "    # target hot-encoging\n",
    "    ohe = pp.OneHotEncoder()\n",
    "    y_train_fold_nn = ohe.fit_transform(y_train_fold.values.reshape(-1,1)).toarray()\n",
    "     \n",
    "    # model definition\n",
    "    model = ml.Sequential()\n",
    "    model.add(l.Dense(256 , input_dim =X_train.shape[1] , activation = 'relu' ))\n",
    "    model.add(l.Dense(11 , activation = 'softmax' ))\n",
    "\n",
    "    # compile model\n",
    "    model.compile ( loss = 'categorical_crossentropy', optimizer = 'adam' , metrics=['accuracy'])\n",
    "\n",
    "    # training model\n",
    "    model.fit( x_train_fold , y_train_fold_nn, epochs = 100, batch_size = 32, verbose = 0)\n",
    "    \n",
    "    # prediction\n",
    "    pred_nn = model.predict(x_val_fold)\n",
    "\n",
    "    # invert Predict\n",
    "    yhat_nn = ohe.inverse_transform(pred_nn)\n",
    "\n",
    "    #  prepare data\n",
    "    y_test_nn =y_val_fold.to_numpy()\n",
    "    yhat_nn = yhat_nn.reshape(1,-1)[0]    \n",
    "    \n",
    "    # metrics\n",
    "    # Balanced Accuracy\n",
    "    balanced_acc_nn = m.balanced_accuracy_score(y_test_nn, yhat_nn)\n",
    "    balanced_acc_list.append(balanced_acc_nn)\n",
    "    \n",
    "    # Kappa Metrics\n",
    "    kappa_acc_nn = m.cohen_kappa_score(y_test_nn, yhat_nn)\n",
    "    kappa_acc_nn_list.append(kappa_acc_nn)\n",
    "\n",
    "    i +=  1"
   ]
  },
  {
   "cell_type": "code",
   "execution_count": 111,
   "id": "c86d5cb2",
   "metadata": {
    "ExecuteTime": {
     "end_time": "2022-03-04T04:43:01.311657Z",
     "start_time": "2022-03-04T04:43:01.307763Z"
    }
   },
   "outputs": [
    {
     "name": "stdout",
     "output_type": "stream",
     "text": [
      "Avg Balanced Acurracy : 0.09 +/- 0.0003\n",
      "Avg Kappa Score : 0.004 +/- 0.0011\n"
     ]
    }
   ],
   "source": [
    "print (\"Avg Balanced Acurracy : {} +/- {}\".format(np.round(np.mean(balanced_acc_list),2), \n",
    "                                                  np.round(np.std(balanced_acc_list),4 )))\n",
    "\n",
    "print (\"Avg Kappa Score : {} +/- {}\".format(np.round(np.mean(kappa_acc_nn_list),3), \n",
    "                                            np.round(np.std(kappa_acc_nn_list),4 )))"
   ]
  },
  {
   "cell_type": "code",
   "execution_count": null,
   "id": "fcb7d78d",
   "metadata": {},
   "outputs": [],
   "source": []
  }
 ],
 "metadata": {
  "kernelspec": {
   "display_name": "Python 3 (ipykernel)",
   "language": "python",
   "name": "python3"
  },
  "language_info": {
   "codemirror_mode": {
    "name": "ipython",
    "version": 3
   },
   "file_extension": ".py",
   "mimetype": "text/x-python",
   "name": "python",
   "nbconvert_exporter": "python",
   "pygments_lexer": "ipython3",
   "version": "3.9.7"
  },
  "toc": {
   "base_numbering": 1,
   "nav_menu": {},
   "number_sections": false,
   "sideBar": true,
   "skip_h1_title": false,
   "title_cell": "Table of Contents",
   "title_sidebar": "Contents",
   "toc_cell": false,
   "toc_position": {},
   "toc_section_display": true,
   "toc_window_display": false
  },
  "varInspector": {
   "cols": {
    "lenName": 16,
    "lenType": 16,
    "lenVar": 40
   },
   "kernels_config": {
    "python": {
     "delete_cmd_postfix": "",
     "delete_cmd_prefix": "del ",
     "library": "var_list.py",
     "varRefreshCmd": "print(var_dic_list())"
    },
    "r": {
     "delete_cmd_postfix": ") ",
     "delete_cmd_prefix": "rm(",
     "library": "var_list.r",
     "varRefreshCmd": "cat(var_dic_list()) "
    }
   },
   "types_to_exclude": [
    "module",
    "function",
    "builtin_function_or_method",
    "instance",
    "_Feature"
   ],
   "window_display": false
  }
 },
 "nbformat": 4,
 "nbformat_minor": 5
}
