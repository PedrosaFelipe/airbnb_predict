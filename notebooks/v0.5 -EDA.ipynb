{
 "cells": [
  {
   "cell_type": "markdown",
   "id": "9f395a01",
   "metadata": {
    "heading_collapsed": true
   },
   "source": [
    "##  0.0. Objetivo do Problema:\n"
   ]
  },
  {
   "cell_type": "markdown",
   "id": "088c34b4",
   "metadata": {
    "hidden": true
   },
   "source": [
    "-- 1.0. Previsao do primeiro destino que um novo usuário irá escolher.\n",
    "\n",
    "-- Porque?\n",
    "    -- Qual tipo de modelo de negócio do Airbnb? \n",
    "    \n",
    "    \n",
    "        - Marketplace ( Conectar pessoas que oferecem acomodacao, com pessoas que estao procurando acomodacao)\n",
    "        - Oferta ( pessoas oferecendo acomodacao )\n",
    "            - Tamanho do portfólio.\n",
    "            - Diversidade/Densidade de Portfólio.\n",
    "            - Preco Medio\n",
    "\n",
    "        - Demanda ( pessoas procurando acomodacao )\n",
    "            - Numero de Usuários\n",
    "            - LTV ( Lifetime Value )\n",
    "            - CAC ( Client Acquisition Cost )\n",
    "\n",
    "\n",
    "           Gross Revenue = ( Fee * Numero cliente ) - CAC "
   ]
  },
  {
   "cell_type": "markdown",
   "id": "81598339",
   "metadata": {
    "ExecuteTime": {
     "end_time": "2022-03-01T20:30:12.443684Z",
     "start_time": "2022-03-01T20:30:12.440371Z"
    },
    "heading_collapsed": true
   },
   "source": [
    "##  0.1. Proposta de solução:\n"
   ]
  },
  {
   "cell_type": "markdown",
   "id": "40d71e5d",
   "metadata": {
    "hidden": true
   },
   "source": [
    "--- Modelo de Predizao do primeiro destino de um novo usario.\n",
    "\n",
    "- 1.0. Predicoes e salva em tabela do banco de dados. \n",
    "- 2.0. API \n",
    "        --- Input: usuario e suas caracteristicas\n",
    "        --- Output: usuario e suas caracteristicas com a **predicao do destino**\n",
    "\n",
    "--- 16 ciclos"
   ]
  },
  {
   "cell_type": "markdown",
   "id": "bd1fb87b",
   "metadata": {},
   "source": [
    "# <font color ='red'> 1.0. Imports </font> "
   ]
  },
  {
   "cell_type": "code",
   "execution_count": 44,
   "id": "6908ec64",
   "metadata": {
    "ExecuteTime": {
     "end_time": "2022-03-10T05:15:59.385719Z",
     "start_time": "2022-03-10T05:15:58.781908Z"
    }
   },
   "outputs": [],
   "source": [
    "import random\n",
    "import pandas                                             as pd\n",
    "import seaborn                                            as sns\n",
    "import numpy                                              as np\n",
    "import matplotlib.pyplot                                  as plt\n",
    "\n",
    "from sklearn                    import model_selection    as ms\n",
    "from sklearn                    import preprocessing      as pp\n",
    "from sklearn                    import metrics            as m\n",
    "\n",
    "from scikitplot                 import metrics            as mt\n",
    "from scipy                      import stats              as ss\n",
    "\n",
    "from keras                      import models             as ml\n",
    "from keras                      import layers             as l\n",
    "\n",
    "from imblearn   import under_sampling  as us\n",
    "from imblearn   import over_sampling   as oversamp\n",
    "from imblearn   import combine         as c\n",
    "\n",
    "from IPython.core.display       import HTML\n",
    "from pandas_profiling           import ProfileReport       \n",
    "\n",
    "import warnings\n",
    "\n",
    "warnings.filterwarnings(\"ignore\")\n",
    "\n"
   ]
  },
  {
   "cell_type": "markdown",
   "id": "c39c2736",
   "metadata": {
    "code_folding": []
   },
   "source": [
    "## 1.1. Helper Function"
   ]
  },
  {
   "cell_type": "code",
   "execution_count": 2,
   "id": "d31031e6",
   "metadata": {
    "ExecuteTime": {
     "end_time": "2022-03-10T05:05:31.036162Z",
     "start_time": "2022-03-10T05:05:31.024805Z"
    }
   },
   "outputs": [
    {
     "data": {
      "text/html": [
       "<style>.container{width:100% !important;}</style>"
      ],
      "text/plain": [
       "<IPython.core.display.HTML object>"
      ]
     },
     "metadata": {},
     "output_type": "display_data"
    }
   ],
   "source": [
    "def my_settings():\n",
    "    %matplotlib inline\n",
    "    \n",
    "    # plotly settings\n",
    "    plt.style.use( 'bmh' )\n",
    "    plt.rcParams['figure.figsize'] = [25, 12]\n",
    "    plt.rcParams['font.size'] = 8\n",
    " \n",
    "    # notebook settings\n",
    "    display(HTML('<style>.container{width:100% !important;}</style>'))\n",
    "    np.set_printoptions(suppress=True)\n",
    "    pd.set_option('display.float_format', '{:.5f}'.format)\n",
    "    \n",
    "    # seaborn settings\n",
    "    sns.set(rc={'figure.figsize':(25,12)})\n",
    "    sns.set_theme(style = 'darkgrid', font_scale = 1)\n",
    "    \n",
    "my_settings()"
   ]
  },
  {
   "cell_type": "code",
   "execution_count": 3,
   "id": "b8ce9bef",
   "metadata": {
    "ExecuteTime": {
     "end_time": "2022-03-10T05:05:31.046005Z",
     "start_time": "2022-03-10T05:05:31.038393Z"
    }
   },
   "outputs": [],
   "source": [
    " # correlation 2 categorical variables \n",
    "    \n",
    "def cramer_v( x, y ):\n",
    "    cm = pd.crosstab( x, y ).values\n",
    "    n = cm.sum()\n",
    "    r, k = cm.shape\n",
    "    \n",
    "    chi2 = ss.chi2_contingency( cm )[0]\n",
    "    chi2corr = max( 0, chi2 - (k-1)*(r-1)/(n-1) )\n",
    "    \n",
    "    kcorr = k - (k-1)**2/(n-1)\n",
    "    rcorr = r - (r-1)**2/(n-1)\n",
    "    \n",
    "    return np.sqrt( (chi2corr/n) / ( min( kcorr-1, rcorr-1 ) ) )"
   ]
  },
  {
   "cell_type": "markdown",
   "id": "e6b28dc1",
   "metadata": {},
   "source": [
    "## 1.2. Loading Data"
   ]
  },
  {
   "cell_type": "code",
   "execution_count": 4,
   "id": "1d7df5f7",
   "metadata": {
    "ExecuteTime": {
     "end_time": "2022-03-10T05:05:37.349444Z",
     "start_time": "2022-03-10T05:05:31.048947Z"
    }
   },
   "outputs": [],
   "source": [
    "df_raw = pd.read_csv('~/repositorio/airbnb_predict/data/raw/train_users_2.csv', low_memory=True)\n",
    "df_sessions = pd.read_csv('~/repositorio/airbnb_predict/data/raw/sessions.csv', low_memory=True)"
   ]
  },
  {
   "cell_type": "markdown",
   "id": "7fbef555",
   "metadata": {},
   "source": [
    "# 2.0. Data Description\n"
   ]
  },
  {
   "cell_type": "code",
   "execution_count": 5,
   "id": "2361a91c",
   "metadata": {
    "ExecuteTime": {
     "end_time": "2022-03-10T05:05:37.384571Z",
     "start_time": "2022-03-10T05:05:37.351405Z"
    }
   },
   "outputs": [],
   "source": [
    "df2 = df_raw.copy()"
   ]
  },
  {
   "cell_type": "code",
   "execution_count": 6,
   "id": "7c297c73",
   "metadata": {
    "ExecuteTime": {
     "end_time": "2022-03-10T05:05:37.460567Z",
     "start_time": "2022-03-10T05:05:37.386240Z"
    },
    "scrolled": true
   },
   "outputs": [
    {
     "name": "stdout",
     "output_type": "stream",
     "text": [
      "Number of rows: 213451\n",
      "Number of columns: 16\n"
     ]
    }
   ],
   "source": [
    "print('Number of rows: {}'.format(df2.shape[0]))\n",
    "print('Number of columns: {}'.format(df2.shape[1]))"
   ]
  },
  {
   "cell_type": "code",
   "execution_count": 7,
   "id": "e0769e6a",
   "metadata": {
    "ExecuteTime": {
     "end_time": "2022-03-10T05:05:37.478297Z",
     "start_time": "2022-03-10T05:05:37.464261Z"
    }
   },
   "outputs": [
    {
     "name": "stdout",
     "output_type": "stream",
     "text": [
      "Number of rows: 10567737\n",
      "Number of columns: 6\n"
     ]
    }
   ],
   "source": [
    "print('Number of rows: {}'.format(df_sessions.shape[0]))\n",
    "print('Number of columns: {}'.format(df_sessions.shape[1]))"
   ]
  },
  {
   "cell_type": "markdown",
   "id": "3d8bda63",
   "metadata": {},
   "source": [
    "## 2.1. Data Type\n"
   ]
  },
  {
   "cell_type": "code",
   "execution_count": 8,
   "id": "f372d3bc",
   "metadata": {
    "ExecuteTime": {
     "end_time": "2022-03-10T05:05:37.497341Z",
     "start_time": "2022-03-10T05:05:37.483614Z"
    },
    "scrolled": true
   },
   "outputs": [
    {
     "data": {
      "text/plain": [
       "id                          object\n",
       "date_account_created        object\n",
       "timestamp_first_active       int64\n",
       "date_first_booking          object\n",
       "gender                      object\n",
       "age                        float64\n",
       "signup_method               object\n",
       "signup_flow                  int64\n",
       "language                    object\n",
       "affiliate_channel           object\n",
       "affiliate_provider          object\n",
       "first_affiliate_tracked     object\n",
       "signup_app                  object\n",
       "first_device_type           object\n",
       "first_browser               object\n",
       "country_destination         object\n",
       "dtype: object"
      ]
     },
     "execution_count": 8,
     "metadata": {},
     "output_type": "execute_result"
    }
   ],
   "source": [
    "df2.dtypes"
   ]
  },
  {
   "cell_type": "code",
   "execution_count": 9,
   "id": "ecda6fe0",
   "metadata": {
    "ExecuteTime": {
     "end_time": "2022-03-10T05:05:37.509202Z",
     "start_time": "2022-03-10T05:05:37.500668Z"
    }
   },
   "outputs": [
    {
     "data": {
      "text/plain": [
       "user_id           object\n",
       "action            object\n",
       "action_type       object\n",
       "action_detail     object\n",
       "device_type       object\n",
       "secs_elapsed     float64\n",
       "dtype: object"
      ]
     },
     "execution_count": 9,
     "metadata": {},
     "output_type": "execute_result"
    }
   ],
   "source": [
    "df_sessions.dtypes"
   ]
  },
  {
   "cell_type": "markdown",
   "id": "53a61f26",
   "metadata": {},
   "source": [
    "## 2.2. NA Check\n"
   ]
  },
  {
   "cell_type": "code",
   "execution_count": 10,
   "id": "3d37b8a6",
   "metadata": {
    "ExecuteTime": {
     "end_time": "2022-03-10T05:05:37.626102Z",
     "start_time": "2022-03-10T05:05:37.512540Z"
    },
    "scrolled": false
   },
   "outputs": [
    {
     "data": {
      "text/plain": [
       "id                        0.00000\n",
       "date_account_created      0.00000\n",
       "timestamp_first_active    0.00000\n",
       "date_first_booking        0.58347\n",
       "gender                    0.00000\n",
       "age                       0.41223\n",
       "signup_method             0.00000\n",
       "signup_flow               0.00000\n",
       "language                  0.00000\n",
       "affiliate_channel         0.00000\n",
       "affiliate_provider        0.00000\n",
       "first_affiliate_tracked   0.02841\n",
       "signup_app                0.00000\n",
       "first_device_type         0.00000\n",
       "first_browser             0.00000\n",
       "country_destination       0.00000\n",
       "dtype: float64"
      ]
     },
     "execution_count": 10,
     "metadata": {},
     "output_type": "execute_result"
    }
   ],
   "source": [
    "df2.isna().sum() / len(df2)"
   ]
  },
  {
   "cell_type": "code",
   "execution_count": 11,
   "id": "d3f960a1",
   "metadata": {
    "ExecuteTime": {
     "end_time": "2022-03-10T05:05:39.558446Z",
     "start_time": "2022-03-10T05:05:37.628785Z"
    }
   },
   "outputs": [
    {
     "data": {
      "text/plain": [
       "user_id         0.00326\n",
       "action          0.00753\n",
       "action_type     0.10657\n",
       "action_detail   0.10657\n",
       "device_type     0.00000\n",
       "secs_elapsed    0.01287\n",
       "dtype: float64"
      ]
     },
     "execution_count": 11,
     "metadata": {},
     "output_type": "execute_result"
    }
   ],
   "source": [
    "df_sessions.isna().sum() / len(df_sessions)"
   ]
  },
  {
   "cell_type": "code",
   "execution_count": 12,
   "id": "99b37282",
   "metadata": {
    "ExecuteTime": {
     "end_time": "2022-03-10T05:05:39.563242Z",
     "start_time": "2022-03-10T05:05:39.560496Z"
    }
   },
   "outputs": [],
   "source": [
    "# aux = df_sessions[df_sessions['secs_elapsed'] < 0.25e6]"
   ]
  },
  {
   "cell_type": "code",
   "execution_count": 13,
   "id": "5c87a491",
   "metadata": {
    "ExecuteTime": {
     "end_time": "2022-03-10T05:05:39.572065Z",
     "start_time": "2022-03-10T05:05:39.564924Z"
    },
    "scrolled": true
   },
   "outputs": [],
   "source": [
    "# sns.distplot(aux['secs_elapsed'])"
   ]
  },
  {
   "cell_type": "code",
   "execution_count": 14,
   "id": "fd94b090",
   "metadata": {
    "ExecuteTime": {
     "end_time": "2022-03-10T05:05:39.584995Z",
     "start_time": "2022-03-10T05:05:39.574290Z"
    }
   },
   "outputs": [],
   "source": [
    "# sns.distplot(df2[df2['age'] < 65] ['age'])"
   ]
  },
  {
   "cell_type": "code",
   "execution_count": 15,
   "id": "b10815db",
   "metadata": {
    "ExecuteTime": {
     "end_time": "2022-03-10T05:05:43.496549Z",
     "start_time": "2022-03-10T05:05:39.587499Z"
    },
    "scrolled": true
   },
   "outputs": [],
   "source": [
    "# remove missing value completly\n",
    "\n",
    "# df2 = df2.dropna()\n",
    "\n",
    "# ==================== User ======================\n",
    "# date_first_booking\n",
    "date_first_booking_max = pd.to_datetime(df2['date_first_booking']).max().strftime('%Y%m%d')\n",
    "df2['date_first_booking'] = df2['date_first_booking'].fillna(date_first_booking_max)\n",
    "                                \n",
    "# age\n",
    "df2 = df2[( df2['age'] > 15 ) & ( df2['age'] < 120 )]\n",
    "avg_age = df2['age'].mean()   \n",
    "df2['age'] = df2['age'].fillna(avg_age)\n",
    "\n",
    "# first_affiliate_tracked\n",
    "df2 = df2[~df2['first_affiliate_tracked'].isna()]     \n",
    "\n",
    "# ==================== Sessions ======================\n",
    "# user_id          0.003 %\n",
    "df_sessions = df_sessions[~df_sessions['user_id'].isna()]     \n",
    "\n",
    "# action           0.007 %\n",
    "df_sessions = df_sessions[~df_sessions['action'].isna()]     \n",
    "\n",
    "# action_type      0.106 %\n",
    "df_sessions = df_sessions[~df_sessions['action_type'].isna()]     \n",
    "\n",
    "# action_detail    0.106 %\n",
    "df_sessions = df_sessions[~df_sessions['action_detail'].isna()]     \n",
    "\n",
    "# device_type      0.000 %\n",
    "df_sessions = df_sessions[~df_sessions['device_type'].isna()]     \n",
    "\n",
    "# secs_elapsed     0.012 %\n",
    "df_sessions = df_sessions[~df_sessions['secs_elapsed'].isna()]     \n",
    "\n",
    "\n",
    "                                "
   ]
  },
  {
   "cell_type": "markdown",
   "id": "632d5b42",
   "metadata": {},
   "source": [
    "## 2.3. Change Data Type\n"
   ]
  },
  {
   "cell_type": "code",
   "execution_count": 16,
   "id": "b2b26ed9",
   "metadata": {
    "ExecuteTime": {
     "end_time": "2022-03-10T05:05:43.849540Z",
     "start_time": "2022-03-10T05:05:43.498235Z"
    }
   },
   "outputs": [],
   "source": [
    "# 'date_account_created'\n",
    "df2['date_account_created'] = pd.to_datetime(df2['date_account_created'])\n",
    "\n",
    "# 'timestamp_first_active'\n",
    "df2['timestamp_first_active'] = pd.to_datetime(df2['timestamp_first_active'], format = '%Y%m%d%H%M%S')\n",
    "\n",
    "# 'date_first_booking'\n",
    "df2['date_first_booking'] = pd.to_datetime(df2['date_first_booking'])\n",
    "\n",
    "# 'age'\n",
    "df2['age'] = df2['age'].astype('int64')\n"
   ]
  },
  {
   "cell_type": "markdown",
   "id": "ae96c0ef",
   "metadata": {},
   "source": [
    "## 2.4. Check Balanced Data\n"
   ]
  },
  {
   "cell_type": "code",
   "execution_count": 17,
   "id": "cb823b35",
   "metadata": {
    "ExecuteTime": {
     "end_time": "2022-03-10T05:05:43.861309Z",
     "start_time": "2022-03-10T05:05:43.851257Z"
    },
    "scrolled": true
   },
   "outputs": [
    {
     "data": {
      "text/plain": [
       "NDF     0.44727\n",
       "US      0.39187\n",
       "other   0.06125\n",
       "FR      0.02992\n",
       "IT      0.01642\n",
       "GB      0.01434\n",
       "ES      0.01374\n",
       "CA      0.00868\n",
       "DE      0.00686\n",
       "NL      0.00485\n",
       "AU      0.00353\n",
       "PT      0.00128\n",
       "Name: country_destination, dtype: float64"
      ]
     },
     "execution_count": 17,
     "metadata": {},
     "output_type": "execute_result"
    }
   ],
   "source": [
    "df2['country_destination'].value_counts(normalize=True)"
   ]
  },
  {
   "cell_type": "markdown",
   "id": "f454a497",
   "metadata": {},
   "source": [
    "## 2.5. Descriptive Analysis"
   ]
  },
  {
   "cell_type": "code",
   "execution_count": 18,
   "id": "4124e320",
   "metadata": {
    "ExecuteTime": {
     "end_time": "2022-03-10T05:05:44.081407Z",
     "start_time": "2022-03-10T05:05:43.862960Z"
    }
   },
   "outputs": [],
   "source": [
    "\n",
    "#====================== Users ===========================\n",
    "num_att = df2.select_dtypes(include = ['int64','float64'])\n",
    "cat_att = df2.select_dtypes(exclude = ['int64','float64', 'datetime64[ns]'])\n",
    "time_att = df2.select_dtypes(include = ['datetime64[ns]'])\n",
    "\n",
    "#==================== Sessions ==========================\n",
    "num_att_sessions = df_sessions.select_dtypes(include = ['int64','float64'])\n",
    "cat_att_sessions = df_sessions.select_dtypes(exclude = ['int64','float64', 'datetime64[ns]'])\n",
    "time_att_sessions = df_sessions.select_dtypes(include = ['datetime64[ns]'])\n"
   ]
  },
  {
   "cell_type": "markdown",
   "id": "628cd4e9",
   "metadata": {
    "heading_collapsed": true
   },
   "source": [
    "### 2.5.1 Numerical - Users"
   ]
  },
  {
   "cell_type": "code",
   "execution_count": 19,
   "id": "68d5066e",
   "metadata": {
    "ExecuteTime": {
     "end_time": "2022-03-10T05:05:44.132765Z",
     "start_time": "2022-03-10T05:05:44.082816Z"
    },
    "hidden": true
   },
   "outputs": [
    {
     "data": {
      "text/html": [
       "<div>\n",
       "<style scoped>\n",
       "    .dataframe tbody tr th:only-of-type {\n",
       "        vertical-align: middle;\n",
       "    }\n",
       "\n",
       "    .dataframe tbody tr th {\n",
       "        vertical-align: top;\n",
       "    }\n",
       "\n",
       "    .dataframe thead th {\n",
       "        text-align: right;\n",
       "    }\n",
       "</style>\n",
       "<table border=\"1\" class=\"dataframe\">\n",
       "  <thead>\n",
       "    <tr style=\"text-align: right;\">\n",
       "      <th></th>\n",
       "      <th>attributes</th>\n",
       "      <th>min</th>\n",
       "      <th>max</th>\n",
       "      <th>range</th>\n",
       "      <th>mean</th>\n",
       "      <th>median</th>\n",
       "      <th>std</th>\n",
       "      <th>skew</th>\n",
       "      <th>kustosis</th>\n",
       "    </tr>\n",
       "  </thead>\n",
       "  <tbody>\n",
       "    <tr>\n",
       "      <th>0</th>\n",
       "      <td>age</td>\n",
       "      <td>16.00000</td>\n",
       "      <td>115.00000</td>\n",
       "      <td>99.00000</td>\n",
       "      <td>37.40559</td>\n",
       "      <td>34.00000</td>\n",
       "      <td>13.93984</td>\n",
       "      <td>2.08972</td>\n",
       "      <td>6.51647</td>\n",
       "    </tr>\n",
       "    <tr>\n",
       "      <th>1</th>\n",
       "      <td>signup_flow</td>\n",
       "      <td>0.00000</td>\n",
       "      <td>25.00000</td>\n",
       "      <td>25.00000</td>\n",
       "      <td>2.51951</td>\n",
       "      <td>0.00000</td>\n",
       "      <td>6.60470</td>\n",
       "      <td>2.70587</td>\n",
       "      <td>5.92830</td>\n",
       "    </tr>\n",
       "  </tbody>\n",
       "</table>\n",
       "</div>"
      ],
      "text/plain": [
       "    attributes      min       max    range     mean   median      std    skew  \\\n",
       "0          age 16.00000 115.00000 99.00000 37.40559 34.00000 13.93984 2.08972   \n",
       "1  signup_flow  0.00000  25.00000 25.00000  2.51951  0.00000  6.60470 2.70587   \n",
       "\n",
       "   kustosis  \n",
       "0   6.51647  \n",
       "1   5.92830  "
      ]
     },
     "execution_count": 19,
     "metadata": {},
     "output_type": "execute_result"
    }
   ],
   "source": [
    "# Central tendency - mean , median\n",
    "ct1 = pd.DataFrame(num_att.apply(np.mean)).T\n",
    "ct2 = pd.DataFrame(num_att.apply(np.median)).T\n",
    "\n",
    "# Dispersion - std , min , max , range , skew , kurtosis\n",
    "d1 = pd.DataFrame(num_att.apply(np.std)).T\n",
    "d2 = pd.DataFrame(num_att.apply(min)).T\n",
    "d3 = pd.DataFrame(num_att.apply(max)).T\n",
    "d4 = pd.DataFrame(num_att.apply(lambda x: x.max() - x.min())).T\n",
    "d5 = pd.DataFrame(num_att.apply(lambda x: x.skew())).T\n",
    "d6 = pd.DataFrame(num_att.apply(lambda x: x.kurtosis())).T\n",
    "\n",
    "# concatenate\n",
    "m = pd.concat([d2,d3,d4,ct1,ct2,d1,d5,d6]).T.reset_index()\n",
    "m.columns =['attributes','min','max','range','mean','median','std','skew','kustosis']\n",
    "m"
   ]
  },
  {
   "cell_type": "markdown",
   "id": "30953160",
   "metadata": {
    "heading_collapsed": true
   },
   "source": [
    "### 2.5.1 Numerical - Sessions"
   ]
  },
  {
   "cell_type": "code",
   "execution_count": 20,
   "id": "ae562183",
   "metadata": {
    "ExecuteTime": {
     "end_time": "2022-03-10T05:05:45.679812Z",
     "start_time": "2022-03-10T05:05:44.134374Z"
    },
    "hidden": true
   },
   "outputs": [
    {
     "data": {
      "text/html": [
       "<div>\n",
       "<style scoped>\n",
       "    .dataframe tbody tr th:only-of-type {\n",
       "        vertical-align: middle;\n",
       "    }\n",
       "\n",
       "    .dataframe tbody tr th {\n",
       "        vertical-align: top;\n",
       "    }\n",
       "\n",
       "    .dataframe thead th {\n",
       "        text-align: right;\n",
       "    }\n",
       "</style>\n",
       "<table border=\"1\" class=\"dataframe\">\n",
       "  <thead>\n",
       "    <tr style=\"text-align: right;\">\n",
       "      <th></th>\n",
       "      <th>attributes</th>\n",
       "      <th>min</th>\n",
       "      <th>max</th>\n",
       "      <th>range</th>\n",
       "      <th>mean</th>\n",
       "      <th>median</th>\n",
       "      <th>std</th>\n",
       "      <th>skew</th>\n",
       "      <th>kustosis</th>\n",
       "    </tr>\n",
       "  </thead>\n",
       "  <tbody>\n",
       "    <tr>\n",
       "      <th>0</th>\n",
       "      <td>secs_elapsed</td>\n",
       "      <td>0.00000</td>\n",
       "      <td>1799977.00000</td>\n",
       "      <td>1799977.00000</td>\n",
       "      <td>19961.82510</td>\n",
       "      <td>1369.00000</td>\n",
       "      <td>88849.38845</td>\n",
       "      <td>11.13776</td>\n",
       "      <td>154.84312</td>\n",
       "    </tr>\n",
       "  </tbody>\n",
       "</table>\n",
       "</div>"
      ],
      "text/plain": [
       "     attributes     min           max         range        mean     median  \\\n",
       "0  secs_elapsed 0.00000 1799977.00000 1799977.00000 19961.82510 1369.00000   \n",
       "\n",
       "          std     skew  kustosis  \n",
       "0 88849.38845 11.13776 154.84312  "
      ]
     },
     "execution_count": 20,
     "metadata": {},
     "output_type": "execute_result"
    }
   ],
   "source": [
    "# Central tendency - mean , median\n",
    "ct1 = pd.DataFrame(num_att_sessions.apply(np.mean)).T\n",
    "ct2 = pd.DataFrame(num_att_sessions.apply(np.median)).T\n",
    "\n",
    "# Dispersion - std , min , max , range , skew , kurtosis\n",
    "d1 = pd.DataFrame(num_att_sessions.apply(np.std)).T\n",
    "d2 = pd.DataFrame(num_att_sessions.apply(min)).T\n",
    "d3 = pd.DataFrame(num_att_sessions.apply(max)).T\n",
    "d4 = pd.DataFrame(num_att_sessions.apply(lambda x: x.max() - x.min())).T\n",
    "d5 = pd.DataFrame(num_att_sessions.apply(lambda x: x.skew())).T\n",
    "d6 = pd.DataFrame(num_att_sessions.apply(lambda x: x.kurtosis())).T\n",
    "\n",
    "# concatenate\n",
    "m = pd.concat([d2,d3,d4,ct1,ct2,d1,d5,d6]).T.reset_index()\n",
    "m.columns =['attributes','min','max','range','mean','median','std','skew','kustosis']\n",
    "m"
   ]
  },
  {
   "cell_type": "markdown",
   "id": "c6272ffb",
   "metadata": {
    "heading_collapsed": true
   },
   "source": [
    "### 2.5.3 Categorical - Users"
   ]
  },
  {
   "cell_type": "code",
   "execution_count": 21,
   "id": "b9ca6da5",
   "metadata": {
    "ExecuteTime": {
     "end_time": "2022-03-10T05:05:45.793511Z",
     "start_time": "2022-03-10T05:05:45.681573Z"
    },
    "hidden": true
   },
   "outputs": [
    {
     "data": {
      "text/html": [
       "<div>\n",
       "<style scoped>\n",
       "    .dataframe tbody tr th:only-of-type {\n",
       "        vertical-align: middle;\n",
       "    }\n",
       "\n",
       "    .dataframe tbody tr th {\n",
       "        vertical-align: top;\n",
       "    }\n",
       "\n",
       "    .dataframe thead th {\n",
       "        text-align: right;\n",
       "    }\n",
       "</style>\n",
       "<table border=\"1\" class=\"dataframe\">\n",
       "  <thead>\n",
       "    <tr style=\"text-align: right;\">\n",
       "      <th></th>\n",
       "      <th>gender</th>\n",
       "      <th>signup_method</th>\n",
       "      <th>language</th>\n",
       "      <th>affiliate_channel</th>\n",
       "      <th>affiliate_provider</th>\n",
       "      <th>first_affiliate_tracked</th>\n",
       "      <th>signup_app</th>\n",
       "      <th>first_device_type</th>\n",
       "      <th>first_browser</th>\n",
       "      <th>country_destination</th>\n",
       "    </tr>\n",
       "  </thead>\n",
       "  <tbody>\n",
       "    <tr>\n",
       "      <th>count</th>\n",
       "      <td>122636</td>\n",
       "      <td>122636</td>\n",
       "      <td>122636</td>\n",
       "      <td>122636</td>\n",
       "      <td>122636</td>\n",
       "      <td>122636</td>\n",
       "      <td>122636</td>\n",
       "      <td>122636</td>\n",
       "      <td>122636</td>\n",
       "      <td>122636</td>\n",
       "    </tr>\n",
       "    <tr>\n",
       "      <th>unique</th>\n",
       "      <td>4</td>\n",
       "      <td>3</td>\n",
       "      <td>25</td>\n",
       "      <td>8</td>\n",
       "      <td>17</td>\n",
       "      <td>7</td>\n",
       "      <td>4</td>\n",
       "      <td>9</td>\n",
       "      <td>41</td>\n",
       "      <td>12</td>\n",
       "    </tr>\n",
       "    <tr>\n",
       "      <th>top</th>\n",
       "      <td>FEMALE</td>\n",
       "      <td>basic</td>\n",
       "      <td>en</td>\n",
       "      <td>direct</td>\n",
       "      <td>direct</td>\n",
       "      <td>untracked</td>\n",
       "      <td>Web</td>\n",
       "      <td>Mac Desktop</td>\n",
       "      <td>Chrome</td>\n",
       "      <td>NDF</td>\n",
       "    </tr>\n",
       "    <tr>\n",
       "      <th>freq</th>\n",
       "      <td>56362</td>\n",
       "      <td>66039</td>\n",
       "      <td>118205</td>\n",
       "      <td>79093</td>\n",
       "      <td>78954</td>\n",
       "      <td>64712</td>\n",
       "      <td>108283</td>\n",
       "      <td>57943</td>\n",
       "      <td>41778</td>\n",
       "      <td>54852</td>\n",
       "    </tr>\n",
       "  </tbody>\n",
       "</table>\n",
       "</div>"
      ],
      "text/plain": [
       "        gender signup_method language affiliate_channel affiliate_provider  \\\n",
       "count   122636        122636   122636            122636             122636   \n",
       "unique       4             3       25                 8                 17   \n",
       "top     FEMALE         basic       en            direct             direct   \n",
       "freq     56362         66039   118205             79093              78954   \n",
       "\n",
       "       first_affiliate_tracked signup_app first_device_type first_browser  \\\n",
       "count                   122636     122636            122636        122636   \n",
       "unique                       7          4                 9            41   \n",
       "top                  untracked        Web       Mac Desktop        Chrome   \n",
       "freq                     64712     108283             57943         41778   \n",
       "\n",
       "       country_destination  \n",
       "count               122636  \n",
       "unique                  12  \n",
       "top                    NDF  \n",
       "freq                 54852  "
      ]
     },
     "execution_count": 21,
     "metadata": {},
     "output_type": "execute_result"
    }
   ],
   "source": [
    "cat_att.drop('id', axis = 1).describe()"
   ]
  },
  {
   "cell_type": "markdown",
   "id": "ba284466",
   "metadata": {
    "heading_collapsed": true
   },
   "source": [
    "### 2.5.4 Categorical - Sessions"
   ]
  },
  {
   "cell_type": "code",
   "execution_count": 22,
   "id": "6a1b3b19",
   "metadata": {
    "ExecuteTime": {
     "end_time": "2022-03-10T05:05:48.378783Z",
     "start_time": "2022-03-10T05:05:45.795448Z"
    },
    "hidden": true,
    "scrolled": true
   },
   "outputs": [
    {
     "data": {
      "text/html": [
       "<div>\n",
       "<style scoped>\n",
       "    .dataframe tbody tr th:only-of-type {\n",
       "        vertical-align: middle;\n",
       "    }\n",
       "\n",
       "    .dataframe tbody tr th {\n",
       "        vertical-align: top;\n",
       "    }\n",
       "\n",
       "    .dataframe thead th {\n",
       "        text-align: right;\n",
       "    }\n",
       "</style>\n",
       "<table border=\"1\" class=\"dataframe\">\n",
       "  <thead>\n",
       "    <tr style=\"text-align: right;\">\n",
       "      <th></th>\n",
       "      <th>action</th>\n",
       "      <th>action_type</th>\n",
       "      <th>action_detail</th>\n",
       "      <th>device_type</th>\n",
       "    </tr>\n",
       "  </thead>\n",
       "  <tbody>\n",
       "    <tr>\n",
       "      <th>count</th>\n",
       "      <td>9213930</td>\n",
       "      <td>9213930</td>\n",
       "      <td>9213930</td>\n",
       "      <td>9213930</td>\n",
       "    </tr>\n",
       "    <tr>\n",
       "      <th>unique</th>\n",
       "      <td>347</td>\n",
       "      <td>10</td>\n",
       "      <td>155</td>\n",
       "      <td>14</td>\n",
       "    </tr>\n",
       "    <tr>\n",
       "      <th>top</th>\n",
       "      <td>show</td>\n",
       "      <td>view</td>\n",
       "      <td>view_search_results</td>\n",
       "      <td>Mac Desktop</td>\n",
       "    </tr>\n",
       "    <tr>\n",
       "      <th>freq</th>\n",
       "      <td>2178382</td>\n",
       "      <td>3545621</td>\n",
       "      <td>1770931</td>\n",
       "      <td>3019523</td>\n",
       "    </tr>\n",
       "  </tbody>\n",
       "</table>\n",
       "</div>"
      ],
      "text/plain": [
       "         action action_type        action_detail  device_type\n",
       "count   9213930     9213930              9213930      9213930\n",
       "unique      347          10                  155           14\n",
       "top        show        view  view_search_results  Mac Desktop\n",
       "freq    2178382     3545621              1770931      3019523"
      ]
     },
     "execution_count": 22,
     "metadata": {},
     "output_type": "execute_result"
    }
   ],
   "source": [
    "cat_att_sessions.drop('user_id', axis = 1).describe()"
   ]
  },
  {
   "cell_type": "code",
   "execution_count": 23,
   "id": "b5ede52d",
   "metadata": {
    "ExecuteTime": {
     "end_time": "2022-03-10T05:06:11.602638Z",
     "start_time": "2022-03-10T05:05:48.382387Z"
    },
    "hidden": true
   },
   "outputs": [],
   "source": [
    "# list of atrributes for Cramer's V correlation\n",
    "\n",
    "cat_att_list = cat_att_sessions.drop('user_id',axis = 1).columns.to_list()\n",
    "\n",
    "corr_dict = {}\n",
    "\n",
    "for i in range(len(cat_att_list)):\n",
    "    corr_list = []\n",
    "    for j in range(len(cat_att_list)):\n",
    "        ref  = cat_att_list[i]\n",
    "        feat = cat_att_list[j]\n",
    "        corr = cramer_v(cat_att_sessions[ref], cat_att_sessions[feat])\n",
    "        corr_list.append(corr)\n",
    "        \n",
    "        corr_dict[ref] = corr_list"
   ]
  },
  {
   "cell_type": "code",
   "execution_count": 24,
   "id": "7a3c1089",
   "metadata": {
    "ExecuteTime": {
     "end_time": "2022-03-10T05:06:11.852178Z",
     "start_time": "2022-03-10T05:06:11.604904Z"
    },
    "hidden": true
   },
   "outputs": [
    {
     "data": {
      "text/plain": [
       "<AxesSubplot:>"
      ]
     },
     "execution_count": 24,
     "metadata": {},
     "output_type": "execute_result"
    },
    {
     "data": {
      "image/png": "[encoded data removed]",
      "text/plain": [
       "<Figure size 1800x864 with 2 Axes>"
      ]
     },
     "metadata": {},
     "output_type": "display_data"
    }
   ],
   "source": [
    "d = pd.DataFrame(corr_dict)\n",
    "d = d.set_index(d.columns)\n",
    "sns.heatmap(d , annot= True)"
   ]
  },
  {
   "cell_type": "code",
   "execution_count": null,
   "id": "35a7e579",
   "metadata": {
    "hidden": true
   },
   "outputs": [],
   "source": []
  },
  {
   "cell_type": "markdown",
   "id": "c019e68f",
   "metadata": {},
   "source": [
    "# 3.0.  Feature Engineering\n"
   ]
  },
  {
   "cell_type": "code",
   "execution_count": 25,
   "id": "7d1217bb",
   "metadata": {
    "ExecuteTime": {
     "end_time": "2022-03-10T05:06:11.862174Z",
     "start_time": "2022-03-10T05:06:11.853841Z"
    }
   },
   "outputs": [],
   "source": [
    "df3 = df2.copy()"
   ]
  },
  {
   "cell_type": "markdown",
   "id": "85d42d14",
   "metadata": {},
   "source": [
    "## 3.1. Create New Features"
   ]
  },
  {
   "cell_type": "code",
   "execution_count": 26,
   "id": "5eb1f42a",
   "metadata": {
    "ExecuteTime": {
     "end_time": "2022-03-10T05:06:14.651759Z",
     "start_time": "2022-03-10T05:06:11.863631Z"
    }
   },
   "outputs": [],
   "source": [
    "# days from first active up to first booking\n",
    "df3['first_active'] = pd.to_datetime( df3['timestamp_first_active'].dt.strftime( '%Y-%m-%d' ) )\n",
    "df3['days_from_frist_active_until_booking'] = ( df3['date_first_booking'] - df3['first_active'] ).apply( lambda x: x.days )\n",
    "\n",
    "# days from first active upt to account created\n",
    "df3['days_from_first_active_until_account_created'] = ( df3['date_account_created'] - df3['first_active'] ).apply( lambda x: x.days )\n",
    "\n",
    "# days from account createad up to first booking\n",
    "df3['days_from_account_created_until_first_booking'] = ( df3['date_first_booking'] - df3['date_account_created'] ).apply( lambda x: x.days )\n",
    "\n",
    "# ================== First Active ==================\n",
    "# year first active\n",
    "df3['year_first_active'] = df3['first_active'].dt.year\n",
    "\n",
    "# month first active\n",
    "df3['month_fist_active'] = df3['first_active'].dt.month\n",
    "\n",
    "# day first active\n",
    "df3['day_first_active'] = df3['first_active'].dt.day\n",
    "\n",
    "# day of week first active\n",
    "df3['day_of_week_first_active'] = df3['first_active'].dt.dayofweek\n",
    "\n",
    "# week of year first active\n",
    "df3['week_of_year_first_active'] = df3['first_active'].dt.weekofyear\n",
    "\n",
    "# ================== First Booking ==================\n",
    "# year first booking\n",
    "df3['year_first_booking'] = df3['date_first_booking'].dt.year\n",
    "\n",
    "# month first booking\n",
    "df3['month_first_booking'] = df3['date_first_booking'].dt.month\n",
    "\n",
    "# day first booking\n",
    "df3['day_first_booking'] = df3['date_first_booking'].dt.day\n",
    "\n",
    "# day of week first booking\n",
    "df3['day_of_week_first_booking'] = df3['date_first_booking'].dt.dayofweek\n",
    "\n",
    "# week of year first booking\n",
    "df3['week_of_year_first_booking'] = df3['date_first_booking'].dt.weekofyear\n",
    "\n",
    "# ================== First Account Created =================\n",
    "# year first booking\n",
    "df3['year_account_created'] = df3['date_account_created'].dt.year\n",
    "\n",
    "# month  account_created\n",
    "df3['month_account_created'] = df3['date_account_created'].dt.month\n",
    "\n",
    "# day  account_created\n",
    "df3['day_account_created'] = df3['date_account_created'].dt.day\n",
    "\n",
    "# day of week  account_created\n",
    "df3['day_of_week_account_created'] = df3['date_account_created'].dt.dayofweek\n",
    "\n",
    "# week of year  account_created\n",
    "df3['week_of_year_account_created'] = df3['date_account_created'].dt.weekofyear"
   ]
  },
  {
   "cell_type": "code",
   "execution_count": 27,
   "id": "978e7b74",
   "metadata": {
    "ExecuteTime": {
     "end_time": "2022-03-10T05:06:14.657970Z",
     "start_time": "2022-03-10T05:06:14.653149Z"
    }
   },
   "outputs": [
    {
     "data": {
      "text/plain": [
       "(122636, 35)"
      ]
     },
     "execution_count": 27,
     "metadata": {},
     "output_type": "execute_result"
    }
   ],
   "source": [
    "df3.shape"
   ]
  },
  {
   "cell_type": "markdown",
   "id": "8b46ec58",
   "metadata": {},
   "source": [
    "# 4.0.  Data Filtering\n"
   ]
  },
  {
   "cell_type": "code",
   "execution_count": 28,
   "id": "f5bbb918",
   "metadata": {
    "ExecuteTime": {
     "end_time": "2022-03-10T05:06:14.696304Z",
     "start_time": "2022-03-10T05:06:14.659479Z"
    }
   },
   "outputs": [],
   "source": [
    "df4 = df3.copy()"
   ]
  },
  {
   "cell_type": "markdown",
   "id": "032eb758",
   "metadata": {},
   "source": [
    "## 4.1.  Filtering Rows\n"
   ]
  },
  {
   "cell_type": "code",
   "execution_count": 29,
   "id": "deb8eab7",
   "metadata": {
    "ExecuteTime": {
     "end_time": "2022-03-10T05:06:15.169199Z",
     "start_time": "2022-03-10T05:06:14.697608Z"
    }
   },
   "outputs": [],
   "source": [
    "# age - greater than 15 and lower than 120 - There are few peoples over 120 years old\n",
    "df4 = df4[(df4['age'] > 15 ) & (df4['age'] < 120)]\n",
    "\n",
    "# secs_elapsed - There is no possible 0 elapsed in the site\n",
    "df_sessions = df_sessions[df_sessions['secs_elapsed'] > 0]"
   ]
  },
  {
   "cell_type": "markdown",
   "id": "4f91d0cc",
   "metadata": {},
   "source": [
    "## 4.2.  Columns Selection"
   ]
  },
  {
   "cell_type": "code",
   "execution_count": 30,
   "id": "382a3e77",
   "metadata": {
    "ExecuteTime": {
     "end_time": "2022-03-10T05:06:15.200906Z",
     "start_time": "2022-03-10T05:06:15.170759Z"
    }
   },
   "outputs": [],
   "source": [
    "cols = ['date_account_created','timestamp_first_active','date_first_booking','first_active'] # original datatime\n",
    "df4 = df4.drop(cols , axis =1)"
   ]
  },
  {
   "cell_type": "markdown",
   "id": "de3418e0",
   "metadata": {},
   "source": [
    "# 5.0 Balanced Dataset"
   ]
  },
  {
   "cell_type": "code",
   "execution_count": 31,
   "id": "bcb3e92b",
   "metadata": {
    "ExecuteTime": {
     "end_time": "2022-03-10T05:06:15.218502Z",
     "start_time": "2022-03-10T05:06:15.202323Z"
    }
   },
   "outputs": [],
   "source": [
    "df5 = df4.copy()"
   ]
  },
  {
   "cell_type": "code",
   "execution_count": 32,
   "id": "ec97c577",
   "metadata": {
    "ExecuteTime": {
     "end_time": "2022-03-10T05:06:15.224695Z",
     "start_time": "2022-03-10T05:06:15.220318Z"
    }
   },
   "outputs": [
    {
     "data": {
      "text/plain": [
       "(122636, 31)"
      ]
     },
     "execution_count": 32,
     "metadata": {},
     "output_type": "execute_result"
    }
   ],
   "source": [
    "df4.shape"
   ]
  },
  {
   "cell_type": "code",
   "execution_count": 33,
   "id": "bf448b79",
   "metadata": {
    "ExecuteTime": {
     "end_time": "2022-03-10T05:06:15.753662Z",
     "start_time": "2022-03-10T05:06:15.228923Z"
    }
   },
   "outputs": [
    {
     "data": {
      "text/plain": [
       "(122636, 138)"
      ]
     },
     "execution_count": 33,
     "metadata": {},
     "output_type": "execute_result"
    }
   ],
   "source": [
    " # Encoder Categorical Variables\n",
    "ohe = pp.OneHotEncoder()\n",
    "\n",
    "# Numerical\n",
    "col_num = df5.select_dtypes( include=['int64', 'float64'] ).columns.tolist()\n",
    "\n",
    "# Categorical\n",
    "col_cat = df5.select_dtypes( exclude=['int64', 'float64', 'datetime64[ns]'] ).drop( ['id', 'country_destination'], axis=1 ).columns.tolist()\n",
    "\n",
    "# encoding\n",
    "df5_dummy = pd.DataFrame( ohe.fit_transform( df5[ col_cat] ).toarray(), index=df5.index )\n",
    "\n",
    "# join numerical and categorical\n",
    "df52 = pd.concat( [df5[col_num], df5_dummy], axis=1 )\n",
    "df52.shape"
   ]
  },
  {
   "cell_type": "markdown",
   "id": "6aee533d",
   "metadata": {},
   "source": [
    "## 5.3. Smote + Tomelink"
   ]
  },
  {
   "cell_type": "code",
   "execution_count": 40,
   "id": "ca65e9ff",
   "metadata": {
    "ExecuteTime": {
     "end_time": "2022-03-10T05:06:20.181672Z",
     "start_time": "2022-03-10T05:06:20.165736Z"
    }
   },
   "outputs": [
    {
     "data": {
      "text/plain": [
       "{'NDF': 54852,\n",
       " 'US': 48057,\n",
       " 'other': 7511,\n",
       " 'FR': 3669,\n",
       " 'IT': 2014,\n",
       " 'GB': 1758,\n",
       " 'ES': 1685,\n",
       " 'CA': 1064,\n",
       " 'DE': 841,\n",
       " 'NL': 595,\n",
       " 'AU': 433,\n",
       " 'PT': 157}"
      ]
     },
     "execution_count": 40,
     "metadata": {},
     "output_type": "execute_result"
    }
   ],
   "source": [
    "df5['country_destination'].value_counts().to_dict()"
   ]
  },
  {
   "cell_type": "code",
   "execution_count": 41,
   "id": "79a19e15",
   "metadata": {
    "ExecuteTime": {
     "end_time": "2022-03-10T05:06:20.189875Z",
     "start_time": "2022-03-10T05:06:20.184589Z"
    }
   },
   "outputs": [],
   "source": [
    "ratio_balanced =  {'NDF'  :     54852,\n",
    "                   'US'   :     48057,\n",
    "                   'other': 6  * 7511,\n",
    "                   'FR'   : 12 * 3669,\n",
    "                   'IT'   : 20 * 2014,\n",
    "                   'GB'   : 30 * 1758,\n",
    "                   'ES'   : 30 * 1685,\n",
    "                   'CA'   : 40 * 1064,\n",
    "                   'DE'   : 45 *  841,\n",
    "                   'NL'   : 80 *  595,\n",
    "                   'AU'   : 85 *  433,\n",
    "                   'PT'   :300 *  157}"
   ]
  },
  {
   "cell_type": "code",
   "execution_count": null,
   "id": "132919f7",
   "metadata": {
    "ExecuteTime": {
     "start_time": "2022-03-10T06:04:20.115Z"
    }
   },
   "outputs": [],
   "source": [
    "# define sampler\n",
    "smt = c.SMOTETomek( sampling_strategy= ratio_balanced, random_state=32, n_jobs=-1 )\n",
    "\n",
    "# apply sampler\n",
    "X_smt, y_smt = smt.fit_resample( df52, df5['country_destination'] )"
   ]
  },
  {
   "cell_type": "code",
   "execution_count": 47,
   "id": "2b42bf62",
   "metadata": {
    "ExecuteTime": {
     "end_time": "2022-03-10T05:26:58.436936Z",
     "start_time": "2022-03-10T05:26:58.425601Z"
    }
   },
   "outputs": [
    {
     "data": {
      "text/plain": [
       "NDF      54852\n",
       "US       48057\n",
       "other     7511\n",
       "FR        3669\n",
       "IT        2014\n",
       "GB        1758\n",
       "ES        1685\n",
       "CA        1064\n",
       "DE         841\n",
       "NL         595\n",
       "AU         433\n",
       "PT         157\n",
       "Name: country_destination, dtype: int64"
      ]
     },
     "execution_count": 47,
     "metadata": {},
     "output_type": "execute_result"
    }
   ],
   "source": [
    "df5['country_destination'].value_counts() "
   ]
  },
  {
   "cell_type": "code",
   "execution_count": 48,
   "id": "74b055f4",
   "metadata": {
    "ExecuteTime": {
     "end_time": "2022-03-10T05:27:16.873203Z",
     "start_time": "2022-03-10T05:27:16.855710Z"
    }
   },
   "outputs": [
    {
     "ename": "NameError",
     "evalue": "name 'y_smt' is not defined",
     "output_type": "error",
     "traceback": [
      "\u001b[0;31m---------------------------------------------------------------------------\u001b[0m",
      "\u001b[0;31mNameError\u001b[0m                                 Traceback (most recent call last)",
      "\u001b[0;32m<ipython-input-48-7b5079b9f08b>\u001b[0m in \u001b[0;36m<module>\u001b[0;34m\u001b[0m\n\u001b[0;32m----> 1\u001b[0;31m \u001b[0my_smt\u001b[0m\u001b[0;34m.\u001b[0m\u001b[0mvalue_counts\u001b[0m\u001b[0;34m(\u001b[0m\u001b[0;34m)\u001b[0m\u001b[0;34m\u001b[0m\u001b[0;34m\u001b[0m\u001b[0m\n\u001b[0m",
      "\u001b[0;31mNameError\u001b[0m: name 'y_smt' is not defined"
     ]
    }
   ],
   "source": [
    "y_smt.value_counts() "
   ]
  },
  {
   "cell_type": "code",
   "execution_count": 46,
   "id": "779f7e20",
   "metadata": {
    "ExecuteTime": {
     "end_time": "2022-03-10T05:17:06.208967Z",
     "start_time": "2022-03-10T05:17:06.197020Z"
    }
   },
   "outputs": [
    {
     "ename": "NameError",
     "evalue": "name 'X_smt' is not defined",
     "output_type": "error",
     "traceback": [
      "\u001b[0;31m---------------------------------------------------------------------------\u001b[0m",
      "\u001b[0;31mNameError\u001b[0m                                 Traceback (most recent call last)",
      "\u001b[0;32m<ipython-input-46-90331930a69c>\u001b[0m in \u001b[0;36m<module>\u001b[0;34m\u001b[0m\n\u001b[1;32m      1\u001b[0m \u001b[0;31m# numerical data\u001b[0m\u001b[0;34m\u001b[0m\u001b[0;34m\u001b[0m\u001b[0;34m\u001b[0m\u001b[0m\n\u001b[0;32m----> 2\u001b[0;31m \u001b[0mdf53\u001b[0m \u001b[0;34m=\u001b[0m \u001b[0mX_smt\u001b[0m\u001b[0;34m[\u001b[0m \u001b[0mcol_num\u001b[0m \u001b[0;34m]\u001b[0m\u001b[0;34m\u001b[0m\u001b[0;34m\u001b[0m\u001b[0m\n\u001b[0m\u001b[1;32m      3\u001b[0m \u001b[0;34m\u001b[0m\u001b[0m\n\u001b[1;32m      4\u001b[0m \u001b[0;31m# categorical data\u001b[0m\u001b[0;34m\u001b[0m\u001b[0;34m\u001b[0m\u001b[0;34m\u001b[0m\u001b[0m\n\u001b[1;32m      5\u001b[0m \u001b[0mdf54\u001b[0m \u001b[0;34m=\u001b[0m \u001b[0mX_smt\u001b[0m\u001b[0;34m.\u001b[0m\u001b[0mdrop\u001b[0m\u001b[0;34m(\u001b[0m \u001b[0mcol_num\u001b[0m\u001b[0;34m,\u001b[0m \u001b[0maxis\u001b[0m\u001b[0;34m=\u001b[0m\u001b[0;36m1\u001b[0m \u001b[0;34m)\u001b[0m\u001b[0;34m\u001b[0m\u001b[0;34m\u001b[0m\u001b[0m\n",
      "\u001b[0;31mNameError\u001b[0m: name 'X_smt' is not defined"
     ]
    }
   ],
   "source": [
    "# numerical data\n",
    "df53 = X_smt[ col_num ]\n",
    "\n",
    "# categorical data\n",
    "df54 = X_smt.drop( col_num, axis=1 )\n",
    "df55 = pd.DataFrame( ohe.inverse_transform( df54 ), columns=col_cat, index=df54.index )\n",
    "\n",
    "# join numerical categorical\n",
    "df56 = pd.concat( [df53, df55], axis=1 )\n",
    "df56['country_destination'] = y_smt"
   ]
  },
  {
   "cell_type": "markdown",
   "id": "20a3403e",
   "metadata": {},
   "source": [
    "# 6.0. Exploratory Data Analysis(EDA)"
   ]
  },
  {
   "cell_type": "markdown",
   "id": "8a57fb79",
   "metadata": {
    "code_folding": []
   },
   "source": [
    "## 6.1. Univariate Analysis - Feature Behaviour ( Balanced Dataset)"
   ]
  },
  {
   "cell_type": "code",
   "execution_count": 45,
   "id": "dbc16780",
   "metadata": {
    "ExecuteTime": {
     "end_time": "2022-03-10T05:16:58.738059Z",
     "start_time": "2022-03-10T05:16:58.701464Z"
    }
   },
   "outputs": [
    {
     "ename": "NameError",
     "evalue": "name 'df56' is not defined",
     "output_type": "error",
     "traceback": [
      "\u001b[0;31m---------------------------------------------------------------------------\u001b[0m",
      "\u001b[0;31mNameError\u001b[0m                                 Traceback (most recent call last)",
      "\u001b[0;32m<ipython-input-45-2deac0630bb2>\u001b[0m in \u001b[0;36m<module>\u001b[0;34m\u001b[0m\n\u001b[0;32m----> 1\u001b[0;31m \u001b[0mdf61\u001b[0m \u001b[0;34m=\u001b[0m \u001b[0mdf56\u001b[0m\u001b[0;34m.\u001b[0m\u001b[0mcopy\u001b[0m\u001b[0;34m(\u001b[0m\u001b[0;34m)\u001b[0m\u001b[0;34m\u001b[0m\u001b[0;34m\u001b[0m\u001b[0m\n\u001b[0m",
      "\u001b[0;31mNameError\u001b[0m: name 'df56' is not defined"
     ]
    }
   ],
   "source": [
    "df61 = df56.copy()\n"
   ]
  },
  {
   "cell_type": "code",
   "execution_count": null,
   "id": "fc46e58d",
   "metadata": {},
   "outputs": [],
   "source": [
    "proof = ProfileReport( df61)\n",
    "\n",
    "proof.to_notebook_iframe()"
   ]
  },
  {
   "cell_type": "markdown",
   "id": "febf2899",
   "metadata": {},
   "source": [
    "## 6.2. Bivariate Analysis - Hypothesis Validation ( Unbalanced Dataset)"
   ]
  },
  {
   "cell_type": "markdown",
   "id": "3f90ccdc",
   "metadata": {},
   "source": [
    "### H0. Os usuários levem até 3 dias, em média, para fazer o cadastro no site em todos os destinos.\n",
    "**Verdadeira**. Os usuários levam até 3 dias, em média para realizar o cadastro no site em todos os destinos"
   ]
  },
  {
   "cell_type": "code",
   "execution_count": null,
   "id": "70362f8b",
   "metadata": {},
   "outputs": [],
   "source": [
    "aux01 = df6[['days_from_first_active_until_account_created', 'country_destination']].groupby( 'country_destination' ).mean().reset_index()\n",
    "sns.barplot( x='country_destination', y='days_from_first_active_until_account_created' , data=aux01 );\n",
    "plt.ylabel( 'Average days until Accout Creation');"
   ]
  },
  {
   "cell_type": "markdown",
   "id": "ce2171ce",
   "metadata": {},
   "source": [
    "### H1. O numero de reservas total cresce 10% ao ano em todos os anos.\n",
    "**Falsa**.  O numero de reservas total cresce 10% ao ao apenas entre 2011 e 2013."
   ]
  },
  {
   "cell_type": "code",
   "execution_count": null,
   "id": "50466591",
   "metadata": {},
   "outputs": [],
   "source": [
    "aux01 = df6[(df6['country_destination'] != 'NDF') & (df6['year_first_booking'] < 2015)]\n",
    "aux01 = aux01[['year_first_booking', 'country_destination']].groupby( 'year_first_booking' ).count().reset_index()\n",
    "\n",
    "aux01['growth'] = 100*aux01['country_destination'].pct_change()\n",
    "\n",
    "sns.barplot( x='year_first_booking', y='growth', data=aux01 );"
   ]
  },
  {
   "cell_type": "markdown",
   "id": "0a23ff53",
   "metadata": {},
   "source": [
    "### H2. Todos os canais de Marketing geram pelo menos 10% de reservas para todos os destinos.\n",
    "**Falsa**. Nem todos os canais de Marketing geram pelo menos 10% de reservas para todos os destinos."
   ]
  },
  {
   "cell_type": "code",
   "execution_count": null,
   "id": "beb1692b",
   "metadata": {},
   "outputs": [],
   "source": [
    " affiliate_list = df6['affiliate_provider'].drop_duplicates().tolist()\n",
    "\n",
    "for i in range( len( affiliate_list ) ):\n",
    "    plt.subplot( 6, 3, i+1 )\n",
    "    df6[df6['affiliate_provider'] == affiliate_list[i]]['country_destination'].value_counts( normalize=True ).plot.bar();\n",
    "    plt.title( affiliate_list[i] );"
   ]
  },
  {
   "cell_type": "markdown",
   "id": "ee619f4f",
   "metadata": {},
   "source": [
    "# 7.0.  Data Preparation\n"
   ]
  },
  {
   "cell_type": "code",
   "execution_count": null,
   "id": "714e8d99",
   "metadata": {
    "ExecuteTime": {
     "end_time": "2022-03-10T05:15:48.981895Z",
     "start_time": "2022-03-10T05:05:26.295Z"
    }
   },
   "outputs": [],
   "source": [
    "df7 = df5.copy()"
   ]
  },
  {
   "cell_type": "code",
   "execution_count": null,
   "id": "3c030527",
   "metadata": {
    "ExecuteTime": {
     "end_time": "2022-03-10T05:15:48.983103Z",
     "start_time": "2022-03-10T05:05:26.298Z"
    }
   },
   "outputs": [],
   "source": [
    "# dummy variable\n",
    "df7_dummy = pd.get_dummies(df6.drop(['id','country_destination'], axis =1))\n",
    "\n",
    "# join id and country destination\n",
    "df7 = pd.concat([df5[['id','country_destination']],df5_dummy], axis =1)"
   ]
  },
  {
   "cell_type": "markdown",
   "id": "26f1e025",
   "metadata": {},
   "source": [
    "# 8.0. Feature Selection\n"
   ]
  },
  {
   "cell_type": "code",
   "execution_count": null,
   "id": "8c0ee3d5",
   "metadata": {
    "ExecuteTime": {
     "end_time": "2022-03-10T05:15:48.983933Z",
     "start_time": "2022-03-10T05:05:26.300Z"
    }
   },
   "outputs": [],
   "source": [
    "df8 = df7.copy()"
   ]
  },
  {
   "cell_type": "code",
   "execution_count": null,
   "id": "d9f776d3",
   "metadata": {
    "ExecuteTime": {
     "end_time": "2022-03-10T05:15:48.984850Z",
     "start_time": "2022-03-10T05:05:26.302Z"
    }
   },
   "outputs": [],
   "source": [
    "# cols_drop = ['date_account_created','timestamp_first_active','date_first_booking', 'first_active'] # original dates"
   ]
  },
  {
   "cell_type": "code",
   "execution_count": null,
   "id": "83fca3a2",
   "metadata": {
    "ExecuteTime": {
     "end_time": "2022-03-10T05:15:48.986076Z",
     "start_time": "2022-03-10T05:05:26.305Z"
    }
   },
   "outputs": [],
   "source": [
    "# df7 = df7.drop(cols_drop, axis =1)"
   ]
  },
  {
   "cell_type": "code",
   "execution_count": null,
   "id": "26a28fb7",
   "metadata": {
    "ExecuteTime": {
     "end_time": "2022-03-10T05:15:48.987169Z",
     "start_time": "2022-03-10T05:05:26.307Z"
    }
   },
   "outputs": [],
   "source": [
    "X = df8.drop(['id','country_destination'], axis = 1)\n",
    "Y = df8['country_destination'].copy()"
   ]
  },
  {
   "cell_type": "code",
   "execution_count": null,
   "id": "4347f98b",
   "metadata": {
    "ExecuteTime": {
     "end_time": "2022-03-10T05:15:48.988259Z",
     "start_time": "2022-03-10T05:05:26.310Z"
    }
   },
   "outputs": [],
   "source": [
    "# Split dataset into training and test\n",
    "\n",
    "X_train, X_test , y_train, y_test = ms.train_test_split(X, Y, test_size = 0.2 , random_state=32)"
   ]
  },
  {
   "cell_type": "markdown",
   "id": "f28b8b1b",
   "metadata": {},
   "source": [
    "# 9.0. Machine Learning Model\n"
   ]
  },
  {
   "cell_type": "code",
   "execution_count": null,
   "id": "e5ca9225",
   "metadata": {
    "ExecuteTime": {
     "end_time": "2022-03-10T05:15:48.989403Z",
     "start_time": "2022-03-10T05:05:26.312Z"
    }
   },
   "outputs": [],
   "source": [
    "ohe = pp.OneHotEncoder()\n",
    "y_train_nn = ohe.fit_transform(y_train.values.reshape(-1,1)).toarray()"
   ]
  },
  {
   "cell_type": "markdown",
   "id": "9ce91b21",
   "metadata": {},
   "source": [
    "## 9.1. Baseline Model\n"
   ]
  },
  {
   "cell_type": "code",
   "execution_count": null,
   "id": "30774d88",
   "metadata": {
    "ExecuteTime": {
     "end_time": "2022-03-10T05:15:48.990300Z",
     "start_time": "2022-03-10T05:05:26.316Z"
    }
   },
   "outputs": [],
   "source": [
    "country_destination_list = df5['country_destination'].drop_duplicates().sort_values().to_list()\n",
    "k_num = y_test.shape[0]\n",
    "country_destination_weights = df5['country_destination'].value_counts(normalize= True).sort_index().to_list()\n",
    "\n",
    "# modelo aleatorio\n",
    "yhat_random = random.choices (population = country_destination_list , \n",
    "                              weights = country_destination_weights,\n",
    "                              k = k_num )"
   ]
  },
  {
   "cell_type": "markdown",
   "id": "37770fe9",
   "metadata": {},
   "source": [
    "### 9.1.1 Performance\n"
   ]
  },
  {
   "cell_type": "code",
   "execution_count": null,
   "id": "4b1f8bbb",
   "metadata": {
    "ExecuteTime": {
     "end_time": "2022-03-10T05:15:48.991243Z",
     "start_time": "2022-03-10T05:05:26.319Z"
    }
   },
   "outputs": [],
   "source": [
    "# accuracy\n",
    "acc_random = m.accuracy_score(y_test, yhat_random)\n",
    "print('Accuracy: {}'.format(acc_random))\n",
    "\n",
    "# Balanced Accuracy\n",
    "balanced_acc_random = m.balanced_accuracy_score(y_test, yhat_random)\n",
    "print('Balanced Accuracy: {}'.format(balanced_acc_random))\n",
    "\n",
    "# Kappa Metrics\n",
    "kappa_acc_random = m.cohen_kappa_score(y_test, yhat_random)\n",
    "print('Kappa Score: {}'.format(kappa_acc_random))\n",
    "\n",
    "# confusion matrix\n",
    "mt.plot_confusion_matrix(y_test , yhat_random, normalize=False, figsize=(12,12))"
   ]
  },
  {
   "cell_type": "markdown",
   "id": "491ca284",
   "metadata": {},
   "source": [
    "## 9.2. Neural Network - MLP"
   ]
  },
  {
   "cell_type": "code",
   "execution_count": null,
   "id": "cf4dfbc7",
   "metadata": {
    "ExecuteTime": {
     "end_time": "2022-03-10T05:15:48.992479Z",
     "start_time": "2022-03-10T05:05:26.321Z"
    }
   },
   "outputs": [],
   "source": [
    "X_train.shape"
   ]
  },
  {
   "cell_type": "code",
   "execution_count": null,
   "id": "c5dd65a2",
   "metadata": {
    "ExecuteTime": {
     "end_time": "2022-03-10T05:15:48.993409Z",
     "start_time": "2022-03-10T05:05:26.323Z"
    },
    "code_folding": [],
    "scrolled": true
   },
   "outputs": [],
   "source": [
    "# model definition\n",
    "model = ml.Sequential()\n",
    "model.add(l.Dense(256, input_dim = X_train.shape[1], activation= 'relu'))\n",
    "model.add(l.Dense(12,  activation= 'softmax'))\n",
    "\n",
    "# model compile\n",
    "model.compile(loss = 'categorical_crossentropy' , optimizer='adam', metrics=['accuracy'])\n",
    "\n",
    "# tain model\n",
    "model.fit(X_train, y_train_nn, epochs=100)"
   ]
  },
  {
   "cell_type": "markdown",
   "id": "cf6b85dd",
   "metadata": {},
   "source": [
    "### 9.2.1 NN Performance\n"
   ]
  },
  {
   "cell_type": "code",
   "execution_count": null,
   "id": "81d66435",
   "metadata": {
    "ExecuteTime": {
     "end_time": "2022-03-10T05:15:48.994298Z",
     "start_time": "2022-03-10T05:05:26.326Z"
    }
   },
   "outputs": [],
   "source": [
    "# prediction\n",
    "pred_nn = model.predict(X_test)\n",
    "\n",
    "# invert Predict\n",
    "yhat_nn = ohe.inverse_transform(pred_nn)\n",
    "\n",
    "# prediction prepare\n",
    "y_test_nn = y_test.to_numpy()\n",
    "yhat_nn = yhat_nn.reshape(1,-1)[0]"
   ]
  },
  {
   "cell_type": "code",
   "execution_count": null,
   "id": "37179000",
   "metadata": {
    "ExecuteTime": {
     "end_time": "2022-03-10T05:15:48.995207Z",
     "start_time": "2022-03-10T05:05:26.328Z"
    }
   },
   "outputs": [],
   "source": [
    "# accuracy\n",
    "acc_nn = m.accuracy_score(y_test_nn, yhat_nn)\n",
    "print('Accuracy: {}'.format(acc_nn))\n",
    "\n",
    "# Balanced Accuracy\n",
    "balanced_acc_nn = m.balanced_accuracy_score(y_test_nn, yhat_nn)\n",
    "print('Balanced Accuracy: {}'.format(balanced_acc_nn))\n",
    "\n",
    "# Kappa Metrics\n",
    "kappa_acc_nn = m.cohen_kappa_score(y_test_nn, yhat_nn)\n",
    "print('Kappa Score: {}'.format(kappa_acc_nn))\n",
    "\n",
    "# confusion matrix\n",
    "mt.plot_confusion_matrix(y_test_nn , yhat_nn, normalize=False, figsize=(12,12))"
   ]
  },
  {
   "cell_type": "markdown",
   "id": "c9624251",
   "metadata": {},
   "source": [
    "### 9.2.2 NN Performance - Cross Validation\n"
   ]
  },
  {
   "cell_type": "code",
   "execution_count": null,
   "id": "86fc4786",
   "metadata": {
    "ExecuteTime": {
     "end_time": "2022-03-10T05:15:48.995961Z",
     "start_time": "2022-03-10T05:05:26.330Z"
    }
   },
   "outputs": [],
   "source": [
    "# gerate k-fold\n",
    "\n",
    "num_fold = 5\n",
    "kfold = ms.StratifiedKFold ( n_splits = num_fold , shuffle = True, random_state = 32 )\n",
    "\n",
    "balanced_acc_list = []\n",
    "kappa_acc_nn_list = []\n",
    "\n",
    "i = 1\n",
    "for train_ix , val_ix in kfold.split (X_train, y_train):\n",
    "    print(' Fold Number : {}/{}'.format(i, num_fold))\n",
    "    # get fold\n",
    "    x_train_fold = X_train.iloc[train_ix]\n",
    "    y_train_fold = y_train.iloc[train_ix]\n",
    "    \n",
    "    x_val_fold = X_train.iloc[val_ix]\n",
    "    y_val_fold = y_train.iloc[val_ix]\n",
    "    \n",
    "    # target hot-encoging\n",
    "    ohe = pp.OneHotEncoder()\n",
    "    y_train_fold_nn = ohe.fit_transform(y_train_fold.values.reshape(-1,1)).toarray()\n",
    "     \n",
    "    # model definition\n",
    "    model = ml.Sequential()\n",
    "    model.add(l.Dense(256 , input_dim =X_train.shape[1] , activation = 'relu' ))\n",
    "    model.add(l.Dense(12 , activation = 'softmax' ))\n",
    "\n",
    "    # compile model\n",
    "    model.compile ( loss = 'categorical_crossentropy', optimizer = 'adam' , metrics=['accuracy'])\n",
    "\n",
    "    # training model\n",
    "    model.fit( x_train_fold , y_train_fold_nn, epochs = 100, batch_size = 32, verbose = 0)\n",
    "    \n",
    "    # prediction\n",
    "    pred_nn = model.predict(x_val_fold)\n",
    "\n",
    "    # invert Predict\n",
    "    yhat_nn = ohe.inverse_transform(pred_nn)\n",
    "\n",
    "    #  prepare data\n",
    "    y_test_nn =y_val_fold.to_numpy()\n",
    "    yhat_nn = yhat_nn.reshape(1,-1)[0]    \n",
    "    \n",
    "    # metrics\n",
    "    # Balanced Accuracy\n",
    "    balanced_acc_nn = m.balanced_accuracy_score(y_test_nn, yhat_nn)\n",
    "    balanced_acc_list.append(balanced_acc_nn)\n",
    "    \n",
    "    # Kappa Metrics\n",
    "    kappa_acc_nn = m.cohen_kappa_score(y_test_nn, yhat_nn)\n",
    "    kappa_acc_nn_list.append(kappa_acc_nn)\n",
    "\n",
    "    i +=  1"
   ]
  },
  {
   "cell_type": "code",
   "execution_count": null,
   "id": "4456bc32",
   "metadata": {
    "ExecuteTime": {
     "end_time": "2022-03-10T05:15:48.996666Z",
     "start_time": "2022-03-10T05:05:26.332Z"
    }
   },
   "outputs": [],
   "source": [
    "print (\"Avg Balanced Acurracy : {} +/- {}\".format(np.round(np.mean(balanced_acc_list),2), \n",
    "                                                  np.round(np.std(balanced_acc_list),4 )))\n",
    "\n",
    "print (\"Avg Kappa Score : {} +/- {}\".format(np.round(np.mean(kappa_acc_nn_list),3), \n",
    "                                            np.round(np.std(kappa_acc_nn_list),4 )))"
   ]
  },
  {
   "cell_type": "code",
   "execution_count": null,
   "id": "112992be",
   "metadata": {},
   "outputs": [],
   "source": []
  }
 ],
 "metadata": {
  "kernelspec": {
   "display_name": "Python 3",
   "language": "python",
   "name": "python3"
  },
  "language_info": {
   "codemirror_mode": {
    "name": "ipython",
    "version": 3
   },
   "file_extension": ".py",
   "mimetype": "text/x-python",
   "name": "python",
   "nbconvert_exporter": "python",
   "pygments_lexer": "ipython3",
   "version": "3.8.12"
  },
  "toc": {
   "base_numbering": 1,
   "nav_menu": {},
   "number_sections": false,
   "sideBar": true,
   "skip_h1_title": false,
   "title_cell": "Table of Contents",
   "title_sidebar": "Contents",
   "toc_cell": false,
   "toc_position": {},
   "toc_section_display": true,
   "toc_window_display": false
  },
  "varInspector": {
   "cols": {
    "lenName": 16,
    "lenType": 16,
    "lenVar": 40
   },
   "kernels_config": {
    "python": {
     "delete_cmd_postfix": "",
     "delete_cmd_prefix": "del ",
     "library": "var_list.py",
     "varRefreshCmd": "print(var_dic_list())"
    },
    "r": {
     "delete_cmd_postfix": ") ",
     "delete_cmd_prefix": "rm(",
     "library": "var_list.r",
     "varRefreshCmd": "cat(var_dic_list()) "
    }
   },
   "types_to_exclude": [
    "module",
    "function",
    "builtin_function_or_method",
    "instance",
    "_Feature"
   ],
   "window_display": false
  }
 },
 "nbformat": 4,
 "nbformat_minor": 5
}
