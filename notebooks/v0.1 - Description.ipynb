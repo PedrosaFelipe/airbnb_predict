{
 "cells": [
  {
   "cell_type": "markdown",
   "id": "3a677559",
   "metadata": {},
   "source": [
    "##  0.0. Objetivo do Problema:\n"
   ]
  },
  {
   "cell_type": "markdown",
   "id": "a904bae7",
   "metadata": {},
   "source": [
    "-- 1.0. Previsao do primeiro destino que um novo usuário irá escolher.\n",
    "\n",
    "-- Porque?\n",
    "    -- Qual tipo de modelo de negócio do Airbnb? \n",
    "    \n",
    "    \n",
    "        - Marketplace ( Conectar pessoas que oferecem acomodacao, com pessoas que estao procurando acomodacao)\n",
    "        - Oferta ( pessoas oferecendo acomodacao )\n",
    "            - Tamanho do portfólio.\n",
    "            - Diversidade/Densidade de Portfólio.\n",
    "            - Preco Medio\n",
    "\n",
    "        - Demanda ( pessoas procurando acomodacao )\n",
    "            - Numero de Usuários\n",
    "            - LTV ( Lifetime Value )\n",
    "            - CAC ( Client Acquisition Cost )\n",
    "\n",
    "\n",
    "           Gross Revenue = ( Fee * Numero cliente ) - CAC "
   ]
  },
  {
   "cell_type": "markdown",
   "id": "b3525bf8",
   "metadata": {
    "ExecuteTime": {
     "end_time": "2022-03-01T20:30:12.443684Z",
     "start_time": "2022-03-01T20:30:12.440371Z"
    }
   },
   "source": [
    "##  0.1. Proposta de solução:\n"
   ]
  },
  {
   "cell_type": "markdown",
   "id": "48d35218",
   "metadata": {},
   "source": [
    "--- Modelo de Predizao do primeiro destino de um novo usario.\n",
    "\n",
    "- 1.0. Predicoes e salva em tabela do banco de dados. \n",
    "- 2.0. API \n",
    "        --- Input: usuario e suas caracteristicas\n",
    "        --- Output: usuario e suas caracteristicas com a **predicao do destino**\n",
    "\n",
    "--- 16 ciclos"
   ]
  },
  {
   "cell_type": "markdown",
   "id": "59d2dc94",
   "metadata": {},
   "source": [
    "# <font color ='red'> 1.0. Imports </font> "
   ]
  },
  {
   "cell_type": "code",
   "execution_count": 1,
   "id": "e84d2a39",
   "metadata": {
    "ExecuteTime": {
     "end_time": "2022-03-02T18:40:13.408942Z",
     "start_time": "2022-03-02T18:40:09.146920Z"
    }
   },
   "outputs": [
    {
     "name": "stderr",
     "output_type": "stream",
     "text": [
      "2022-03-02 15:40:10.777427: W tensorflow/stream_executor/platform/default/dso_loader.cc:64] Could not load dynamic library 'libcudart.so.11.0'; dlerror: libcudart.so.11.0: cannot open shared object file: No such file or directory\n",
      "2022-03-02 15:40:10.777487: I tensorflow/stream_executor/cuda/cudart_stub.cc:29] Ignore above cudart dlerror if you do not have a GPU set up on your machine.\n"
     ]
    }
   ],
   "source": [
    "import pandas                               as pd\n",
    "\n",
    "from sklearn      import model_selection    as ms\n",
    "from sklearn      import preprocessing      as pp\n",
    "from sklearn      import metrics            as m\n",
    "\n",
    "from scikitplot   import metrics            as mt\n",
    "\n",
    "from keras        import models             as ml\n",
    "from keras        import layers             as l\n",
    "\n",
    "import warnings\n",
    "\n",
    "warnings.filterwarnings(\"ignore\")\n",
    "\n"
   ]
  },
  {
   "cell_type": "markdown",
   "id": "b330b24b",
   "metadata": {
    "code_folding": []
   },
   "source": [
    "## 1.1. Helper Function"
   ]
  },
  {
   "cell_type": "markdown",
   "id": "5cb67899",
   "metadata": {},
   "source": [
    "## 1.2. Loading Data"
   ]
  },
  {
   "cell_type": "code",
   "execution_count": 2,
   "id": "eed344bb",
   "metadata": {
    "ExecuteTime": {
     "end_time": "2022-03-02T18:40:19.956884Z",
     "start_time": "2022-03-02T18:40:13.410473Z"
    }
   },
   "outputs": [],
   "source": [
    "df_raw = pd.read_csv('~/repositorio/airbnb_predict/data/raw/train_users_2.csv', low_memory=True)\n",
    "df_sessions = pd.read_csv('~/repositorio/airbnb_predict/data/raw/sessions.csv', low_memory=True)"
   ]
  },
  {
   "cell_type": "markdown",
   "id": "72657aae",
   "metadata": {},
   "source": [
    "# 2.0. Data Description\n"
   ]
  },
  {
   "cell_type": "code",
   "execution_count": 3,
   "id": "994f10ea",
   "metadata": {
    "ExecuteTime": {
     "end_time": "2022-03-02T18:40:19.984623Z",
     "start_time": "2022-03-02T18:40:19.958403Z"
    }
   },
   "outputs": [],
   "source": [
    "df2 = df_raw.copy()"
   ]
  },
  {
   "cell_type": "code",
   "execution_count": 4,
   "id": "469c15bc",
   "metadata": {
    "ExecuteTime": {
     "end_time": "2022-03-02T18:40:20.342433Z",
     "start_time": "2022-03-02T18:40:19.987898Z"
    },
    "scrolled": true
   },
   "outputs": [
    {
     "name": "stdout",
     "output_type": "stream",
     "text": [
      "Number of rows: 213451\n",
      "Number of columns: 16\n"
     ]
    }
   ],
   "source": [
    "print('Number of rows: {}'.format(df2.shape[0]))\n",
    "print('Number of columns: {}'.format(df2.shape[1]))"
   ]
  },
  {
   "cell_type": "markdown",
   "id": "5a83c787",
   "metadata": {},
   "source": [
    "## 2.1. Data Type\n"
   ]
  },
  {
   "cell_type": "code",
   "execution_count": 5,
   "id": "8b55ac79",
   "metadata": {
    "ExecuteTime": {
     "end_time": "2022-03-02T18:40:20.423304Z",
     "start_time": "2022-03-02T18:40:20.344115Z"
    }
   },
   "outputs": [
    {
     "data": {
      "text/plain": [
       "id                          object\n",
       "date_account_created        object\n",
       "timestamp_first_active       int64\n",
       "date_first_booking          object\n",
       "gender                      object\n",
       "age                        float64\n",
       "signup_method               object\n",
       "signup_flow                  int64\n",
       "language                    object\n",
       "affiliate_channel           object\n",
       "affiliate_provider          object\n",
       "first_affiliate_tracked     object\n",
       "signup_app                  object\n",
       "first_device_type           object\n",
       "first_browser               object\n",
       "country_destination         object\n",
       "dtype: object"
      ]
     },
     "execution_count": 5,
     "metadata": {},
     "output_type": "execute_result"
    }
   ],
   "source": [
    "df2.dtypes"
   ]
  },
  {
   "cell_type": "markdown",
   "id": "bb06ccaa",
   "metadata": {},
   "source": [
    "## 2.2. NA Check\n"
   ]
  },
  {
   "cell_type": "code",
   "execution_count": 6,
   "id": "ca925b47",
   "metadata": {
    "ExecuteTime": {
     "end_time": "2022-03-02T18:40:20.517269Z",
     "start_time": "2022-03-02T18:40:20.425172Z"
    },
    "scrolled": true
   },
   "outputs": [
    {
     "data": {
      "text/plain": [
       "id                              0\n",
       "date_account_created            0\n",
       "timestamp_first_active          0\n",
       "date_first_booking         124543\n",
       "gender                          0\n",
       "age                         87990\n",
       "signup_method                   0\n",
       "signup_flow                     0\n",
       "language                        0\n",
       "affiliate_channel               0\n",
       "affiliate_provider              0\n",
       "first_affiliate_tracked      6065\n",
       "signup_app                      0\n",
       "first_device_type               0\n",
       "first_browser                   0\n",
       "country_destination             0\n",
       "dtype: int64"
      ]
     },
     "execution_count": 6,
     "metadata": {},
     "output_type": "execute_result"
    }
   ],
   "source": [
    "df2.isna().sum()"
   ]
  },
  {
   "cell_type": "code",
   "execution_count": 7,
   "id": "f94e1770",
   "metadata": {
    "ExecuteTime": {
     "end_time": "2022-03-02T18:40:20.618161Z",
     "start_time": "2022-03-02T18:40:20.519240Z"
    }
   },
   "outputs": [],
   "source": [
    "# remove missing value completly\n",
    "\n",
    "df2 = df2.dropna()"
   ]
  },
  {
   "cell_type": "markdown",
   "id": "7a29c42e",
   "metadata": {},
   "source": [
    "## 2.3. Change Data Type\n"
   ]
  },
  {
   "cell_type": "code",
   "execution_count": 8,
   "id": "5d1b7abc",
   "metadata": {
    "ExecuteTime": {
     "end_time": "2022-03-02T18:40:20.801942Z",
     "start_time": "2022-03-02T18:40:20.620391Z"
    }
   },
   "outputs": [],
   "source": [
    "# 'date_account_created'\n",
    "df2['date_account_created'] = pd.to_datetime(df2['date_account_created'])\n",
    "\n",
    "# 'timestamp_first_active'\n",
    "df2['timestamp_first_active'] = pd.to_datetime(df2['timestamp_first_active'], format = '%Y%m%d%H%M%S')\n",
    "\n",
    "# 'date_first_booking'\n",
    "df2['date_first_booking'] = pd.to_datetime(df2['date_first_booking'])\n",
    "\n",
    "# 'age'\n",
    "df2['age'] = df2['age'].astype('int64')\n"
   ]
  },
  {
   "cell_type": "markdown",
   "id": "0b8c79b7",
   "metadata": {},
   "source": [
    "## 2.4. Check Balanced Data\n"
   ]
  },
  {
   "cell_type": "code",
   "execution_count": 9,
   "id": "2595b9c3",
   "metadata": {
    "ExecuteTime": {
     "end_time": "2022-03-02T18:40:20.812567Z",
     "start_time": "2022-03-02T18:40:20.803653Z"
    }
   },
   "outputs": [
    {
     "data": {
      "text/plain": [
       "US       0.708864\n",
       "other    0.110854\n",
       "FR       0.054085\n",
       "IT       0.029763\n",
       "GB       0.025935\n",
       "ES       0.024864\n",
       "CA       0.015696\n",
       "DE       0.012454\n",
       "NL       0.008801\n",
       "AU       0.006366\n",
       "PT       0.002318\n",
       "Name: country_destination, dtype: float64"
      ]
     },
     "execution_count": 9,
     "metadata": {},
     "output_type": "execute_result"
    }
   ],
   "source": [
    "df2['country_destination'].value_counts(normalize=True)"
   ]
  },
  {
   "cell_type": "markdown",
   "id": "a7a55371",
   "metadata": {
    "heading_collapsed": true
   },
   "source": [
    "# 3.0.  Data Filtering\n"
   ]
  },
  {
   "cell_type": "code",
   "execution_count": 10,
   "id": "6c66ae58",
   "metadata": {
    "ExecuteTime": {
     "end_time": "2022-03-02T18:40:20.823624Z",
     "start_time": "2022-03-02T18:40:20.815720Z"
    },
    "hidden": true
   },
   "outputs": [],
   "source": [
    "df3 = df2.copy()"
   ]
  },
  {
   "cell_type": "markdown",
   "id": "d987bff2",
   "metadata": {
    "hidden": true
   },
   "source": [
    "## 3.1.  Filtering Rows\n"
   ]
  },
  {
   "cell_type": "code",
   "execution_count": null,
   "id": "29489e0e",
   "metadata": {
    "hidden": true
   },
   "outputs": [],
   "source": []
  },
  {
   "cell_type": "markdown",
   "id": "8f5dbd20",
   "metadata": {
    "hidden": true
   },
   "source": [
    "## 3.2.  Columns Selection"
   ]
  },
  {
   "cell_type": "code",
   "execution_count": null,
   "id": "0c175c93",
   "metadata": {
    "hidden": true
   },
   "outputs": [],
   "source": []
  },
  {
   "cell_type": "markdown",
   "id": "588f6403",
   "metadata": {},
   "source": [
    "# 4.0.  Data Preparation\n"
   ]
  },
  {
   "cell_type": "code",
   "execution_count": 11,
   "id": "309e6de2",
   "metadata": {
    "ExecuteTime": {
     "end_time": "2022-03-02T18:40:20.834143Z",
     "start_time": "2022-03-02T18:40:20.825051Z"
    }
   },
   "outputs": [],
   "source": [
    "df4 = df3.copy()"
   ]
  },
  {
   "cell_type": "code",
   "execution_count": 12,
   "id": "dde1c9e8",
   "metadata": {
    "ExecuteTime": {
     "end_time": "2022-03-02T18:40:20.917832Z",
     "start_time": "2022-03-02T18:40:20.835951Z"
    }
   },
   "outputs": [],
   "source": [
    "# dummy variable\n",
    "df4_dummy = pd.get_dummies(df4.drop(['id','country_destination'], axis =1))\n",
    "\n",
    "# join id and country destination\n",
    "df4 = pd.concat([df4[['id','country_destination']],df4_dummy], axis =1)"
   ]
  },
  {
   "cell_type": "markdown",
   "id": "f99560b9",
   "metadata": {},
   "source": [
    "# 5.0. Feature Selection\n"
   ]
  },
  {
   "cell_type": "code",
   "execution_count": 13,
   "id": "7436944f",
   "metadata": {
    "ExecuteTime": {
     "end_time": "2022-03-02T18:40:20.927955Z",
     "start_time": "2022-03-02T18:40:20.920020Z"
    }
   },
   "outputs": [],
   "source": [
    "df5 = df4.copy()"
   ]
  },
  {
   "cell_type": "code",
   "execution_count": 14,
   "id": "ddf7d018",
   "metadata": {
    "ExecuteTime": {
     "end_time": "2022-03-02T18:40:20.931883Z",
     "start_time": "2022-03-02T18:40:20.929341Z"
    }
   },
   "outputs": [],
   "source": [
    "cols_drop = ['date_account_created','timestamp_first_active','date_first_booking'] # original dates"
   ]
  },
  {
   "cell_type": "code",
   "execution_count": 15,
   "id": "756022c2",
   "metadata": {
    "ExecuteTime": {
     "end_time": "2022-03-02T18:40:20.944388Z",
     "start_time": "2022-03-02T18:40:20.933974Z"
    }
   },
   "outputs": [],
   "source": [
    "df5 = df5.drop(cols_drop, axis =1)"
   ]
  },
  {
   "cell_type": "code",
   "execution_count": 16,
   "id": "a48c6d0e",
   "metadata": {
    "ExecuteTime": {
     "end_time": "2022-03-02T18:40:20.954061Z",
     "start_time": "2022-03-02T18:40:20.946105Z"
    }
   },
   "outputs": [],
   "source": [
    "X = df5.drop(['id','country_destination'], axis = 1)\n",
    "Y = df5['country_destination'].copy()"
   ]
  },
  {
   "cell_type": "markdown",
   "id": "d960c200",
   "metadata": {},
   "source": [
    "# 6.0. Machine Learning Model  - Neural Network MLP\n"
   ]
  },
  {
   "cell_type": "code",
   "execution_count": 17,
   "id": "e80cb686",
   "metadata": {
    "ExecuteTime": {
     "end_time": "2022-03-02T18:40:20.975678Z",
     "start_time": "2022-03-02T18:40:20.956361Z"
    }
   },
   "outputs": [],
   "source": [
    "# Split dataset into training and test\n",
    "\n",
    "X_train, X_test , y_train, y_test = ms.train_test_split(X, Y, test_size = 0.2 , random_state=32)"
   ]
  },
  {
   "cell_type": "code",
   "execution_count": 19,
   "id": "8922e1b7",
   "metadata": {
    "ExecuteTime": {
     "end_time": "2022-03-02T18:41:14.253007Z",
     "start_time": "2022-03-02T18:41:14.235607Z"
    }
   },
   "outputs": [],
   "source": [
    "ohe = pp.OneHotEncoder()\n",
    "y_train_nn = ohe.fit_transform(y_train.values.reshape(-1,1)).toarray()"
   ]
  },
  {
   "cell_type": "code",
   "execution_count": 23,
   "id": "8f89f240",
   "metadata": {
    "ExecuteTime": {
     "end_time": "2022-03-02T18:45:32.829553Z",
     "start_time": "2022-03-02T18:42:45.029658Z"
    },
    "code_folding": []
   },
   "outputs": [
    {
     "name": "stdout",
     "output_type": "stream",
     "text": [
      "Epoch 1/100\n",
      "1705/1705 [==============================] - 2s 1ms/step - loss: 1.3830 - accuracy: 0.7007\n",
      "Epoch 2/100\n",
      "1705/1705 [==============================] - 2s 1ms/step - loss: 1.3010 - accuracy: 0.7068\n",
      "Epoch 3/100\n",
      "1705/1705 [==============================] - 2s 965us/step - loss: 1.2819 - accuracy: 0.7080\n",
      "Epoch 4/100\n",
      "1705/1705 [==============================] - 2s 974us/step - loss: 1.2399 - accuracy: 0.7081\n",
      "Epoch 5/100\n",
      "1705/1705 [==============================] - 2s 964us/step - loss: 1.2175 - accuracy: 0.7080\n",
      "Epoch 6/100\n",
      "1705/1705 [==============================] - 2s 1ms/step - loss: 1.1932 - accuracy: 0.7085\n",
      "Epoch 7/100\n",
      "1705/1705 [==============================] - 2s 963us/step - loss: 1.1721 - accuracy: 0.7084\n",
      "Epoch 8/100\n",
      "1705/1705 [==============================] - 2s 964us/step - loss: 1.1647 - accuracy: 0.7088\n",
      "Epoch 9/100\n",
      "1705/1705 [==============================] - 2s 1ms/step - loss: 1.1550 - accuracy: 0.7087\n",
      "Epoch 10/100\n",
      "1705/1705 [==============================] - 2s 982us/step - loss: 1.1451 - accuracy: 0.7087\n",
      "Epoch 11/100\n",
      "1705/1705 [==============================] - 2s 969us/step - loss: 1.1394 - accuracy: 0.7089\n",
      "Epoch 12/100\n",
      "1705/1705 [==============================] - 2s 959us/step - loss: 1.1358 - accuracy: 0.7091\n",
      "Epoch 13/100\n",
      "1705/1705 [==============================] - 2s 964us/step - loss: 1.1324 - accuracy: 0.7091\n",
      "Epoch 14/100\n",
      "1705/1705 [==============================] - 2s 967us/step - loss: 1.1304 - accuracy: 0.7095\n",
      "Epoch 15/100\n",
      "1705/1705 [==============================] - 2s 959us/step - loss: 1.1288 - accuracy: 0.7095\n",
      "Epoch 16/100\n",
      "1705/1705 [==============================] - 2s 965us/step - loss: 1.1285 - accuracy: 0.7095\n",
      "Epoch 17/100\n",
      "1705/1705 [==============================] - 2s 967us/step - loss: 1.1276 - accuracy: 0.7096\n",
      "Epoch 18/100\n",
      "1705/1705 [==============================] - 2s 974us/step - loss: 1.1266 - accuracy: 0.7097\n",
      "Epoch 19/100\n",
      "1705/1705 [==============================] - 2s 966us/step - loss: 1.1255 - accuracy: 0.7097\n",
      "Epoch 20/100\n",
      "1705/1705 [==============================] - 2s 964us/step - loss: 1.1250 - accuracy: 0.7098\n",
      "Epoch 21/100\n",
      "1705/1705 [==============================] - 2s 961us/step - loss: 1.1234 - accuracy: 0.7098\n",
      "Epoch 22/100\n",
      "1705/1705 [==============================] - 2s 964us/step - loss: 1.1233 - accuracy: 0.7098\n",
      "Epoch 23/100\n",
      "1705/1705 [==============================] - 2s 965us/step - loss: 1.1229 - accuracy: 0.7098\n",
      "Epoch 24/100\n",
      "1705/1705 [==============================] - 2s 998us/step - loss: 1.1223 - accuracy: 0.7097\n",
      "Epoch 25/100\n",
      "1705/1705 [==============================] - 2s 957us/step - loss: 1.1210 - accuracy: 0.7097\n",
      "Epoch 26/100\n",
      "1705/1705 [==============================] - 2s 959us/step - loss: 1.1204 - accuracy: 0.7098\n",
      "Epoch 27/100\n",
      "1705/1705 [==============================] - 2s 962us/step - loss: 1.1197 - accuracy: 0.7098\n",
      "Epoch 28/100\n",
      "1705/1705 [==============================] - 2s 967us/step - loss: 1.1201 - accuracy: 0.7097\n",
      "Epoch 29/100\n",
      "1705/1705 [==============================] - 2s 956us/step - loss: 1.1182 - accuracy: 0.7100\n",
      "Epoch 30/100\n",
      "1705/1705 [==============================] - 2s 958us/step - loss: 1.1171 - accuracy: 0.7100\n",
      "Epoch 31/100\n",
      "1705/1705 [==============================] - 2s 956us/step - loss: 1.1169 - accuracy: 0.7100\n",
      "Epoch 32/100\n",
      "1705/1705 [==============================] - 2s 953us/step - loss: 1.1153 - accuracy: 0.7101\n",
      "Epoch 33/100\n",
      "1705/1705 [==============================] - 2s 956us/step - loss: 1.1156 - accuracy: 0.7102\n",
      "Epoch 34/100\n",
      "1705/1705 [==============================] - 2s 961us/step - loss: 1.1148 - accuracy: 0.7102\n",
      "Epoch 35/100\n",
      "1705/1705 [==============================] - 2s 968us/step - loss: 1.1139 - accuracy: 0.7103\n",
      "Epoch 36/100\n",
      "1705/1705 [==============================] - 2s 963us/step - loss: 1.1136 - accuracy: 0.7102\n",
      "Epoch 37/100\n",
      "1705/1705 [==============================] - 2s 957us/step - loss: 1.1126 - accuracy: 0.7105\n",
      "Epoch 38/100\n",
      "1705/1705 [==============================] - 2s 957us/step - loss: 1.1116 - accuracy: 0.7106\n",
      "Epoch 39/100\n",
      "1705/1705 [==============================] - 2s 959us/step - loss: 1.1119 - accuracy: 0.7105\n",
      "Epoch 40/100\n",
      "1705/1705 [==============================] - 2s 961us/step - loss: 1.1113 - accuracy: 0.7104\n",
      "Epoch 41/100\n",
      "1705/1705 [==============================] - 2s 960us/step - loss: 1.1108 - accuracy: 0.7105\n",
      "Epoch 42/100\n",
      "1705/1705 [==============================] - 2s 968us/step - loss: 1.1098 - accuracy: 0.7106\n",
      "Epoch 43/100\n",
      "1705/1705 [==============================] - 2s 995us/step - loss: 1.1097 - accuracy: 0.7105\n",
      "Epoch 44/100\n",
      "1705/1705 [==============================] - 2s 962us/step - loss: 1.1088 - accuracy: 0.7108\n",
      "Epoch 45/100\n",
      "1705/1705 [==============================] - 2s 985us/step - loss: 1.1083 - accuracy: 0.7108\n",
      "Epoch 46/100\n",
      "1705/1705 [==============================] - 2s 1ms/step - loss: 1.1080 - accuracy: 0.7107\n",
      "Epoch 47/100\n",
      "1705/1705 [==============================] - 2s 1ms/step - loss: 1.1086 - accuracy: 0.7106\n",
      "Epoch 48/100\n",
      "1705/1705 [==============================] - 2s 1ms/step - loss: 1.1073 - accuracy: 0.7108\n",
      "Epoch 49/100\n",
      "1705/1705 [==============================] - 2s 984us/step - loss: 1.1064 - accuracy: 0.7109\n",
      "Epoch 50/100\n",
      "1705/1705 [==============================] - 2s 964us/step - loss: 1.1061 - accuracy: 0.7111\n",
      "Epoch 51/100\n",
      "1705/1705 [==============================] - 2s 1ms/step - loss: 1.1053 - accuracy: 0.7110\n",
      "Epoch 52/100\n",
      "1705/1705 [==============================] - 2s 1ms/step - loss: 1.1052 - accuracy: 0.7109\n",
      "Epoch 53/100\n",
      "1705/1705 [==============================] - 2s 1ms/step - loss: 1.1044 - accuracy: 0.7111\n",
      "Epoch 54/100\n",
      "1705/1705 [==============================] - 2s 974us/step - loss: 1.1047 - accuracy: 0.7110\n",
      "Epoch 55/100\n",
      "1705/1705 [==============================] - 2s 968us/step - loss: 1.1043 - accuracy: 0.7111\n",
      "Epoch 56/100\n",
      "1705/1705 [==============================] - 2s 965us/step - loss: 1.1039 - accuracy: 0.7109\n",
      "Epoch 57/100\n",
      "1705/1705 [==============================] - 2s 967us/step - loss: 1.1037 - accuracy: 0.7111\n",
      "Epoch 58/100\n",
      "1705/1705 [==============================] - 2s 965us/step - loss: 1.1036 - accuracy: 0.7110\n",
      "Epoch 59/100\n",
      "1705/1705 [==============================] - 2s 963us/step - loss: 1.1032 - accuracy: 0.7114\n",
      "Epoch 60/100\n",
      "1705/1705 [==============================] - 2s 971us/step - loss: 1.1022 - accuracy: 0.7113\n",
      "Epoch 61/100\n",
      "1705/1705 [==============================] - 2s 1ms/step - loss: 1.1024 - accuracy: 0.7113\n",
      "Epoch 62/100\n",
      "1705/1705 [==============================] - 2s 967us/step - loss: 1.1020 - accuracy: 0.7116\n",
      "Epoch 63/100\n",
      "1705/1705 [==============================] - 2s 963us/step - loss: 1.1017 - accuracy: 0.7116\n",
      "Epoch 64/100\n",
      "1705/1705 [==============================] - 2s 976us/step - loss: 1.1027 - accuracy: 0.7115\n",
      "Epoch 65/100\n",
      "1705/1705 [==============================] - 2s 969us/step - loss: 1.1007 - accuracy: 0.7116\n",
      "Epoch 66/100\n",
      "1705/1705 [==============================] - 2s 964us/step - loss: 1.1001 - accuracy: 0.7117\n",
      "Epoch 67/100\n",
      "1705/1705 [==============================] - 2s 968us/step - loss: 1.1007 - accuracy: 0.7115\n",
      "Epoch 68/100\n",
      "1705/1705 [==============================] - 2s 968us/step - loss: 1.1003 - accuracy: 0.7118\n",
      "Epoch 69/100\n",
      "1705/1705 [==============================] - 2s 968us/step - loss: 1.1000 - accuracy: 0.7118\n",
      "Epoch 70/100\n",
      "1705/1705 [==============================] - 2s 967us/step - loss: 1.0998 - accuracy: 0.7119\n",
      "Epoch 71/100\n",
      "1705/1705 [==============================] - 2s 982us/step - loss: 1.0984 - accuracy: 0.7117\n",
      "Epoch 72/100\n",
      "1705/1705 [==============================] - 2s 968us/step - loss: 1.0987 - accuracy: 0.7117\n",
      "Epoch 73/100\n",
      "1705/1705 [==============================] - 2s 973us/step - loss: 1.0991 - accuracy: 0.7120\n",
      "Epoch 74/100\n",
      "1705/1705 [==============================] - 2s 962us/step - loss: 1.0982 - accuracy: 0.7120\n",
      "Epoch 75/100\n",
      "1705/1705 [==============================] - 2s 964us/step - loss: 1.0983 - accuracy: 0.7119\n",
      "Epoch 76/100\n",
      "1705/1705 [==============================] - 2s 966us/step - loss: 1.0978 - accuracy: 0.7116\n",
      "Epoch 77/100\n",
      "1705/1705 [==============================] - 2s 966us/step - loss: 1.0974 - accuracy: 0.7122\n",
      "Epoch 78/100\n"
     ]
    },
    {
     "name": "stdout",
     "output_type": "stream",
     "text": [
      "1705/1705 [==============================] - 2s 962us/step - loss: 1.0979 - accuracy: 0.7120\n",
      "Epoch 79/100\n",
      "1705/1705 [==============================] - 2s 1ms/step - loss: 1.0973 - accuracy: 0.7118\n",
      "Epoch 80/100\n",
      "1705/1705 [==============================] - 2s 981us/step - loss: 1.0969 - accuracy: 0.7118\n",
      "Epoch 81/100\n",
      "1705/1705 [==============================] - 2s 1ms/step - loss: 1.0964 - accuracy: 0.7122\n",
      "Epoch 82/100\n",
      "1705/1705 [==============================] - 2s 1ms/step - loss: 1.0968 - accuracy: 0.7122\n",
      "Epoch 83/100\n",
      "1705/1705 [==============================] - 2s 960us/step - loss: 1.0971 - accuracy: 0.7123\n",
      "Epoch 84/100\n",
      "1705/1705 [==============================] - 2s 995us/step - loss: 1.0963 - accuracy: 0.7121\n",
      "Epoch 85/100\n",
      "1705/1705 [==============================] - 2s 964us/step - loss: 1.0962 - accuracy: 0.7118\n",
      "Epoch 86/100\n",
      "1705/1705 [==============================] - 2s 959us/step - loss: 1.0964 - accuracy: 0.7123\n",
      "Epoch 87/100\n",
      "1705/1705 [==============================] - 2s 969us/step - loss: 1.0962 - accuracy: 0.7123\n",
      "Epoch 88/100\n",
      "1705/1705 [==============================] - 2s 963us/step - loss: 1.0959 - accuracy: 0.7120\n",
      "Epoch 89/100\n",
      "1705/1705 [==============================] - 2s 963us/step - loss: 1.0951 - accuracy: 0.7123\n",
      "Epoch 90/100\n",
      "1705/1705 [==============================] - 2s 962us/step - loss: 1.0947 - accuracy: 0.7124\n",
      "Epoch 91/100\n",
      "1705/1705 [==============================] - 2s 972us/step - loss: 1.0949 - accuracy: 0.7124\n",
      "Epoch 92/100\n",
      "1705/1705 [==============================] - 2s 1ms/step - loss: 1.0953 - accuracy: 0.7124\n",
      "Epoch 93/100\n",
      "1705/1705 [==============================] - 2s 1ms/step - loss: 1.0953 - accuracy: 0.7124\n",
      "Epoch 94/100\n",
      "1705/1705 [==============================] - 2s 1ms/step - loss: 1.0953 - accuracy: 0.7124\n",
      "Epoch 95/100\n",
      "1705/1705 [==============================] - 2s 988us/step - loss: 1.0943 - accuracy: 0.7124\n",
      "Epoch 96/100\n",
      "1705/1705 [==============================] - 2s 974us/step - loss: 1.0945 - accuracy: 0.7126\n",
      "Epoch 97/100\n",
      "1705/1705 [==============================] - 2s 996us/step - loss: 1.0938 - accuracy: 0.7128\n",
      "Epoch 98/100\n",
      "1705/1705 [==============================] - 2s 968us/step - loss: 1.0935 - accuracy: 0.7129\n",
      "Epoch 99/100\n",
      "1705/1705 [==============================] - 2s 963us/step - loss: 1.0933 - accuracy: 0.7121\n",
      "Epoch 100/100\n",
      "1705/1705 [==============================] - 2s 1ms/step - loss: 1.0933 - accuracy: 0.7129\n"
     ]
    },
    {
     "data": {
      "text/plain": [
       "<keras.callbacks.History at 0x7fc1ac1ed3a0>"
      ]
     },
     "execution_count": 23,
     "metadata": {},
     "output_type": "execute_result"
    }
   ],
   "source": [
    "# model definition\n",
    "model = ml.Sequential()\n",
    "model.add(l.Dense(128, input_dim = X_train.shape[1], activation= 'relu'))\n",
    "model.add(l.Dense(11,  activation= 'softmax'))\n",
    "\n",
    "# model compile\n",
    "model.compile(loss = 'categorical_crossentropy' , optimizer='adam', metrics=['accuracy'])\n",
    "\n",
    "# tain model\n",
    "model.fit(X_train, y_train_nn, epochs=100)"
   ]
  },
  {
   "cell_type": "markdown",
   "id": "87386f6b",
   "metadata": {},
   "source": [
    "# 7.0. NN Performance\n"
   ]
  },
  {
   "cell_type": "code",
   "execution_count": 25,
   "id": "387107da",
   "metadata": {
    "ExecuteTime": {
     "end_time": "2022-03-02T18:58:37.366633Z",
     "start_time": "2022-03-02T18:58:37.036721Z"
    }
   },
   "outputs": [],
   "source": [
    "# prediction\n",
    "pred_nn = model.predict(X_test)\n",
    "\n",
    "# invert Predict\n",
    "yhat_nn = ohe.inverse_transform(pred_nn)\n",
    "\n",
    "# prediction prepare\n",
    "y_test_nn = y_test.to_numpy()\n",
    "yhat_nn = yhat_nn.reshape(1,-1)[0]"
   ]
  },
  {
   "cell_type": "code",
   "execution_count": 29,
   "id": "f51d4b0f",
   "metadata": {
    "ExecuteTime": {
     "end_time": "2022-03-02T19:00:53.526094Z",
     "start_time": "2022-03-02T19:00:52.972755Z"
    }
   },
   "outputs": [
    {
     "name": "stdout",
     "output_type": "stream",
     "text": [
      "Accuracy: 0.7022368903557022\n"
     ]
    },
    {
     "data": {
      "text/plain": [
       "<AxesSubplot:title={'center':'Confusion Matrix'}, xlabel='Predicted label', ylabel='True label'>"
      ]
     },
     "execution_count": 29,
     "metadata": {},
     "output_type": "execute_result"
    },
    {
     "data": {
      "image/png": "[encoded data removed]",
      "text/plain": [
       "<Figure size 864x864 with 2 Axes>"
      ]
     },
     "metadata": {
      "needs_background": "light"
     },
     "output_type": "display_data"
    }
   ],
   "source": [
    "# accuracy\n",
    "acc_nn = m.accuracy_score(y_test_nn, yhat_nn)\n",
    "print('Accuracy: {}'.format(acc_nn))\n",
    "\n",
    "# confusion matrix\n",
    "mt.plot_confusion_matrix(y_test_nn , yhat_nn, normalize=False, figsize=(12,12))"
   ]
  },
  {
   "cell_type": "code",
   "execution_count": null,
   "id": "778b785c",
   "metadata": {},
   "outputs": [],
   "source": []
  },
  {
   "cell_type": "code",
   "execution_count": null,
   "id": "c4c908cb",
   "metadata": {},
   "outputs": [],
   "source": []
  }
 ],
 "metadata": {
  "kernelspec": {
   "display_name": "Python 3 (ipykernel)",
   "language": "python",
   "name": "python3"
  },
  "language_info": {
   "codemirror_mode": {
    "name": "ipython",
    "version": 3
   },
   "file_extension": ".py",
   "mimetype": "text/x-python",
   "name": "python",
   "nbconvert_exporter": "python",
   "pygments_lexer": "ipython3",
   "version": "3.9.7"
  },
  "toc": {
   "base_numbering": 1,
   "nav_menu": {},
   "number_sections": false,
   "sideBar": true,
   "skip_h1_title": false,
   "title_cell": "Table of Contents",
   "title_sidebar": "Contents",
   "toc_cell": false,
   "toc_position": {},
   "toc_section_display": true,
   "toc_window_display": false
  },
  "varInspector": {
   "cols": {
    "lenName": 16,
    "lenType": 16,
    "lenVar": 40
   },
   "kernels_config": {
    "python": {
     "delete_cmd_postfix": "",
     "delete_cmd_prefix": "del ",
     "library": "var_list.py",
     "varRefreshCmd": "print(var_dic_list())"
    },
    "r": {
     "delete_cmd_postfix": ") ",
     "delete_cmd_prefix": "rm(",
     "library": "var_list.r",
     "varRefreshCmd": "cat(var_dic_list()) "
    }
   },
   "types_to_exclude": [
    "module",
    "function",
    "builtin_function_or_method",
    "instance",
    "_Feature"
   ],
   "window_display": false
  }
 },
 "nbformat": 4,
 "nbformat_minor": 5
}
